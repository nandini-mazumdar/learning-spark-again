{
  "nbformat": 4,
  "nbformat_minor": 0,
  "metadata": {
    "colab": {
      "provenance": [],
      "collapsed_sections": [
        "ijNKlpLC2_ju",
        "XuCc7xQc3C94",
        "IoZ_AlyOL8uE",
        "ZalPaaHpMQGV",
        "4jsvF_7FNBhy",
        "14OHZo6iM9lh",
        "8GRyICpUOFC_",
        "yDI2JdV3Q8-Y",
        "iLoDqPTUREZc",
        "Aq8bc_e5RLjd",
        "dJpHVeATSzGo",
        "AfJC33EwS0-7",
        "K3LyitvXuwwU",
        "e0N9H0qUUwFF",
        "FKZUY0tweYUZ",
        "XcjX_-oYvDJ1",
        "coXC_7syNwcu",
        "LAce7VjtP3YC",
        "b0wikNn2P7gN",
        "so_IpdT7O364"
      ],
      "toc_visible": true,
      "mount_file_id": "1zI9fV-i2besK1O2qfJ0Z24W6OSN5URW-",
      "authorship_tag": "ABX9TyOXnU2Ap/g3ucmdL1CnYMQ5",
      "include_colab_link": true
    },
    "kernelspec": {
      "name": "python3",
      "display_name": "Python 3"
    },
    "language_info": {
      "name": "python"
    }
  },
  "cells": [
    {
      "cell_type": "markdown",
      "metadata": {
        "id": "view-in-github",
        "colab_type": "text"
      },
      "source": [
        "<a href=\"https://colab.research.google.com/github/nandini-mazumdar/learning-spark-again/blob/main/Intro_to_Spark_Chap_5.ipynb\" target=\"_parent\"><img src=\"https://colab.research.google.com/assets/colab-badge.svg\" alt=\"Open In Colab\"/></a>"
      ]
    },
    {
      "cell_type": "markdown",
      "source": [
        "##Setup Spark Context"
      ],
      "metadata": {
        "id": "x7PfTMj-RAuD"
      }
    },
    {
      "cell_type": "code",
      "source": [
        "!apt-get install openjdk-8-jdk-headless -qq > /dev/null\n",
        "!wget -q http://archive.apache.org/dist/spark/spark-3.1.1/spark-3.1.1-bin-hadoop3.2.tgz\n",
        "!tar xf spark-3.1.1-bin-hadoop3.2.tgz\n",
        "!pip install -q findspark"
      ],
      "metadata": {
        "id": "CybOHUnNDHP6"
      },
      "execution_count": null,
      "outputs": []
    },
    {
      "cell_type": "code",
      "source": [
        "import os\n",
        "os.environ[\"JAVA_HOME\"] = \"/usr/lib/jvm/java-8-openjdk-amd64\"\n",
        "os.environ[\"SPARK_HOME\"] = \"/content/spark-3.1.1-bin-hadoop3.2\""
      ],
      "metadata": {
        "id": "F7LxPp3QDISJ"
      },
      "execution_count": null,
      "outputs": []
    },
    {
      "cell_type": "code",
      "source": [
        "import sys\n",
        "\n",
        "os.environ[\"PYSPARK_PYTHON\"] = sys.executable\n",
        "os.environ[\"PYSPARK_DRIVER_PYTHON\"] = sys.executable"
      ],
      "metadata": {
        "id": "Yq5SjjGbnrVm"
      },
      "execution_count": null,
      "outputs": []
    },
    {
      "cell_type": "code",
      "execution_count": null,
      "metadata": {
        "colab": {
          "base_uri": "https://localhost:8080/",
          "height": 219
        },
        "id": "Dbpx3XKdBSrg",
        "outputId": "ea51a32e-ca97-4a2c-cb50-276356137419"
      },
      "outputs": [
        {
          "output_type": "execute_result",
          "data": {
            "text/plain": [
              "<pyspark.sql.session.SparkSession at 0x7f198c4abe80>"
            ],
            "text/html": [
              "\n",
              "            <div>\n",
              "                <p><b>SparkSession - in-memory</b></p>\n",
              "                \n",
              "        <div>\n",
              "            <p><b>SparkContext</b></p>\n",
              "\n",
              "            <p><a href=\"http://3c5048a84bf3:4040\">Spark UI</a></p>\n",
              "\n",
              "            <dl>\n",
              "              <dt>Version</dt>\n",
              "                <dd><code>v3.1.1</code></dd>\n",
              "              <dt>Master</dt>\n",
              "                <dd><code>local[*]</code></dd>\n",
              "              <dt>AppName</dt>\n",
              "                <dd><code>pyspark-shell</code></dd>\n",
              "            </dl>\n",
              "        </div>\n",
              "        \n",
              "            </div>\n",
              "        "
            ]
          },
          "metadata": {},
          "execution_count": 5
        }
      ],
      "source": [
        "import findspark\n",
        "findspark.init()\n",
        "\n",
        "from pyspark.sql import SparkSession\n",
        "spark = SparkSession.builder.master(\"local[*]\").getOrCreate()\n",
        "spark.conf.set(\"spark.sql.repl.eagerEval.enabled\", True) # Property used to format output tables better\n",
        "spark"
      ]
    },
    {
      "cell_type": "markdown",
      "source": [
        "##Dataframe API"
      ],
      "metadata": {
        "id": "ijNKlpLC2_ju"
      }
    },
    {
      "cell_type": "markdown",
      "source": [
        "###Reading Data"
      ],
      "metadata": {
        "id": "XuCc7xQc3C94"
      }
    },
    {
      "cell_type": "code",
      "source": [
        "df = spark.read.json('/content/drive/MyDrive/Colab Notebooks/LinkedIn_Learining_Intro_to_Spark_Data/utilization.json')\n",
        "df.show(10)"
      ],
      "metadata": {
        "colab": {
          "base_uri": "https://localhost:8080/",
          "height": 346
        },
        "id": "D2SEdvCc05XE",
        "outputId": "5968131c-a5eb-4799-d789-d5357b91fafa"
      },
      "execution_count": null,
      "outputs": [
        {
          "output_type": "error",
          "ename": "KeyboardInterrupt",
          "evalue": "ignored",
          "traceback": [
            "\u001b[0;31m---------------------------------------------------------------------------\u001b[0m",
            "\u001b[0;31mKeyboardInterrupt\u001b[0m                         Traceback (most recent call last)",
            "\u001b[0;32m<ipython-input-57-2ff93dd24cc0>\u001b[0m in \u001b[0;36m<cell line: 1>\u001b[0;34m()\u001b[0m\n\u001b[0;32m----> 1\u001b[0;31m \u001b[0mdf\u001b[0m \u001b[0;34m=\u001b[0m \u001b[0mspark\u001b[0m\u001b[0;34m.\u001b[0m\u001b[0mread\u001b[0m\u001b[0;34m.\u001b[0m\u001b[0mjson\u001b[0m\u001b[0;34m(\u001b[0m\u001b[0;34m'/content/drive/MyDrive/Colab Notebooks/LinkedIn_Learining_Intro_to_Spark_Data/utilization.json'\u001b[0m\u001b[0;34m)\u001b[0m\u001b[0;34m\u001b[0m\u001b[0;34m\u001b[0m\u001b[0m\n\u001b[0m\u001b[1;32m      2\u001b[0m \u001b[0mdf\u001b[0m\u001b[0;34m.\u001b[0m\u001b[0mshow\u001b[0m\u001b[0;34m(\u001b[0m\u001b[0;36m10\u001b[0m\u001b[0;34m)\u001b[0m\u001b[0;34m\u001b[0m\u001b[0;34m\u001b[0m\u001b[0m\n",
            "\u001b[0;32m/content/spark-3.1.1-bin-hadoop3.2/python/pyspark/sql/readwriter.py\u001b[0m in \u001b[0;36mjson\u001b[0;34m(self, path, schema, primitivesAsString, prefersDecimal, allowComments, allowUnquotedFieldNames, allowSingleQuotes, allowNumericLeadingZero, allowBackslashEscapingAnyCharacter, mode, columnNameOfCorruptRecord, dateFormat, timestampFormat, multiLine, allowUnquotedControlChars, lineSep, samplingRatio, dropFieldIfAllNull, encoding, locale, pathGlobFilter, recursiveFileLookup, allowNonNumericNumbers, modifiedBefore, modifiedAfter)\u001b[0m\n\u001b[1;32m    370\u001b[0m             \u001b[0mpath\u001b[0m \u001b[0;34m=\u001b[0m \u001b[0;34m[\u001b[0m\u001b[0mpath\u001b[0m\u001b[0;34m]\u001b[0m\u001b[0;34m\u001b[0m\u001b[0;34m\u001b[0m\u001b[0m\n\u001b[1;32m    371\u001b[0m         \u001b[0;32mif\u001b[0m \u001b[0mtype\u001b[0m\u001b[0;34m(\u001b[0m\u001b[0mpath\u001b[0m\u001b[0;34m)\u001b[0m \u001b[0;34m==\u001b[0m \u001b[0mlist\u001b[0m\u001b[0;34m:\u001b[0m\u001b[0;34m\u001b[0m\u001b[0;34m\u001b[0m\u001b[0m\n\u001b[0;32m--> 372\u001b[0;31m             \u001b[0;32mreturn\u001b[0m \u001b[0mself\u001b[0m\u001b[0;34m.\u001b[0m\u001b[0m_df\u001b[0m\u001b[0;34m(\u001b[0m\u001b[0mself\u001b[0m\u001b[0;34m.\u001b[0m\u001b[0m_jreader\u001b[0m\u001b[0;34m.\u001b[0m\u001b[0mjson\u001b[0m\u001b[0;34m(\u001b[0m\u001b[0mself\u001b[0m\u001b[0;34m.\u001b[0m\u001b[0m_spark\u001b[0m\u001b[0;34m.\u001b[0m\u001b[0m_sc\u001b[0m\u001b[0;34m.\u001b[0m\u001b[0m_jvm\u001b[0m\u001b[0;34m.\u001b[0m\u001b[0mPythonUtils\u001b[0m\u001b[0;34m.\u001b[0m\u001b[0mtoSeq\u001b[0m\u001b[0;34m(\u001b[0m\u001b[0mpath\u001b[0m\u001b[0;34m)\u001b[0m\u001b[0;34m)\u001b[0m\u001b[0;34m)\u001b[0m\u001b[0;34m\u001b[0m\u001b[0;34m\u001b[0m\u001b[0m\n\u001b[0m\u001b[1;32m    373\u001b[0m         \u001b[0;32melif\u001b[0m \u001b[0misinstance\u001b[0m\u001b[0;34m(\u001b[0m\u001b[0mpath\u001b[0m\u001b[0;34m,\u001b[0m \u001b[0mRDD\u001b[0m\u001b[0;34m)\u001b[0m\u001b[0;34m:\u001b[0m\u001b[0;34m\u001b[0m\u001b[0;34m\u001b[0m\u001b[0m\n\u001b[1;32m    374\u001b[0m             \u001b[0;32mdef\u001b[0m \u001b[0mfunc\u001b[0m\u001b[0;34m(\u001b[0m\u001b[0miterator\u001b[0m\u001b[0;34m)\u001b[0m\u001b[0;34m:\u001b[0m\u001b[0;34m\u001b[0m\u001b[0;34m\u001b[0m\u001b[0m\n",
            "\u001b[0;32m/content/spark-3.1.1-bin-hadoop3.2/python/lib/py4j-0.10.9-src.zip/py4j/java_gateway.py\u001b[0m in \u001b[0;36m__call__\u001b[0;34m(self, *args)\u001b[0m\n\u001b[1;32m   1301\u001b[0m             \u001b[0mproto\u001b[0m\u001b[0;34m.\u001b[0m\u001b[0mEND_COMMAND_PART\u001b[0m\u001b[0;34m\u001b[0m\u001b[0;34m\u001b[0m\u001b[0m\n\u001b[1;32m   1302\u001b[0m \u001b[0;34m\u001b[0m\u001b[0m\n\u001b[0;32m-> 1303\u001b[0;31m         \u001b[0manswer\u001b[0m \u001b[0;34m=\u001b[0m \u001b[0mself\u001b[0m\u001b[0;34m.\u001b[0m\u001b[0mgateway_client\u001b[0m\u001b[0;34m.\u001b[0m\u001b[0msend_command\u001b[0m\u001b[0;34m(\u001b[0m\u001b[0mcommand\u001b[0m\u001b[0;34m)\u001b[0m\u001b[0;34m\u001b[0m\u001b[0;34m\u001b[0m\u001b[0m\n\u001b[0m\u001b[1;32m   1304\u001b[0m         return_value = get_return_value(\n\u001b[1;32m   1305\u001b[0m             answer, self.gateway_client, self.target_id, self.name)\n",
            "\u001b[0;32m/content/spark-3.1.1-bin-hadoop3.2/python/lib/py4j-0.10.9-src.zip/py4j/java_gateway.py\u001b[0m in \u001b[0;36msend_command\u001b[0;34m(self, command, retry, binary)\u001b[0m\n\u001b[1;32m   1031\u001b[0m         \u001b[0mconnection\u001b[0m \u001b[0;34m=\u001b[0m \u001b[0mself\u001b[0m\u001b[0;34m.\u001b[0m\u001b[0m_get_connection\u001b[0m\u001b[0;34m(\u001b[0m\u001b[0;34m)\u001b[0m\u001b[0;34m\u001b[0m\u001b[0;34m\u001b[0m\u001b[0m\n\u001b[1;32m   1032\u001b[0m         \u001b[0;32mtry\u001b[0m\u001b[0;34m:\u001b[0m\u001b[0;34m\u001b[0m\u001b[0;34m\u001b[0m\u001b[0m\n\u001b[0;32m-> 1033\u001b[0;31m             \u001b[0mresponse\u001b[0m \u001b[0;34m=\u001b[0m \u001b[0mconnection\u001b[0m\u001b[0;34m.\u001b[0m\u001b[0msend_command\u001b[0m\u001b[0;34m(\u001b[0m\u001b[0mcommand\u001b[0m\u001b[0;34m)\u001b[0m\u001b[0;34m\u001b[0m\u001b[0;34m\u001b[0m\u001b[0m\n\u001b[0m\u001b[1;32m   1034\u001b[0m             \u001b[0;32mif\u001b[0m \u001b[0mbinary\u001b[0m\u001b[0;34m:\u001b[0m\u001b[0;34m\u001b[0m\u001b[0;34m\u001b[0m\u001b[0m\n\u001b[1;32m   1035\u001b[0m                 \u001b[0;32mreturn\u001b[0m \u001b[0mresponse\u001b[0m\u001b[0;34m,\u001b[0m \u001b[0mself\u001b[0m\u001b[0;34m.\u001b[0m\u001b[0m_create_connection_guard\u001b[0m\u001b[0;34m(\u001b[0m\u001b[0mconnection\u001b[0m\u001b[0;34m)\u001b[0m\u001b[0;34m\u001b[0m\u001b[0;34m\u001b[0m\u001b[0m\n",
            "\u001b[0;32m/content/spark-3.1.1-bin-hadoop3.2/python/lib/py4j-0.10.9-src.zip/py4j/java_gateway.py\u001b[0m in \u001b[0;36msend_command\u001b[0;34m(self, command)\u001b[0m\n\u001b[1;32m   1198\u001b[0m \u001b[0;34m\u001b[0m\u001b[0m\n\u001b[1;32m   1199\u001b[0m         \u001b[0;32mtry\u001b[0m\u001b[0;34m:\u001b[0m\u001b[0;34m\u001b[0m\u001b[0;34m\u001b[0m\u001b[0m\n\u001b[0;32m-> 1200\u001b[0;31m             \u001b[0manswer\u001b[0m \u001b[0;34m=\u001b[0m \u001b[0msmart_decode\u001b[0m\u001b[0;34m(\u001b[0m\u001b[0mself\u001b[0m\u001b[0;34m.\u001b[0m\u001b[0mstream\u001b[0m\u001b[0;34m.\u001b[0m\u001b[0mreadline\u001b[0m\u001b[0;34m(\u001b[0m\u001b[0;34m)\u001b[0m\u001b[0;34m[\u001b[0m\u001b[0;34m:\u001b[0m\u001b[0;34m-\u001b[0m\u001b[0;36m1\u001b[0m\u001b[0;34m]\u001b[0m\u001b[0;34m)\u001b[0m\u001b[0;34m\u001b[0m\u001b[0;34m\u001b[0m\u001b[0m\n\u001b[0m\u001b[1;32m   1201\u001b[0m             \u001b[0mlogger\u001b[0m\u001b[0;34m.\u001b[0m\u001b[0mdebug\u001b[0m\u001b[0;34m(\u001b[0m\u001b[0;34m\"Answer received: {0}\"\u001b[0m\u001b[0;34m.\u001b[0m\u001b[0mformat\u001b[0m\u001b[0;34m(\u001b[0m\u001b[0manswer\u001b[0m\u001b[0;34m)\u001b[0m\u001b[0;34m)\u001b[0m\u001b[0;34m\u001b[0m\u001b[0;34m\u001b[0m\u001b[0m\n\u001b[1;32m   1202\u001b[0m             \u001b[0;32mif\u001b[0m \u001b[0manswer\u001b[0m\u001b[0;34m.\u001b[0m\u001b[0mstartswith\u001b[0m\u001b[0;34m(\u001b[0m\u001b[0mproto\u001b[0m\u001b[0;34m.\u001b[0m\u001b[0mRETURN_MESSAGE\u001b[0m\u001b[0;34m)\u001b[0m\u001b[0;34m:\u001b[0m\u001b[0;34m\u001b[0m\u001b[0;34m\u001b[0m\u001b[0m\n",
            "\u001b[0;32m/usr/lib/python3.10/socket.py\u001b[0m in \u001b[0;36mreadinto\u001b[0;34m(self, b)\u001b[0m\n\u001b[1;32m    703\u001b[0m         \u001b[0;32mwhile\u001b[0m \u001b[0;32mTrue\u001b[0m\u001b[0;34m:\u001b[0m\u001b[0;34m\u001b[0m\u001b[0;34m\u001b[0m\u001b[0m\n\u001b[1;32m    704\u001b[0m             \u001b[0;32mtry\u001b[0m\u001b[0;34m:\u001b[0m\u001b[0;34m\u001b[0m\u001b[0;34m\u001b[0m\u001b[0m\n\u001b[0;32m--> 705\u001b[0;31m                 \u001b[0;32mreturn\u001b[0m \u001b[0mself\u001b[0m\u001b[0;34m.\u001b[0m\u001b[0m_sock\u001b[0m\u001b[0;34m.\u001b[0m\u001b[0mrecv_into\u001b[0m\u001b[0;34m(\u001b[0m\u001b[0mb\u001b[0m\u001b[0;34m)\u001b[0m\u001b[0;34m\u001b[0m\u001b[0;34m\u001b[0m\u001b[0m\n\u001b[0m\u001b[1;32m    706\u001b[0m             \u001b[0;32mexcept\u001b[0m \u001b[0mtimeout\u001b[0m\u001b[0;34m:\u001b[0m\u001b[0;34m\u001b[0m\u001b[0;34m\u001b[0m\u001b[0m\n\u001b[1;32m    707\u001b[0m                 \u001b[0mself\u001b[0m\u001b[0;34m.\u001b[0m\u001b[0m_timeout_occurred\u001b[0m \u001b[0;34m=\u001b[0m \u001b[0;32mTrue\u001b[0m\u001b[0;34m\u001b[0m\u001b[0;34m\u001b[0m\u001b[0m\n",
            "\u001b[0;31mKeyboardInterrupt\u001b[0m: "
          ]
        }
      ]
    },
    {
      "cell_type": "code",
      "source": [
        "df.count()"
      ],
      "metadata": {
        "id": "E_aiBvbR1wQU"
      },
      "execution_count": null,
      "outputs": []
    },
    {
      "cell_type": "markdown",
      "source": [
        "###Summary Stats"
      ],
      "metadata": {
        "id": "IoZ_AlyOL8uE"
      }
    },
    {
      "cell_type": "code",
      "source": [
        "#Summary Stats\n",
        "\n",
        "df.describe().show()"
      ],
      "metadata": {
        "id": "U6ul1OASJvTo"
      },
      "execution_count": null,
      "outputs": []
    },
    {
      "cell_type": "code",
      "source": [
        "df.stat.corr('cpu_utilization','free_memory')"
      ],
      "metadata": {
        "id": "gxIk8hBDJvV6"
      },
      "execution_count": null,
      "outputs": []
    },
    {
      "cell_type": "code",
      "source": [
        "df.stat.corr('session_count','free_memory')"
      ],
      "metadata": {
        "id": "X1byybPKJvYC"
      },
      "execution_count": null,
      "outputs": []
    },
    {
      "cell_type": "code",
      "source": [
        "df.stat.corr('session_count','cpu_utilization')"
      ],
      "metadata": {
        "id": "qwthQT9VJvaO"
      },
      "execution_count": null,
      "outputs": []
    },
    {
      "cell_type": "code",
      "source": [
        "df.stat.freqItems(['server_id','session_count']).show()"
      ],
      "metadata": {
        "id": "Xg4OWxrmLfRD"
      },
      "execution_count": null,
      "outputs": []
    },
    {
      "cell_type": "code",
      "source": [
        "df_samp = df.sample(fraction=0.05, withReplacement=False)\n",
        "df_samp.count()"
      ],
      "metadata": {
        "id": "qo4Ux0spLfTp"
      },
      "execution_count": null,
      "outputs": []
    },
    {
      "cell_type": "markdown",
      "source": [
        "#Spark SQL"
      ],
      "metadata": {
        "id": "hBfi2zqeJdeY"
      }
    },
    {
      "cell_type": "markdown",
      "source": [
        "##Reading Data"
      ],
      "metadata": {
        "id": "ZalPaaHpMQGV"
      }
    },
    {
      "cell_type": "code",
      "source": [
        "df.createOrReplaceTempView(\"utilization\")"
      ],
      "metadata": {
        "id": "ia4DLg7U185T"
      },
      "execution_count": null,
      "outputs": []
    },
    {
      "cell_type": "code",
      "source": [
        "spark.sql('Select min(cpu_utilization), max(cpu_utilization), stddev(cpu_utilization) \\\n",
        "            From utilization').show()"
      ],
      "metadata": {
        "colab": {
          "base_uri": "https://localhost:8080/"
        },
        "id": "WzmIi2DYMTGP",
        "outputId": "70ef1a17-3fec-4bfc-993b-de406e1ee807"
      },
      "execution_count": null,
      "outputs": [
        {
          "output_type": "stream",
          "name": "stdout",
          "text": [
            "+--------------------+--------------------+-----------------------+\n",
            "|min(cpu_utilization)|max(cpu_utilization)|stddev(cpu_utilization)|\n",
            "+--------------------+--------------------+-----------------------+\n",
            "|                0.22|                 1.0|     0.1587517387291305|\n",
            "+--------------------+--------------------+-----------------------+\n",
            "\n"
          ]
        }
      ]
    },
    {
      "cell_type": "markdown",
      "source": [
        "##Summary Stats"
      ],
      "metadata": {
        "id": "4jsvF_7FNBhy"
      }
    },
    {
      "cell_type": "code",
      "source": [
        "spark.sql('Select server_id, \\\n",
        "            min(cpu_utilization), \\\n",
        "            max(cpu_utilization), \\\n",
        "            round(stddev(cpu_utilization),2) \\\n",
        "            From utilization \\\n",
        "            Group By server_id').show()"
      ],
      "metadata": {
        "colab": {
          "base_uri": "https://localhost:8080/"
        },
        "id": "l-TqdKnqMpJz",
        "outputId": "a18b085d-1ad1-4edc-ac79-f64f64b1e2f2"
      },
      "execution_count": null,
      "outputs": [
        {
          "output_type": "stream",
          "name": "stdout",
          "text": [
            "+---------+--------------------+--------------------+---------------------------------+\n",
            "|server_id|min(cpu_utilization)|max(cpu_utilization)|round(stddev(cpu_utilization), 2)|\n",
            "+---------+--------------------+--------------------+---------------------------------+\n",
            "|      112|                0.52|                0.92|                             0.12|\n",
            "|      113|                0.58|                0.98|                             0.12|\n",
            "|      130|                0.35|                0.75|                             0.12|\n",
            "|      126|                0.48|                0.88|                             0.12|\n",
            "|      149|                0.54|                0.94|                             0.12|\n",
            "|      110|                0.35|                0.75|                             0.12|\n",
            "|      136|                0.41|                 0.8|                             0.12|\n",
            "|      144|                0.47|                0.87|                             0.11|\n",
            "|      119|                0.22|                0.62|                             0.12|\n",
            "|      116|                 0.3|                 0.7|                             0.12|\n",
            "|      145|                0.58|                0.98|                             0.11|\n",
            "|      124|                0.24|                0.64|                             0.12|\n",
            "|      143|                0.26|                0.66|                             0.12|\n",
            "|      107|                0.45|                0.85|                             0.12|\n",
            "|      146|                 0.5|                 0.9|                             0.11|\n",
            "|      103|                0.56|                0.96|                             0.12|\n",
            "|      139|                0.51|                0.91|                             0.12|\n",
            "|      138|                0.24|                0.64|                             0.12|\n",
            "|      114|                0.33|                0.73|                             0.12|\n",
            "|      115|                0.44|                0.84|                             0.12|\n",
            "+---------+--------------------+--------------------+---------------------------------+\n",
            "only showing top 20 rows\n",
            "\n"
          ]
        }
      ]
    },
    {
      "cell_type": "markdown",
      "source": [
        "##Histograms or Binning"
      ],
      "metadata": {
        "id": "14OHZo6iM9lh"
      }
    },
    {
      "cell_type": "code",
      "source": [
        "spark.sql('Select server_id, floor(cpu_utilization*100/10) bucket From Utilization').show()"
      ],
      "metadata": {
        "colab": {
          "base_uri": "https://localhost:8080/"
        },
        "id": "iOePuPIdMpUV",
        "outputId": "aacb5fe2-f2e6-499a-95e8-602d47d076a6"
      },
      "execution_count": null,
      "outputs": [
        {
          "output_type": "stream",
          "name": "stdout",
          "text": [
            "+---------+------+\n",
            "|server_id|bucket|\n",
            "+---------+------+\n",
            "|      100|     5|\n",
            "|      100|     4|\n",
            "|      100|     5|\n",
            "|      100|     5|\n",
            "|      100|     3|\n",
            "|      100|     4|\n",
            "|      100|     5|\n",
            "|      100|     4|\n",
            "|      100|     5|\n",
            "|      100|     5|\n",
            "|      100|     3|\n",
            "|      100|     6|\n",
            "|      100|     6|\n",
            "|      100|     5|\n",
            "|      100|     2|\n",
            "|      100|     4|\n",
            "|      100|     4|\n",
            "|      100|     6|\n",
            "|      100|     4|\n",
            "|      100|     5|\n",
            "+---------+------+\n",
            "only showing top 20 rows\n",
            "\n"
          ]
        }
      ]
    },
    {
      "cell_type": "code",
      "source": [
        "spark.sql('Select floor(cpu_utilization*100/10) bucket, count(*) From Utilization Group by bucket Order by bucket').show()"
      ],
      "metadata": {
        "colab": {
          "base_uri": "https://localhost:8080/"
        },
        "id": "u_FxVbSXMpWj",
        "outputId": "445aec53-61ba-41dc-958e-b535b765e577"
      },
      "execution_count": null,
      "outputs": [
        {
          "output_type": "stream",
          "name": "stdout",
          "text": [
            "+------+--------+\n",
            "|bucket|count(1)|\n",
            "+------+--------+\n",
            "|     2|    8186|\n",
            "|     3|   37029|\n",
            "|     4|   68046|\n",
            "|     5|  104910|\n",
            "|     6|  116725|\n",
            "|     7|   88242|\n",
            "|     8|   56598|\n",
            "|     9|   20207|\n",
            "|    10|      57|\n",
            "+------+--------+\n",
            "\n"
          ]
        }
      ]
    },
    {
      "cell_type": "markdown",
      "source": [
        "#Time Series Analysis : Windowing"
      ],
      "metadata": {
        "id": "8GRyICpUOFC_"
      }
    },
    {
      "cell_type": "code",
      "source": [
        "spark.sql('Select server_id, \\\n",
        "            min(cpu_utilization), \\\n",
        "            max(cpu_utilization), \\\n",
        "            stddev(cpu_utilization) \\\n",
        "            From Utilization Group by server_id').show()"
      ],
      "metadata": {
        "colab": {
          "base_uri": "https://localhost:8080/"
        },
        "id": "JW96xyeIMpYn",
        "outputId": "b82531b1-60c7-420f-f1c0-de40b3c1bc92"
      },
      "execution_count": null,
      "outputs": [
        {
          "output_type": "stream",
          "name": "stdout",
          "text": [
            "+---------+--------------------+--------------------+-----------------------+\n",
            "|server_id|min(cpu_utilization)|max(cpu_utilization)|stddev(cpu_utilization)|\n",
            "+---------+--------------------+--------------------+-----------------------+\n",
            "|      112|                0.52|                0.92|    0.11528867845082576|\n",
            "|      113|                0.58|                0.98|    0.11544345150353694|\n",
            "|      130|                0.35|                0.75|    0.11568834774245991|\n",
            "|      126|                0.48|                0.88|    0.11542612970702058|\n",
            "|      149|                0.54|                0.94|    0.11543517500295467|\n",
            "|      110|                0.35|                0.75|    0.11533251724450215|\n",
            "|      136|                0.41|                 0.8|    0.11597405743182258|\n",
            "|      144|                0.47|                0.87|    0.11478654960489501|\n",
            "|      119|                0.22|                0.62|    0.11516031929842008|\n",
            "|      116|                 0.3|                 0.7|    0.11506079722349302|\n",
            "|      145|                0.58|                0.98|    0.11476448868786197|\n",
            "|      124|                0.24|                0.64|    0.11579377614906383|\n",
            "|      143|                0.26|                0.66|    0.11616596078044727|\n",
            "|      107|                0.45|                0.85|    0.11597417369783877|\n",
            "|      146|                 0.5|                 0.9|    0.11488129439634706|\n",
            "|      103|                0.56|                0.96|    0.11617507884178278|\n",
            "|      139|                0.51|                0.91|    0.11519660023052102|\n",
            "|      138|                0.24|                0.64|     0.1155955860444133|\n",
            "|      114|                0.33|                0.73|    0.11510268816097273|\n",
            "|      115|                0.44|                0.84|    0.11569664615014985|\n",
            "+---------+--------------------+--------------------+-----------------------+\n",
            "only showing top 20 rows\n",
            "\n"
          ]
        }
      ]
    },
    {
      "cell_type": "markdown",
      "source": [
        "##Average"
      ],
      "metadata": {
        "id": "yDI2JdV3Q8-Y"
      }
    },
    {
      "cell_type": "code",
      "source": [
        "spark.sql('Select event_datetime, server_id, cpu_utilization, \\\n",
        "            avg(cpu_utilization) Over (Partition By server_id) as avg_server_util \\\n",
        "            From utilization').show()"
      ],
      "metadata": {
        "colab": {
          "base_uri": "https://localhost:8080/"
        },
        "id": "UbjZScLhOb05",
        "outputId": "fefa68df-168e-43f5-ef6d-77945fbc846f"
      },
      "execution_count": null,
      "outputs": [
        {
          "output_type": "stream",
          "name": "stdout",
          "text": [
            "+-------------------+---------+---------------+------------------+\n",
            "|     event_datetime|server_id|cpu_utilization|   avg_server_util|\n",
            "+-------------------+---------+---------------+------------------+\n",
            "|03/05/2019 08:06:34|      112|           0.71|0.7153870000000067|\n",
            "|03/05/2019 08:11:34|      112|           0.78|0.7153870000000067|\n",
            "|03/05/2019 08:16:34|      112|           0.87|0.7153870000000067|\n",
            "|03/05/2019 08:21:34|      112|           0.82|0.7153870000000067|\n",
            "|03/05/2019 08:26:34|      112|           0.62|0.7153870000000067|\n",
            "|03/05/2019 08:31:34|      112|            0.9|0.7153870000000067|\n",
            "|03/05/2019 08:36:34|      112|           0.89|0.7153870000000067|\n",
            "|03/05/2019 08:41:34|      112|           0.81|0.7153870000000067|\n",
            "|03/05/2019 08:46:34|      112|           0.88|0.7153870000000067|\n",
            "|03/05/2019 08:51:34|      112|           0.89|0.7153870000000067|\n",
            "|03/05/2019 08:56:34|      112|           0.84|0.7153870000000067|\n",
            "|03/05/2019 09:01:34|      112|           0.71|0.7153870000000067|\n",
            "|03/05/2019 09:06:34|      112|           0.85|0.7153870000000067|\n",
            "|03/05/2019 09:11:34|      112|           0.72|0.7153870000000067|\n",
            "|03/05/2019 09:16:34|      112|           0.54|0.7153870000000067|\n",
            "|03/05/2019 09:21:34|      112|           0.58|0.7153870000000067|\n",
            "|03/05/2019 09:26:34|      112|           0.73|0.7153870000000067|\n",
            "|03/05/2019 09:31:34|      112|           0.86|0.7153870000000067|\n",
            "|03/05/2019 09:36:34|      112|           0.63|0.7153870000000067|\n",
            "|03/05/2019 09:41:34|      112|           0.75|0.7153870000000067|\n",
            "+-------------------+---------+---------------+------------------+\n",
            "only showing top 20 rows\n",
            "\n"
          ]
        }
      ]
    },
    {
      "cell_type": "markdown",
      "source": [
        "##Delta Difference"
      ],
      "metadata": {
        "id": "iLoDqPTUREZc"
      }
    },
    {
      "cell_type": "code",
      "source": [
        "spark.sql('Select event_datetime, server_id, cpu_utilization, \\\n",
        "            round(avg(cpu_utilization) Over (Partition By server_id),2) as avg_server_util, \\\n",
        "            round(cpu_utilization - avg(cpu_utilization) Over (Partition By server_id),3) as delta_server_util \\\n",
        "            From utilization').show()"
      ],
      "metadata": {
        "colab": {
          "base_uri": "https://localhost:8080/"
        },
        "id": "pY7jaDQuO_Pn",
        "outputId": "5fa148a4-cbe1-46f0-a66d-7b5b1d6bb92e"
      },
      "execution_count": null,
      "outputs": [
        {
          "output_type": "stream",
          "name": "stdout",
          "text": [
            "+-------------------+---------+---------------+---------------+-----------------+\n",
            "|     event_datetime|server_id|cpu_utilization|avg_server_util|delta_server_util|\n",
            "+-------------------+---------+---------------+---------------+-----------------+\n",
            "|03/05/2019 08:06:34|      112|           0.71|           0.72|           -0.005|\n",
            "|03/05/2019 08:11:34|      112|           0.78|           0.72|            0.065|\n",
            "|03/05/2019 08:16:34|      112|           0.87|           0.72|            0.155|\n",
            "|03/05/2019 08:21:34|      112|           0.82|           0.72|            0.105|\n",
            "|03/05/2019 08:26:34|      112|           0.62|           0.72|           -0.095|\n",
            "|03/05/2019 08:31:34|      112|            0.9|           0.72|            0.185|\n",
            "|03/05/2019 08:36:34|      112|           0.89|           0.72|            0.175|\n",
            "|03/05/2019 08:41:34|      112|           0.81|           0.72|            0.095|\n",
            "|03/05/2019 08:46:34|      112|           0.88|           0.72|            0.165|\n",
            "|03/05/2019 08:51:34|      112|           0.89|           0.72|            0.175|\n",
            "|03/05/2019 08:56:34|      112|           0.84|           0.72|            0.125|\n",
            "|03/05/2019 09:01:34|      112|           0.71|           0.72|           -0.005|\n",
            "|03/05/2019 09:06:34|      112|           0.85|           0.72|            0.135|\n",
            "|03/05/2019 09:11:34|      112|           0.72|           0.72|            0.005|\n",
            "|03/05/2019 09:16:34|      112|           0.54|           0.72|           -0.175|\n",
            "|03/05/2019 09:21:34|      112|           0.58|           0.72|           -0.135|\n",
            "|03/05/2019 09:26:34|      112|           0.73|           0.72|            0.015|\n",
            "|03/05/2019 09:31:34|      112|           0.86|           0.72|            0.145|\n",
            "|03/05/2019 09:36:34|      112|           0.63|           0.72|           -0.085|\n",
            "|03/05/2019 09:41:34|      112|           0.75|           0.72|            0.035|\n",
            "+-------------------+---------+---------------+---------------+-----------------+\n",
            "only showing top 20 rows\n",
            "\n"
          ]
        }
      ]
    },
    {
      "cell_type": "markdown",
      "source": [
        "##Sliding Window"
      ],
      "metadata": {
        "id": "Aq8bc_e5RLjd"
      }
    },
    {
      "cell_type": "code",
      "source": [
        "spark.sql('Select event_datetime, server_id, cpu_utilization, \\\n",
        "            round(avg(cpu_utilization) Over (Partition By server_id Order by event_datetime \\\n",
        "                                        ROWS BETWEEN 1 PRECEDING AND 1 FOLLOWING),3) AS avg_server_util \\\n",
        "            From utilization').show()"
      ],
      "metadata": {
        "colab": {
          "base_uri": "https://localhost:8080/"
        },
        "id": "R2XXLtpJRMuL",
        "outputId": "04464b3c-ecae-4517-f302-4a24f7841bfc"
      },
      "execution_count": null,
      "outputs": [
        {
          "output_type": "stream",
          "name": "stdout",
          "text": [
            "+-------------------+---------+---------------+---------------+\n",
            "|     event_datetime|server_id|cpu_utilization|avg_server_util|\n",
            "+-------------------+---------+---------------+---------------+\n",
            "|03/05/2019 08:06:34|      112|           0.71|          0.745|\n",
            "|03/05/2019 08:11:34|      112|           0.78|          0.787|\n",
            "|03/05/2019 08:16:34|      112|           0.87|          0.823|\n",
            "|03/05/2019 08:21:34|      112|           0.82|           0.77|\n",
            "|03/05/2019 08:26:34|      112|           0.62|           0.78|\n",
            "|03/05/2019 08:31:34|      112|            0.9|          0.803|\n",
            "|03/05/2019 08:36:34|      112|           0.89|          0.867|\n",
            "|03/05/2019 08:41:34|      112|           0.81|           0.86|\n",
            "|03/05/2019 08:46:34|      112|           0.88|           0.86|\n",
            "|03/05/2019 08:51:34|      112|           0.89|           0.87|\n",
            "|03/05/2019 08:56:34|      112|           0.84|          0.813|\n",
            "|03/05/2019 09:01:34|      112|           0.71|            0.8|\n",
            "|03/05/2019 09:06:34|      112|           0.85|           0.76|\n",
            "|03/05/2019 09:11:34|      112|           0.72|          0.703|\n",
            "|03/05/2019 09:16:34|      112|           0.54|          0.613|\n",
            "|03/05/2019 09:21:34|      112|           0.58|          0.617|\n",
            "|03/05/2019 09:26:34|      112|           0.73|          0.723|\n",
            "|03/05/2019 09:31:34|      112|           0.86|           0.74|\n",
            "|03/05/2019 09:36:34|      112|           0.63|          0.747|\n",
            "|03/05/2019 09:41:34|      112|           0.75|            0.7|\n",
            "+-------------------+---------+---------------+---------------+\n",
            "only showing top 20 rows\n",
            "\n"
          ]
        }
      ]
    },
    {
      "cell_type": "markdown",
      "source": [
        "#Machine Learning"
      ],
      "metadata": {
        "id": "dJpHVeATSzGo"
      }
    },
    {
      "cell_type": "markdown",
      "source": [
        "## Clustering"
      ],
      "metadata": {
        "id": "AfJC33EwS0-7"
      }
    },
    {
      "cell_type": "markdown",
      "source": [
        "###K-Means Clustering"
      ],
      "metadata": {
        "id": "talJ9hMLWLH2"
      }
    },
    {
      "cell_type": "code",
      "source": [
        "from pyspark.ml.linalg import Vectors\n",
        "from pyspark.ml.feature import VectorAssembler\n",
        "from pyspark.ml.clustering import KMeans"
      ],
      "metadata": {
        "id": "DGu9z6aNS0U1"
      },
      "execution_count": null,
      "outputs": []
    },
    {
      "cell_type": "code",
      "source": [
        "cluster_df = spark.read.csv('/content/drive/MyDrive/Colab Notebooks/LinkedIn_Learining_Intro_to_Spark_Data/clustering_dataset.csv',header=True,inferSchema=True)\n",
        "cluster_df.show(10)"
      ],
      "metadata": {
        "colab": {
          "base_uri": "https://localhost:8080/"
        },
        "id": "pTOk9vq5TEF8",
        "outputId": "8b2219b1-fa7d-44fb-e0f5-548a179792b0"
      },
      "execution_count": null,
      "outputs": [
        {
          "output_type": "stream",
          "name": "stdout",
          "text": [
            "+----+----+----+\n",
            "|col1|col2|col3|\n",
            "+----+----+----+\n",
            "|   7|   4|   1|\n",
            "|   7|   7|   9|\n",
            "|   7|   9|   6|\n",
            "|   1|   6|   5|\n",
            "|   6|   7|   7|\n",
            "|   7|   9|   4|\n",
            "|   7|  10|   6|\n",
            "|   7|   8|   2|\n",
            "|   8|   3|   8|\n",
            "|   4|  10|   5|\n",
            "+----+----+----+\n",
            "only showing top 10 rows\n",
            "\n"
          ]
        }
      ]
    },
    {
      "cell_type": "code",
      "source": [
        "# Create a vector\n",
        "vecAssembler = VectorAssembler(inputCols=['col1', 'col2', 'col3'], outputCol=\"features\")"
      ],
      "metadata": {
        "id": "jshfF9dcTFfl"
      },
      "execution_count": null,
      "outputs": []
    },
    {
      "cell_type": "code",
      "source": [
        "# Apply transformation\n",
        "vcluster_df = vecAssembler.transform(cluster_df)\n",
        "vcluster_df.show()"
      ],
      "metadata": {
        "colab": {
          "base_uri": "https://localhost:8080/"
        },
        "id": "POqUy4gBTeXo",
        "outputId": "7f6a3ffc-ebd3-49fb-f771-85e6f01f643f"
      },
      "execution_count": null,
      "outputs": [
        {
          "output_type": "stream",
          "name": "stdout",
          "text": [
            "+----+----+----+--------------+\n",
            "|col1|col2|col3|      features|\n",
            "+----+----+----+--------------+\n",
            "|   7|   4|   1| [7.0,4.0,1.0]|\n",
            "|   7|   7|   9| [7.0,7.0,9.0]|\n",
            "|   7|   9|   6| [7.0,9.0,6.0]|\n",
            "|   1|   6|   5| [1.0,6.0,5.0]|\n",
            "|   6|   7|   7| [6.0,7.0,7.0]|\n",
            "|   7|   9|   4| [7.0,9.0,4.0]|\n",
            "|   7|  10|   6|[7.0,10.0,6.0]|\n",
            "|   7|   8|   2| [7.0,8.0,2.0]|\n",
            "|   8|   3|   8| [8.0,3.0,8.0]|\n",
            "|   4|  10|   5|[4.0,10.0,5.0]|\n",
            "|   7|   4|   5| [7.0,4.0,5.0]|\n",
            "|   7|   8|   4| [7.0,8.0,4.0]|\n",
            "|   2|   5|   1| [2.0,5.0,1.0]|\n",
            "|   2|   6|   2| [2.0,6.0,2.0]|\n",
            "|   2|   3|   8| [2.0,3.0,8.0]|\n",
            "|   3|   9|   1| [3.0,9.0,1.0]|\n",
            "|   4|   2|   9| [4.0,2.0,9.0]|\n",
            "|   1|   7|   1| [1.0,7.0,1.0]|\n",
            "|   6|   2|   3| [6.0,2.0,3.0]|\n",
            "|   4|   1|   9| [4.0,1.0,9.0]|\n",
            "+----+----+----+--------------+\n",
            "only showing top 20 rows\n",
            "\n"
          ]
        }
      ]
    },
    {
      "cell_type": "code",
      "source": [
        "# create K-means object\n",
        "kmeans_obj = KMeans().setK(3).setSeed(1)"
      ],
      "metadata": {
        "id": "M7VfDr_eTyB8"
      },
      "execution_count": null,
      "outputs": []
    },
    {
      "cell_type": "code",
      "source": [
        "# create K-means model\n",
        "kmodel = kmeans_obj.fit(vcluster_df)"
      ],
      "metadata": {
        "id": "LdTxF8zIUJH8"
      },
      "execution_count": null,
      "outputs": []
    },
    {
      "cell_type": "code",
      "source": [
        "# check cluster centers\n",
        "centers = kmodel.clusterCenters()\n",
        "centers"
      ],
      "metadata": {
        "colab": {
          "base_uri": "https://localhost:8080/"
        },
        "id": "Hgss_w12UV7M",
        "outputId": "d9ae13f7-aa34-4c91-9885-9824a8ce6799"
      },
      "execution_count": null,
      "outputs": [
        {
          "output_type": "execute_result",
          "data": {
            "text/plain": [
              "[array([35.88461538, 31.46153846, 34.42307692]),\n",
              " array([80.        , 79.20833333, 78.29166667]),\n",
              " array([5.12, 5.84, 4.84])]"
            ]
          },
          "metadata": {},
          "execution_count": 16
        }
      ]
    },
    {
      "cell_type": "markdown",
      "source": [
        "###Hierarchical Clustering"
      ],
      "metadata": {
        "id": "rXjM54dstA3c"
      }
    },
    {
      "cell_type": "code",
      "source": [
        "vcluster_df"
      ],
      "metadata": {
        "colab": {
          "base_uri": "https://localhost:8080/",
          "height": 514
        },
        "id": "q0mUWxQ8tCx1",
        "outputId": "84810ba3-a40d-4a1c-e727-e76ef2c384a3"
      },
      "execution_count": null,
      "outputs": [
        {
          "output_type": "execute_result",
          "data": {
            "text/plain": [
              "+----+----+----+--------------+\n",
              "|col1|col2|col3|      features|\n",
              "+----+----+----+--------------+\n",
              "|   7|   4|   1| [7.0,4.0,1.0]|\n",
              "|   7|   7|   9| [7.0,7.0,9.0]|\n",
              "|   7|   9|   6| [7.0,9.0,6.0]|\n",
              "|   1|   6|   5| [1.0,6.0,5.0]|\n",
              "|   6|   7|   7| [6.0,7.0,7.0]|\n",
              "|   7|   9|   4| [7.0,9.0,4.0]|\n",
              "|   7|  10|   6|[7.0,10.0,6.0]|\n",
              "|   7|   8|   2| [7.0,8.0,2.0]|\n",
              "|   8|   3|   8| [8.0,3.0,8.0]|\n",
              "|   4|  10|   5|[4.0,10.0,5.0]|\n",
              "|   7|   4|   5| [7.0,4.0,5.0]|\n",
              "|   7|   8|   4| [7.0,8.0,4.0]|\n",
              "|   2|   5|   1| [2.0,5.0,1.0]|\n",
              "|   2|   6|   2| [2.0,6.0,2.0]|\n",
              "|   2|   3|   8| [2.0,3.0,8.0]|\n",
              "|   3|   9|   1| [3.0,9.0,1.0]|\n",
              "|   4|   2|   9| [4.0,2.0,9.0]|\n",
              "|   1|   7|   1| [1.0,7.0,1.0]|\n",
              "|   6|   2|   3| [6.0,2.0,3.0]|\n",
              "|   4|   1|   9| [4.0,1.0,9.0]|\n",
              "+----+----+----+--------------+\n",
              "only showing top 20 rows"
            ],
            "text/html": [
              "<table border='1'>\n",
              "<tr><th>col1</th><th>col2</th><th>col3</th><th>features</th></tr>\n",
              "<tr><td>7</td><td>4</td><td>1</td><td>[7.0,4.0,1.0]</td></tr>\n",
              "<tr><td>7</td><td>7</td><td>9</td><td>[7.0,7.0,9.0]</td></tr>\n",
              "<tr><td>7</td><td>9</td><td>6</td><td>[7.0,9.0,6.0]</td></tr>\n",
              "<tr><td>1</td><td>6</td><td>5</td><td>[1.0,6.0,5.0]</td></tr>\n",
              "<tr><td>6</td><td>7</td><td>7</td><td>[6.0,7.0,7.0]</td></tr>\n",
              "<tr><td>7</td><td>9</td><td>4</td><td>[7.0,9.0,4.0]</td></tr>\n",
              "<tr><td>7</td><td>10</td><td>6</td><td>[7.0,10.0,6.0]</td></tr>\n",
              "<tr><td>7</td><td>8</td><td>2</td><td>[7.0,8.0,2.0]</td></tr>\n",
              "<tr><td>8</td><td>3</td><td>8</td><td>[8.0,3.0,8.0]</td></tr>\n",
              "<tr><td>4</td><td>10</td><td>5</td><td>[4.0,10.0,5.0]</td></tr>\n",
              "<tr><td>7</td><td>4</td><td>5</td><td>[7.0,4.0,5.0]</td></tr>\n",
              "<tr><td>7</td><td>8</td><td>4</td><td>[7.0,8.0,4.0]</td></tr>\n",
              "<tr><td>2</td><td>5</td><td>1</td><td>[2.0,5.0,1.0]</td></tr>\n",
              "<tr><td>2</td><td>6</td><td>2</td><td>[2.0,6.0,2.0]</td></tr>\n",
              "<tr><td>2</td><td>3</td><td>8</td><td>[2.0,3.0,8.0]</td></tr>\n",
              "<tr><td>3</td><td>9</td><td>1</td><td>[3.0,9.0,1.0]</td></tr>\n",
              "<tr><td>4</td><td>2</td><td>9</td><td>[4.0,2.0,9.0]</td></tr>\n",
              "<tr><td>1</td><td>7</td><td>1</td><td>[1.0,7.0,1.0]</td></tr>\n",
              "<tr><td>6</td><td>2</td><td>3</td><td>[6.0,2.0,3.0]</td></tr>\n",
              "<tr><td>4</td><td>1</td><td>9</td><td>[4.0,1.0,9.0]</td></tr>\n",
              "</table>\n",
              "only showing top 20 rows\n"
            ]
          },
          "metadata": {},
          "execution_count": 17
        }
      ]
    },
    {
      "cell_type": "code",
      "source": [
        "from pyspark.ml.clustering import BisectingKMeans"
      ],
      "metadata": {
        "id": "U7YnGCN5tCua"
      },
      "execution_count": null,
      "outputs": []
    },
    {
      "cell_type": "code",
      "source": [
        "bk_means = BisectingKMeans().setK(3).setSeed(1)"
      ],
      "metadata": {
        "id": "RVgBwHAftCsZ"
      },
      "execution_count": null,
      "outputs": []
    },
    {
      "cell_type": "code",
      "source": [
        "# create model\n",
        "bk_model = bk_means.fit(vcluster_df)"
      ],
      "metadata": {
        "id": "uESugRWatpov"
      },
      "execution_count": null,
      "outputs": []
    },
    {
      "cell_type": "code",
      "source": [
        "# check centers\n",
        "bk_centers = bk_model.clusterCenters()"
      ],
      "metadata": {
        "id": "2phzuRaCtphG"
      },
      "execution_count": null,
      "outputs": []
    },
    {
      "cell_type": "code",
      "source": [
        "bk_centers"
      ],
      "metadata": {
        "colab": {
          "base_uri": "https://localhost:8080/"
        },
        "id": "XHr-IcA0tpdm",
        "outputId": "cef86ab7-4832-4ea7-e799-b1133684c350"
      },
      "execution_count": null,
      "outputs": [
        {
          "output_type": "execute_result",
          "data": {
            "text/plain": [
              "[array([5.12, 5.84, 4.84]),\n",
              " array([35.88461538, 31.46153846, 34.42307692]),\n",
              " array([80.        , 79.20833333, 78.29166667])]"
            ]
          },
          "metadata": {},
          "execution_count": 25
        }
      ]
    },
    {
      "cell_type": "code",
      "source": [
        "centers"
      ],
      "metadata": {
        "colab": {
          "base_uri": "https://localhost:8080/"
        },
        "id": "y9H4DhbNtpbK",
        "outputId": "6183bda0-a793-444f-ffa9-606d1fd4ac3c"
      },
      "execution_count": null,
      "outputs": [
        {
          "output_type": "execute_result",
          "data": {
            "text/plain": [
              "[array([35.88461538, 31.46153846, 34.42307692]),\n",
              " array([80.        , 79.20833333, 78.29166667]),\n",
              " array([5.12, 5.84, 4.84])]"
            ]
          },
          "metadata": {},
          "execution_count": 26
        }
      ]
    },
    {
      "cell_type": "code",
      "source": [
        "#Difference between features and each clusterCenter"
      ],
      "metadata": {
        "id": "Y3zgEeDLUZXk"
      },
      "execution_count": null,
      "outputs": []
    },
    {
      "cell_type": "markdown",
      "source": [
        "##Classification"
      ],
      "metadata": {
        "id": "K3LyitvXuwwU"
      }
    },
    {
      "cell_type": "markdown",
      "source": [
        "### Naive Bayes Classifier\n",
        "#### When variables not tightly correlated, i.e independent features"
      ],
      "metadata": {
        "id": "TtoKD6EMTTbO"
      }
    },
    {
      "cell_type": "code",
      "source": [
        "from pyspark.sql.functions import *\n",
        "from pyspark.ml.feature import VectorAssembler\n",
        "from pyspark.ml.feature import StringIndexer"
      ],
      "metadata": {
        "id": "qom1IY9tQMXE"
      },
      "execution_count": null,
      "outputs": []
    },
    {
      "cell_type": "code",
      "source": [
        "iris_df = spark.read.csv('/content/drive/MyDrive/Colab Notebooks/LinkedIn_Learining_Intro_to_Spark_Data/iris.data',inferSchema=True)\n",
        "iris_df.take(1)"
      ],
      "metadata": {
        "id": "MEktFQi1uzC_",
        "colab": {
          "base_uri": "https://localhost:8080/"
        },
        "outputId": "d1e75af7-29fe-47fc-f524-2a288b7e9e71"
      },
      "execution_count": null,
      "outputs": [
        {
          "output_type": "execute_result",
          "data": {
            "text/plain": [
              "[Row(_c0=5.1, _c1=3.5, _c2=1.4, _c3=0.2, _c4='Iris-setosa')]"
            ]
          },
          "metadata": {},
          "execution_count": 5
        }
      ]
    },
    {
      "cell_type": "code",
      "source": [
        "iris_df = iris_df.select(col(\"_c0\").alias(\"sepal_len\"),col(\"_c1\").alias(\"sepal_width\"),col(\"_c2\").alias(\"petal_len\"), col(\"_c3\").alias(\"petal_width\"),col(\"_c4\").alias(\"species\"))\n",
        "iris_df.take(2)"
      ],
      "metadata": {
        "id": "43I9sSj9uy_s",
        "colab": {
          "base_uri": "https://localhost:8080/"
        },
        "outputId": "5ab055cd-71d8-42ca-e2a8-92ade5cd87f7"
      },
      "execution_count": null,
      "outputs": [
        {
          "output_type": "execute_result",
          "data": {
            "text/plain": [
              "[Row(sepal_len=5.1, sepal_width=3.5, petal_len=1.4, petal_width=0.2, species='Iris-setosa'),\n",
              " Row(sepal_len=4.9, sepal_width=3.0, petal_len=1.4, petal_width=0.2, species='Iris-setosa')]"
            ]
          },
          "metadata": {},
          "execution_count": 6
        }
      ]
    },
    {
      "cell_type": "code",
      "source": [
        "#transform to vector struct\n",
        "v_asm = VectorAssembler(inputCols=[\"sepal_len\",\"sepal_width\",\"petal_len\",\"petal_width\"], outputCol=\"features\")"
      ],
      "metadata": {
        "id": "3m4azI5Cuy9U"
      },
      "execution_count": null,
      "outputs": []
    },
    {
      "cell_type": "code",
      "source": [
        "vec_iris = v_asm.transform(iris_df)\n",
        "vec_iris.take(2)"
      ],
      "metadata": {
        "id": "fksdt9Wiuy7J",
        "colab": {
          "base_uri": "https://localhost:8080/"
        },
        "outputId": "f0fd5a7c-3387-414f-bf81-c4c142d92fa8"
      },
      "execution_count": null,
      "outputs": [
        {
          "output_type": "execute_result",
          "data": {
            "text/plain": [
              "[Row(sepal_len=5.1, sepal_width=3.5, petal_len=1.4, petal_width=0.2, species='Iris-setosa', features=DenseVector([5.1, 3.5, 1.4, 0.2])),\n",
              " Row(sepal_len=4.9, sepal_width=3.0, petal_len=1.4, petal_width=0.2, species='Iris-setosa', features=DenseVector([4.9, 3.0, 1.4, 0.2]))]"
            ]
          },
          "metadata": {},
          "execution_count": 8
        }
      ]
    },
    {
      "cell_type": "code",
      "source": [
        "#convert label name to numeric\n",
        "ind = StringIndexer(inputCol=\"species\",outputCol=\"label\")\n",
        "\n",
        "#df to capture these indexed labels\n",
        "ind_vec_iris = ind.fit(vec_iris).transform(vec_iris)\n",
        "ind_vec_iris.take(1)"
      ],
      "metadata": {
        "id": "zYYfCPltuy4m",
        "colab": {
          "base_uri": "https://localhost:8080/"
        },
        "outputId": "9c135212-0890-4d50-d098-38385262cd2f"
      },
      "execution_count": null,
      "outputs": [
        {
          "output_type": "execute_result",
          "data": {
            "text/plain": [
              "[Row(sepal_len=5.1, sepal_width=3.5, petal_len=1.4, petal_width=0.2, species='Iris-setosa', features=DenseVector([5.1, 3.5, 1.4, 0.2]), label=0.0)]"
            ]
          },
          "metadata": {},
          "execution_count": 9
        }
      ]
    },
    {
      "cell_type": "code",
      "source": [
        "ind_vec_iris.show(3)"
      ],
      "metadata": {
        "id": "vxwpwLZjuy11",
        "colab": {
          "base_uri": "https://localhost:8080/"
        },
        "outputId": "6c962eec-d663-44d1-c42e-e74f27580358"
      },
      "execution_count": null,
      "outputs": [
        {
          "output_type": "stream",
          "name": "stdout",
          "text": [
            "+---------+-----------+---------+-----------+-----------+-----------------+-----+\n",
            "|sepal_len|sepal_width|petal_len|petal_width|    species|         features|label|\n",
            "+---------+-----------+---------+-----------+-----------+-----------------+-----+\n",
            "|      5.1|        3.5|      1.4|        0.2|Iris-setosa|[5.1,3.5,1.4,0.2]|  0.0|\n",
            "|      4.9|        3.0|      1.4|        0.2|Iris-setosa|[4.9,3.0,1.4,0.2]|  0.0|\n",
            "|      4.7|        3.2|      1.3|        0.2|Iris-setosa|[4.7,3.2,1.3,0.2]|  0.0|\n",
            "+---------+-----------+---------+-----------+-----------+-----------------+-----+\n",
            "only showing top 3 rows\n",
            "\n"
          ]
        }
      ]
    },
    {
      "cell_type": "code",
      "source": [
        "ind_vec_iris.show(4)"
      ],
      "metadata": {
        "id": "NnvpF1_Buyzr",
        "colab": {
          "base_uri": "https://localhost:8080/"
        },
        "outputId": "c1fc1691-3795-472f-d62e-3e9f30ad457c"
      },
      "execution_count": null,
      "outputs": [
        {
          "output_type": "stream",
          "name": "stdout",
          "text": [
            "+---------+-----------+---------+-----------+-----------+-----------------+-----+\n",
            "|sepal_len|sepal_width|petal_len|petal_width|    species|         features|label|\n",
            "+---------+-----------+---------+-----------+-----------+-----------------+-----+\n",
            "|      5.1|        3.5|      1.4|        0.2|Iris-setosa|[5.1,3.5,1.4,0.2]|  0.0|\n",
            "|      4.9|        3.0|      1.4|        0.2|Iris-setosa|[4.9,3.0,1.4,0.2]|  0.0|\n",
            "|      4.7|        3.2|      1.3|        0.2|Iris-setosa|[4.7,3.2,1.3,0.2]|  0.0|\n",
            "|      4.6|        3.1|      1.5|        0.2|Iris-setosa|[4.6,3.1,1.5,0.2]|  0.0|\n",
            "+---------+-----------+---------+-----------+-----------+-----------------+-----+\n",
            "only showing top 4 rows\n",
            "\n"
          ]
        }
      ]
    },
    {
      "cell_type": "code",
      "source": [
        "from pyspark.ml.classification import NaiveBayes\n",
        "from pyspark.ml.evaluation import MulticlassClassificationEvaluator"
      ],
      "metadata": {
        "id": "uLzfnckaTmQh"
      },
      "execution_count": null,
      "outputs": []
    },
    {
      "cell_type": "code",
      "source": [
        "splits = ind_vec_iris.randomSplit([.6,.4],seed=1)"
      ],
      "metadata": {
        "id": "VBC34YPUTj9e"
      },
      "execution_count": null,
      "outputs": []
    },
    {
      "cell_type": "code",
      "source": [
        "train_df = splits[0]"
      ],
      "metadata": {
        "id": "KQ3kPC6MTj6A"
      },
      "execution_count": null,
      "outputs": []
    },
    {
      "cell_type": "code",
      "source": [
        "test_df = splits[1]"
      ],
      "metadata": {
        "id": "VHHZfVliTj0Q"
      },
      "execution_count": null,
      "outputs": []
    },
    {
      "cell_type": "code",
      "source": [
        "train_df.count()"
      ],
      "metadata": {
        "colab": {
          "base_uri": "https://localhost:8080/"
        },
        "id": "jsnDFwZLUIgN",
        "outputId": "9e2d3197-0696-4094-cf2e-4a43656c5d46"
      },
      "execution_count": null,
      "outputs": [
        {
          "output_type": "execute_result",
          "data": {
            "text/plain": [
              "98"
            ]
          },
          "metadata": {},
          "execution_count": 16
        }
      ]
    },
    {
      "cell_type": "code",
      "source": [
        "test_df.count()"
      ],
      "metadata": {
        "colab": {
          "base_uri": "https://localhost:8080/"
        },
        "id": "ZMFhBWlzUIVg",
        "outputId": "4bf6a2c4-68cd-4006-c9a4-d148cbfc66b6"
      },
      "execution_count": null,
      "outputs": [
        {
          "output_type": "execute_result",
          "data": {
            "text/plain": [
              "52"
            ]
          },
          "metadata": {},
          "execution_count": 17
        }
      ]
    },
    {
      "cell_type": "code",
      "source": [
        "ind_vec_iris.count()"
      ],
      "metadata": {
        "colab": {
          "base_uri": "https://localhost:8080/"
        },
        "id": "yTofOAbuUIKz",
        "outputId": "6fa93eb4-7c9a-4708-ffc8-7903c85ee9b0"
      },
      "execution_count": null,
      "outputs": [
        {
          "output_type": "execute_result",
          "data": {
            "text/plain": [
              "150"
            ]
          },
          "metadata": {},
          "execution_count": 18
        }
      ]
    },
    {
      "cell_type": "code",
      "source": [
        "# create a Naive Bayes classifier\n",
        "nb = NaiveBayes(modelType=\"multinomial\")\n",
        "nb_model = nb.fit(train_df)"
      ],
      "metadata": {
        "id": "WqfuMfDDUQev"
      },
      "execution_count": null,
      "outputs": []
    },
    {
      "cell_type": "code",
      "source": [
        "# create predictions\n",
        "pred_df = nb_model.transform(test_df)\n",
        "pred_df.take(1)"
      ],
      "metadata": {
        "colab": {
          "base_uri": "https://localhost:8080/"
        },
        "id": "WW7F8GvKUQbG",
        "outputId": "1161b24d-11f6-4de6-d874-7416eb304545"
      },
      "execution_count": null,
      "outputs": [
        {
          "output_type": "execute_result",
          "data": {
            "text/plain": [
              "[Row(sepal_len=4.3, sepal_width=3.0, petal_len=1.1, petal_width=0.1, species='Iris-setosa', features=DenseVector([4.3, 3.0, 1.1, 0.1]), label=0.0, rawPrediction=DenseVector([-9.9894, -11.3476, -11.902]), probability=DenseVector([0.7118, 0.183, 0.1051]), prediction=0.0)]"
            ]
          },
          "metadata": {},
          "execution_count": 20
        }
      ]
    },
    {
      "cell_type": "code",
      "source": [
        "evaluator = MulticlassClassificationEvaluator(labelCol=\"label\",predictionCol=\"prediction\",metricName=\"accuracy\")\n",
        "nb_acc = evaluator.evaluate(pred_df)"
      ],
      "metadata": {
        "id": "SKCs9Z_SUQX4"
      },
      "execution_count": null,
      "outputs": []
    },
    {
      "cell_type": "code",
      "source": [
        "nb_acc"
      ],
      "metadata": {
        "colab": {
          "base_uri": "https://localhost:8080/"
        },
        "id": "mPUhIk-RUQUj",
        "outputId": "a00997ea-6297-4f70-f0df-5e255dde6377"
      },
      "execution_count": null,
      "outputs": [
        {
          "output_type": "execute_result",
          "data": {
            "text/plain": [
              "0.9807692307692307"
            ]
          },
          "metadata": {},
          "execution_count": 22
        }
      ]
    },
    {
      "cell_type": "markdown",
      "source": [
        "###Multilayer Perceptron Classifier\n",
        "#### Non-linear relationship between dependent and independent variables"
      ],
      "metadata": {
        "id": "Ru-uR9LhVmZq"
      }
    },
    {
      "cell_type": "code",
      "source": [
        "ind_vec_iris.take(1)"
      ],
      "metadata": {
        "colab": {
          "base_uri": "https://localhost:8080/"
        },
        "id": "e_gtc9UHUQKz",
        "outputId": "a5595ee8-3d22-415f-b6da-a7e6508cad42"
      },
      "execution_count": null,
      "outputs": [
        {
          "output_type": "execute_result",
          "data": {
            "text/plain": [
              "[Row(sepal_len=5.1, sepal_width=3.5, petal_len=1.4, petal_width=0.2, species='Iris-setosa', features=DenseVector([5.1, 3.5, 1.4, 0.2]), label=0.0)]"
            ]
          },
          "metadata": {},
          "execution_count": 39
        }
      ]
    },
    {
      "cell_type": "code",
      "source": [
        "ind_vec_iris.schema"
      ],
      "metadata": {
        "colab": {
          "base_uri": "https://localhost:8080/"
        },
        "id": "qKZvvXhtTjos",
        "outputId": "6bf2635f-fa27-4897-ff39-f2d01266b514"
      },
      "execution_count": null,
      "outputs": [
        {
          "output_type": "execute_result",
          "data": {
            "text/plain": [
              "StructType(List(StructField(sepal_len,DoubleType,true),StructField(sepal_width,DoubleType,true),StructField(petal_len,DoubleType,true),StructField(petal_width,DoubleType,true),StructField(species,StringType,true),StructField(features,VectorUDT,true),StructField(label,DoubleType,false)))"
            ]
          },
          "metadata": {},
          "execution_count": 40
        }
      ]
    },
    {
      "cell_type": "code",
      "source": [
        "from pyspark.ml.classification import MultilayerPerceptronClassifier"
      ],
      "metadata": {
        "id": "h-Y7E_zLS8D2"
      },
      "execution_count": null,
      "outputs": []
    },
    {
      "cell_type": "code",
      "source": [
        "# first level == number of dimensions (input features)\n",
        "layers = [4, 5, 5, 3]"
      ],
      "metadata": {
        "id": "j3imovIoTR4r"
      },
      "execution_count": null,
      "outputs": []
    },
    {
      "cell_type": "code",
      "source": [
        "mlp = MultilayerPerceptronClassifier(layers=layers, seed=1)\n",
        "mlp_model = mlp.fit(train_df)\n",
        "mlp_pred = mlp_model.transform(test_df)"
      ],
      "metadata": {
        "id": "--ExhdUPS8Aj"
      },
      "execution_count": null,
      "outputs": []
    },
    {
      "cell_type": "code",
      "source": [
        "mlp_eval = MulticlassClassificationEvaluator(metricName=\"accuracy\")\n",
        "mlp_acc = mlp_eval.evaluate(mlp_pred)\n",
        "mlp_acc"
      ],
      "metadata": {
        "colab": {
          "base_uri": "https://localhost:8080/"
        },
        "id": "Y_pkvUeAS77v",
        "outputId": "e56784fb-a8b4-42b7-aa80-24605dec184d"
      },
      "execution_count": null,
      "outputs": [
        {
          "output_type": "execute_result",
          "data": {
            "text/plain": [
              "0.6923076923076923"
            ]
          },
          "metadata": {},
          "execution_count": 44
        }
      ]
    },
    {
      "cell_type": "markdown",
      "source": [
        "### Decision Tree Classifier"
      ],
      "metadata": {
        "id": "VMSh5L0SUuxM"
      }
    },
    {
      "cell_type": "code",
      "source": [
        "ind_vec_iris.dtypes"
      ],
      "metadata": {
        "colab": {
          "base_uri": "https://localhost:8080/"
        },
        "id": "gho37L9nUz7O",
        "outputId": "b229c970-d4cf-4669-da06-ee30c0b4cd53"
      },
      "execution_count": null,
      "outputs": [
        {
          "output_type": "execute_result",
          "data": {
            "text/plain": [
              "[('sepal_len', 'double'),\n",
              " ('sepal_width', 'double'),\n",
              " ('petal_len', 'double'),\n",
              " ('petal_width', 'double'),\n",
              " ('species', 'string'),\n",
              " ('features', 'vector'),\n",
              " ('label', 'double')]"
            ]
          },
          "metadata": {},
          "execution_count": 34
        }
      ]
    },
    {
      "cell_type": "code",
      "source": [
        "from pyspark.ml.classification import DecisionTreeClassifier"
      ],
      "metadata": {
        "id": "LTmbNuwbUzvR"
      },
      "execution_count": null,
      "outputs": []
    },
    {
      "cell_type": "code",
      "source": [
        "dt_obj = DecisionTreeClassifier(labelCol=\"label\",featuresCol=\"features\")\n",
        "dt_model = dt_obj.fit(train_df)\n",
        "dt_pred = dt_model.transform(test_df)"
      ],
      "metadata": {
        "id": "YBN5pDncUzr8"
      },
      "execution_count": null,
      "outputs": []
    },
    {
      "cell_type": "code",
      "source": [
        "dt_eval = MulticlassClassificationEvaluator(labelCol=\"label\",predictionCol=\"prediction\",metricName=\"accuracy\")\n",
        "dt_acc = dt_eval.evaluate(dt_pred)"
      ],
      "metadata": {
        "id": "SDcwx5StUzpI"
      },
      "execution_count": null,
      "outputs": []
    },
    {
      "cell_type": "code",
      "source": [
        "dt_acc"
      ],
      "metadata": {
        "colab": {
          "base_uri": "https://localhost:8080/"
        },
        "id": "fyAsVMizUzmp",
        "outputId": "a5997821-1fc0-438e-9a98-b6ca1ece3992"
      },
      "execution_count": null,
      "outputs": [
        {
          "output_type": "execute_result",
          "data": {
            "text/plain": [
              "0.9423076923076923"
            ]
          },
          "metadata": {},
          "execution_count": 38
        }
      ]
    },
    {
      "cell_type": "markdown",
      "source": [
        "##Regression"
      ],
      "metadata": {
        "id": "e0N9H0qUUwFF"
      }
    },
    {
      "cell_type": "markdown",
      "source": [
        "###Linear Regression"
      ],
      "metadata": {
        "id": "FKZUY0tweYUZ"
      }
    },
    {
      "cell_type": "code",
      "source": [
        "ccpp = spark.read.csv('/content/drive/MyDrive/Colab Notebooks/LinkedIn_Learining_Intro_to_Spark_Data/Folds5x2_pp.csv',inferSchema=True,header=True)\n",
        "ccpp.dtypes"
      ],
      "metadata": {
        "colab": {
          "base_uri": "https://localhost:8080/"
        },
        "id": "vxglxyIZiCYy",
        "outputId": "3bcf860d-b25f-4fbd-8c10-42b701dccd83"
      },
      "execution_count": null,
      "outputs": [
        {
          "output_type": "execute_result",
          "data": {
            "text/plain": [
              "[('AT', 'double'),\n",
              " ('V', 'double'),\n",
              " ('AP', 'double'),\n",
              " ('RH', 'double'),\n",
              " ('PE', 'double')]"
            ]
          },
          "metadata": {},
          "execution_count": 7
        }
      ]
    },
    {
      "cell_type": "code",
      "source": [
        "ccpp.take(1)"
      ],
      "metadata": {
        "colab": {
          "base_uri": "https://localhost:8080/"
        },
        "id": "LNU1kOvakfDH",
        "outputId": "f58942a2-8026-4a03-920d-df6cf173f136"
      },
      "execution_count": null,
      "outputs": [
        {
          "output_type": "execute_result",
          "data": {
            "text/plain": [
              "[Row(AT=14.96, V=41.76, AP=1024.07, RH=73.17, PE=463.26)]"
            ]
          },
          "metadata": {},
          "execution_count": 8
        }
      ]
    },
    {
      "cell_type": "code",
      "source": [
        "ccpp1.select([count(when(isnan(c) | col(c).isNull(), c)).alias(c) for c in ccpp1.columns]\n",
        "   ).show()"
      ],
      "metadata": {
        "colab": {
          "base_uri": "https://localhost:8080/"
        },
        "id": "0YkEAb6erKAE",
        "outputId": "69419d6c-7f55-438f-a8d4-8507e9f1611b"
      },
      "execution_count": null,
      "outputs": [
        {
          "output_type": "stream",
          "name": "stdout",
          "text": [
            "+---+---+---+---+---+\n",
            "| AT|  V| AP| RH| PE|\n",
            "+---+---+---+---+---+\n",
            "|  0|  0|  0|  0|  0|\n",
            "+---+---+---+---+---+\n",
            "\n"
          ]
        }
      ]
    },
    {
      "cell_type": "code",
      "source": [
        "#ccpp.na.fill(value=-999).show()\n",
        "ccpp1 = ccpp.fillna(-999)\n",
        "ccpp1.show()"
      ],
      "metadata": {
        "colab": {
          "base_uri": "https://localhost:8080/"
        },
        "id": "vrbh0pHmpFPu",
        "outputId": "f624ba52-10aa-48f6-845c-b7e21e82cb73"
      },
      "execution_count": null,
      "outputs": [
        {
          "output_type": "stream",
          "name": "stdout",
          "text": [
            "+-----+-----+-------+-----+------+\n",
            "|   AT|    V|     AP|   RH|    PE|\n",
            "+-----+-----+-------+-----+------+\n",
            "|14.96|41.76|1024.07|73.17|463.26|\n",
            "|25.18|62.96|1020.04|59.08|444.37|\n",
            "| 5.11| 39.4|1012.16|92.14|488.56|\n",
            "|20.86|57.32|1010.24|76.64|446.48|\n",
            "|10.82| 37.5|1009.23|96.62| 473.9|\n",
            "|26.27|59.44|1012.23|58.77|443.67|\n",
            "|15.89|43.96|1014.02|75.24|467.35|\n",
            "| 9.48|44.71|1019.12|66.43|478.42|\n",
            "|14.64| 45.0|1021.78|41.25|475.98|\n",
            "|11.74|43.56|1015.14|70.72| 477.5|\n",
            "|17.99|43.72|1008.64|75.04|453.02|\n",
            "|20.14|46.93|1014.66|64.22|453.99|\n",
            "|24.34| 73.5|1011.31|84.15|440.29|\n",
            "|25.71|58.59|1012.77|61.83|451.28|\n",
            "|26.19|69.34|1009.48|87.59|433.99|\n",
            "|21.42|43.79|1015.76|43.08|462.19|\n",
            "|18.21| 45.0|1022.86|48.84|467.54|\n",
            "|11.04|41.74| 1022.6|77.51| 477.2|\n",
            "|14.45|52.75|1023.97|63.59|459.85|\n",
            "|13.97|38.47|1015.15|55.28| 464.3|\n",
            "+-----+-----+-------+-----+------+\n",
            "only showing top 20 rows\n",
            "\n"
          ]
        }
      ]
    },
    {
      "cell_type": "code",
      "source": [
        "from pyspark.ml.regression import LinearRegression\n",
        "from pyspark.sql.functions import col,isnan, when, count"
      ],
      "metadata": {
        "id": "qw5ewPl-UrFC"
      },
      "execution_count": null,
      "outputs": []
    },
    {
      "cell_type": "code",
      "source": [
        "vec_asm = VectorAssembler(inputCols=[\"AT\",\"V\",\"AP\",\"RH\"], outputCol=\"features\")\n",
        "vec_pp_df = vec_asm.transform(ccpp1)\n",
        "vec_pp_df.take(1)"
      ],
      "metadata": {
        "colab": {
          "base_uri": "https://localhost:8080/"
        },
        "id": "8oBmvneDlNLI",
        "outputId": "4cd2513a-3398-4906-cf41-ff1e638a8e5e"
      },
      "execution_count": null,
      "outputs": [
        {
          "output_type": "execute_result",
          "data": {
            "text/plain": [
              "[Row(AT=14.96, V=41.76, AP=1024.07, RH=73.17, PE=463.26, features=DenseVector([14.96, 41.76, 1024.07, 73.17]))]"
            ]
          },
          "metadata": {},
          "execution_count": 16
        }
      ]
    },
    {
      "cell_type": "code",
      "source": [
        "vec_pp_df.count()"
      ],
      "metadata": {
        "colab": {
          "base_uri": "https://localhost:8080/"
        },
        "id": "mer4uf78lNHs",
        "outputId": "02ce200b-4365-41a7-840e-4bfccf166360"
      },
      "execution_count": null,
      "outputs": [
        {
          "output_type": "execute_result",
          "data": {
            "text/plain": [
              "47844"
            ]
          },
          "metadata": {},
          "execution_count": 17
        }
      ]
    },
    {
      "cell_type": "code",
      "source": [
        "vec_pp_df.dtypes"
      ],
      "metadata": {
        "colab": {
          "base_uri": "https://localhost:8080/"
        },
        "id": "pkXSed3Rqa5k",
        "outputId": "ef693eb1-7a15-4ad9-c921-baa012c727e0"
      },
      "execution_count": null,
      "outputs": [
        {
          "output_type": "execute_result",
          "data": {
            "text/plain": [
              "[('AT', 'double'),\n",
              " ('V', 'double'),\n",
              " ('AP', 'double'),\n",
              " ('RH', 'double'),\n",
              " ('PE', 'double'),\n",
              " ('features', 'vector')]"
            ]
          },
          "metadata": {},
          "execution_count": 18
        }
      ]
    },
    {
      "cell_type": "code",
      "source": [
        "lin_reg = LinearRegression(featuresCol=\"features\",labelCol=\"PE\")\n",
        "lr_model = lin_reg.fit(vec_pp_df)"
      ],
      "metadata": {
        "id": "09fhIH7jlNDt"
      },
      "execution_count": null,
      "outputs": []
    },
    {
      "cell_type": "code",
      "source": [
        "lr_model.coefficients"
      ],
      "metadata": {
        "colab": {
          "base_uri": "https://localhost:8080/"
        },
        "id": "q8QaVrIsll-j",
        "outputId": "ff4263b4-473d-4ac7-d50d-445cc542398b"
      },
      "execution_count": null,
      "outputs": [
        {
          "output_type": "execute_result",
          "data": {
            "text/plain": [
              "DenseVector([-0.6037, -0.5266, 1.1661, 0.1478])"
            ]
          },
          "metadata": {},
          "execution_count": 20
        }
      ]
    },
    {
      "cell_type": "code",
      "source": [
        "lr_model.intercept"
      ],
      "metadata": {
        "colab": {
          "base_uri": "https://localhost:8080/"
        },
        "id": "xpslxzCall7K",
        "outputId": "2356627a-e9fc-414f-8c40-8d2e13208d52"
      },
      "execution_count": null,
      "outputs": [
        {
          "output_type": "execute_result",
          "data": {
            "text/plain": [
              "-697.5963706368208"
            ]
          },
          "metadata": {},
          "execution_count": 21
        }
      ]
    },
    {
      "cell_type": "code",
      "source": [
        "lr_model.summary.rootMeanSquaredError"
      ],
      "metadata": {
        "colab": {
          "base_uri": "https://localhost:8080/"
        },
        "id": "GDjDTNjbuIqK",
        "outputId": "c5d3a910-b2e1-4ac2-c7dc-28eeb1d05820"
      },
      "execution_count": null,
      "outputs": [
        {
          "output_type": "execute_result",
          "data": {
            "text/plain": [
              "7.605251517642699"
            ]
          },
          "metadata": {},
          "execution_count": 22
        }
      ]
    },
    {
      "cell_type": "code",
      "source": [
        "#save model\n",
        "lr_model.save(\"lr1_cpp.model\")"
      ],
      "metadata": {
        "id": "xTeLYGFkuImm"
      },
      "execution_count": null,
      "outputs": []
    },
    {
      "cell_type": "markdown",
      "source": [
        "###Decision Tree Regression"
      ],
      "metadata": {
        "id": "XcjX_-oYvDJ1"
      }
    },
    {
      "cell_type": "code",
      "source": [
        "from pyspark.ml.regression import DecisionTreeRegressor\n",
        "from pyspark.ml.evaluation import RegressionEvaluator\n",
        "from pyspark.ml.feature import VectorAssembler\n",
        "from pyspark.sql.functions import col,isnan, when, count"
      ],
      "metadata": {
        "id": "OpMqzaQSvPQs"
      },
      "execution_count": null,
      "outputs": []
    },
    {
      "cell_type": "code",
      "source": [
        "ccpp1.dtypes"
      ],
      "metadata": {
        "colab": {
          "base_uri": "https://localhost:8080/"
        },
        "id": "1JVopoZsvPNF",
        "outputId": "119a0cd3-e691-4ed6-940f-4f432105cab2"
      },
      "execution_count": null,
      "outputs": [
        {
          "output_type": "execute_result",
          "data": {
            "text/plain": [
              "[('AT', 'double'),\n",
              " ('V', 'double'),\n",
              " ('AP', 'double'),\n",
              " ('RH', 'double'),\n",
              " ('PE', 'double')]"
            ]
          },
          "metadata": {},
          "execution_count": 25
        }
      ]
    },
    {
      "cell_type": "code",
      "source": [
        "ccpp1.count()"
      ],
      "metadata": {
        "colab": {
          "base_uri": "https://localhost:8080/"
        },
        "id": "S6eDxMmLvOGq",
        "outputId": "3d8509d2-da47-48d2-cbe5-d7689f5f3357"
      },
      "execution_count": null,
      "outputs": [
        {
          "output_type": "execute_result",
          "data": {
            "text/plain": [
              "47844"
            ]
          },
          "metadata": {},
          "execution_count": 26
        }
      ]
    },
    {
      "cell_type": "code",
      "source": [
        "ccpp1.select([count(when(isnan(c) | col(c).isNull(), c)).alias(c) for c in ccpp1.columns]\n",
        "   ).show()"
      ],
      "metadata": {
        "colab": {
          "base_uri": "https://localhost:8080/"
        },
        "id": "NnozN7WIvODR",
        "outputId": "e0144d83-6da1-404c-ce3c-e5c62e730b4b"
      },
      "execution_count": null,
      "outputs": [
        {
          "output_type": "stream",
          "name": "stdout",
          "text": [
            "+---+---+---+---+---+\n",
            "| AT|  V| AP| RH| PE|\n",
            "+---+---+---+---+---+\n",
            "|  0|  0|  0|  0|  0|\n",
            "+---+---+---+---+---+\n",
            "\n"
          ]
        }
      ]
    },
    {
      "cell_type": "code",
      "source": [
        "ccpp1.take(1)"
      ],
      "metadata": {
        "colab": {
          "base_uri": "https://localhost:8080/"
        },
        "id": "UpOBY-wHvsWE",
        "outputId": "7d905634-9d81-4a54-d9db-1d5dc89ddf20"
      },
      "execution_count": null,
      "outputs": [
        {
          "output_type": "execute_result",
          "data": {
            "text/plain": [
              "[Row(AT=14.96, V=41.76, AP=1024.07, RH=73.17, PE=463.26)]"
            ]
          },
          "metadata": {},
          "execution_count": 28
        }
      ]
    },
    {
      "cell_type": "code",
      "source": [
        "vec_asm_dtreg = VectorAssembler(inputCols=[\"AT\",\"V\",\"AP\",\"RH\"], outputCol=\"features\")"
      ],
      "metadata": {
        "id": "iX38JGWevuie"
      },
      "execution_count": null,
      "outputs": []
    },
    {
      "cell_type": "code",
      "source": [
        "#create df with vectorized power plant data\n",
        "vpp_df = vec_asm_dtreg.transform(ccpp1)\n",
        "vpp_df.dtypes"
      ],
      "metadata": {
        "colab": {
          "base_uri": "https://localhost:8080/"
        },
        "id": "qFdUZu1uvufG",
        "outputId": "9416baa8-5738-4698-cfa0-f4d2e7d79a30"
      },
      "execution_count": null,
      "outputs": [
        {
          "output_type": "execute_result",
          "data": {
            "text/plain": [
              "[('AT', 'double'),\n",
              " ('V', 'double'),\n",
              " ('AP', 'double'),\n",
              " ('RH', 'double'),\n",
              " ('PE', 'double'),\n",
              " ('features', 'vector')]"
            ]
          },
          "metadata": {},
          "execution_count": 30
        }
      ]
    },
    {
      "cell_type": "code",
      "source": [
        "vpp_df.take(1)"
      ],
      "metadata": {
        "colab": {
          "base_uri": "https://localhost:8080/"
        },
        "id": "xC5d4lkUvuc8",
        "outputId": "3984897d-f14d-454b-aecf-ca287a21e61f"
      },
      "execution_count": null,
      "outputs": [
        {
          "output_type": "execute_result",
          "data": {
            "text/plain": [
              "[Row(AT=14.96, V=41.76, AP=1024.07, RH=73.17, PE=463.26, features=DenseVector([14.96, 41.76, 1024.07, 73.17]))]"
            ]
          },
          "metadata": {},
          "execution_count": 31
        }
      ]
    },
    {
      "cell_type": "code",
      "source": [
        "#split data into train and test\n",
        "splits = vpp_df.randomSplit(weights=[0.7, 0.3])"
      ],
      "metadata": {
        "id": "F4QN3-1VvsSb"
      },
      "execution_count": null,
      "outputs": []
    },
    {
      "cell_type": "code",
      "source": [
        "train_df = splits[0]\n",
        "test_df = splits[1]"
      ],
      "metadata": {
        "id": "TCeK1QIuvsP0"
      },
      "execution_count": null,
      "outputs": []
    },
    {
      "cell_type": "code",
      "source": [
        "train_df.count()"
      ],
      "metadata": {
        "colab": {
          "base_uri": "https://localhost:8080/"
        },
        "id": "zuel7CfIvOBM",
        "outputId": "5789b42f-911a-454f-a68d-1e93ec41091f"
      },
      "execution_count": null,
      "outputs": [
        {
          "output_type": "execute_result",
          "data": {
            "text/plain": [
              "33589"
            ]
          },
          "metadata": {},
          "execution_count": 35
        }
      ]
    },
    {
      "cell_type": "code",
      "source": [
        "test_df.count()"
      ],
      "metadata": {
        "colab": {
          "base_uri": "https://localhost:8080/"
        },
        "id": "kqcTvt_JvN-o",
        "outputId": "7b8e652c-f4a8-4ef9-86d9-bbb94dde4d46"
      },
      "execution_count": null,
      "outputs": [
        {
          "output_type": "execute_result",
          "data": {
            "text/plain": [
              "14255"
            ]
          },
          "metadata": {},
          "execution_count": 36
        }
      ]
    },
    {
      "cell_type": "code",
      "source": [
        "vpp_df.count()"
      ],
      "metadata": {
        "colab": {
          "base_uri": "https://localhost:8080/"
        },
        "id": "Kp1s3hqDvN7Y",
        "outputId": "bd73ba7c-f6f6-4941-d498-b9f2776f6ee3"
      },
      "execution_count": null,
      "outputs": [
        {
          "output_type": "execute_result",
          "data": {
            "text/plain": [
              "47844"
            ]
          },
          "metadata": {},
          "execution_count": 37
        }
      ]
    },
    {
      "cell_type": "code",
      "source": [
        "# create Decision tree object\n",
        "dt_reg = DecisionTreeRegressor(featuresCol=\"features\", labelCol=\"PE\")\n",
        "dt_reg_model = dt_reg.fit(train_df)"
      ],
      "metadata": {
        "id": "lkpwrbvQM2yq"
      },
      "execution_count": null,
      "outputs": []
    },
    {
      "cell_type": "code",
      "source": [
        "dt_reg_pred = dt_reg_model.transform(test_df)\n",
        "dt_reg_pred.take(3)"
      ],
      "metadata": {
        "colab": {
          "base_uri": "https://localhost:8080/"
        },
        "id": "yEJOyK6fM8rC",
        "outputId": "e20015dd-8841-4741-a801-b847423fe4b2"
      },
      "execution_count": null,
      "outputs": [
        {
          "output_type": "execute_result",
          "data": {
            "text/plain": [
              "[Row(AT=-999.0, V=-999.0, AP=-999.0, RH=-999.0, PE=-999.0, features=DenseVector([-999.0, -999.0, -999.0, -999.0]), prediction=-999.0),\n",
              " Row(AT=-999.0, V=-999.0, AP=-999.0, RH=-999.0, PE=-999.0, features=DenseVector([-999.0, -999.0, -999.0, -999.0]), prediction=-999.0),\n",
              " Row(AT=1.81, V=39.42, AP=1026.92, RH=76.97, PE=490.55, features=DenseVector([1.81, 39.42, 1026.92, 76.97]), prediction=485.9494732061756)]"
            ]
          },
          "metadata": {},
          "execution_count": 39
        }
      ]
    },
    {
      "cell_type": "code",
      "source": [
        "dt_evaluator = RegressionEvaluator(labelCol=\"PE\",predictionCol=\"prediction\",metricName=\"rmse\")"
      ],
      "metadata": {
        "id": "KcLcAGzOM2vT"
      },
      "execution_count": null,
      "outputs": []
    },
    {
      "cell_type": "code",
      "source": [
        "rmse_val = dt_evaluator.evaluate(dt_reg_pred)\n",
        "rmse_val"
      ],
      "metadata": {
        "colab": {
          "base_uri": "https://localhost:8080/"
        },
        "id": "DZN_BDRBM2tE",
        "outputId": "14fe1d46-5f55-46d3-86ab-52373150901c"
      },
      "execution_count": null,
      "outputs": [
        {
          "output_type": "execute_result",
          "data": {
            "text/plain": [
              "4.523204515709961"
            ]
          },
          "metadata": {},
          "execution_count": 41
        }
      ]
    },
    {
      "cell_type": "markdown",
      "source": [
        "###Gradient Boosting Regression Tree"
      ],
      "metadata": {
        "id": "coXC_7syNwcu"
      }
    },
    {
      "cell_type": "code",
      "source": [
        "from pyspark.ml.regression import GBTRegressor"
      ],
      "metadata": {
        "id": "4JvbIwt6M2qi"
      },
      "execution_count": null,
      "outputs": []
    },
    {
      "cell_type": "code",
      "source": [
        "gbt = GBTRegressor(featuresCol=\"features\",labelCol=\"PE\")"
      ],
      "metadata": {
        "id": "e2UwI7tuuIka"
      },
      "execution_count": null,
      "outputs": []
    },
    {
      "cell_type": "code",
      "source": [
        "gbt_model = gbt.fit(train_df)"
      ],
      "metadata": {
        "id": "N2HyWeSell5F"
      },
      "execution_count": null,
      "outputs": []
    },
    {
      "cell_type": "code",
      "source": [
        "gbt_pred = gbt_model.transform(test_df)"
      ],
      "metadata": {
        "id": "3vWLKKdCOOg4"
      },
      "execution_count": null,
      "outputs": []
    },
    {
      "cell_type": "code",
      "source": [
        "# can reuse dt_evaluator\n",
        "gbt_eval = RegressionEvaluator(labelCol=\"PE\",predictionCol=\"prediction\",metricName=\"rmse\")"
      ],
      "metadata": {
        "id": "qntQGWnCOOeK"
      },
      "execution_count": null,
      "outputs": []
    },
    {
      "cell_type": "code",
      "source": [
        "rmse_gbt = gbt_eval.evaluate(gbt_pred)\n",
        "rmse_gbt"
      ],
      "metadata": {
        "colab": {
          "base_uri": "https://localhost:8080/"
        },
        "id": "eb79qJhsOObI",
        "outputId": "15e57f4d-c019-4f4c-932c-82c471351411"
      },
      "execution_count": null,
      "outputs": [
        {
          "output_type": "execute_result",
          "data": {
            "text/plain": [
              "3.9288721099324726"
            ]
          },
          "metadata": {},
          "execution_count": 47
        }
      ]
    },
    {
      "cell_type": "markdown",
      "source": [
        "##Recommendation Systems"
      ],
      "metadata": {
        "id": "LAce7VjtP3YC"
      }
    },
    {
      "cell_type": "markdown",
      "source": [
        "###Collaborative Filtering:\n",
        "\n",
        "\n",
        "\n",
        "\n"
      ],
      "metadata": {
        "id": "b0wikNn2P7gN"
      }
    },
    {
      "cell_type": "markdown",
      "source": [
        "\n",
        "Alternating Least Squares --- build a dataframe of User-Item matrix\n",
        "\n",
        "Modelling ALS object:\n",
        "\n",
        "*   UserCol\n",
        "*   itemCol\n",
        "*   ratingCol\n",
        "\n",
        "Evaluate:\n",
        "\n",
        "*   Create predictions on test_data\n",
        "*   Use RegressionEvaluator\n",
        "*   Use rmse metricName\n"
      ],
      "metadata": {
        "id": "6OpKljf3Q5BB"
      }
    },
    {
      "cell_type": "markdown",
      "source": [
        "###*(incomplete)*"
      ],
      "metadata": {
        "id": "so_IpdT7O364"
      }
    },
    {
      "cell_type": "code",
      "source": [
        "# vector_Assembler = VectorAssembler(inputCols=[\"cpu_utilization\"],outputCol=\"features\")"
      ],
      "metadata": {
        "id": "BRawy0SOU7pL"
      },
      "execution_count": null,
      "outputs": []
    },
    {
      "cell_type": "code",
      "source": [
        "# vlinear_df = vector_Assembler.transform(df)\n",
        "# vlinear_df.show()"
      ],
      "metadata": {
        "id": "igj2h491VGcE"
      },
      "execution_count": null,
      "outputs": []
    },
    {
      "cell_type": "code",
      "source": [
        "# linreg_model = LinearRegression(featuresCol=\"features\",labelCol=\"session_count\")"
      ],
      "metadata": {
        "id": "mga__mWwVYgp"
      },
      "execution_count": null,
      "outputs": []
    },
    {
      "cell_type": "code",
      "source": [
        "# lrmodel = linreg_model.fit(vlinear_df)"
      ],
      "metadata": {
        "id": "Gws3iUDIVr4D"
      },
      "execution_count": null,
      "outputs": []
    },
    {
      "cell_type": "code",
      "source": [
        "# lrmodel.coefficients"
      ],
      "metadata": {
        "id": "2hZdabbOV46r"
      },
      "execution_count": null,
      "outputs": []
    },
    {
      "cell_type": "code",
      "source": [
        "# lrmodel.intercept"
      ],
      "metadata": {
        "id": "K5Eb4uVSV8yr"
      },
      "execution_count": null,
      "outputs": []
    },
    {
      "cell_type": "code",
      "source": [
        "# RMSE\n",
        "\n",
        "# lrmodel.summary.rootMeanSquaredError"
      ],
      "metadata": {
        "id": "4BUg1HYAWGNy"
      },
      "execution_count": null,
      "outputs": []
    }
  ]
}