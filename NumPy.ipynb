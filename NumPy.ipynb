{
  "nbformat": 4,
  "nbformat_minor": 0,
  "metadata": {
    "colab": {
      "provenance": [],
      "toc_visible": true,
      "authorship_tag": "ABX9TyMLm88L+933ANCVB3/9eSFM",
      "include_colab_link": true
    },
    "kernelspec": {
      "name": "python3",
      "display_name": "Python 3"
    },
    "language_info": {
      "name": "python"
    }
  },
  "cells": [
    {
      "cell_type": "markdown",
      "metadata": {
        "id": "view-in-github",
        "colab_type": "text"
      },
      "source": [
        "<a href=\"https://colab.research.google.com/github/nandini-mazumdar/learning-spark-again/blob/main/NumPy.ipynb\" target=\"_parent\"><img src=\"https://colab.research.google.com/assets/colab-badge.svg\" alt=\"Open In Colab\"/></a>"
      ]
    },
    {
      "cell_type": "code",
      "execution_count": null,
      "metadata": {
        "id": "UWajcv6Fof_f"
      },
      "outputs": [],
      "source": [
        "import numpy as np"
      ]
    },
    {
      "cell_type": "code",
      "source": [
        "array_a = np.arange(5)\n",
        "array_a"
      ],
      "metadata": {
        "colab": {
          "base_uri": "https://localhost:8080/"
        },
        "id": "MyK4dSDr-sbT",
        "outputId": "f8d44b60-67a4-455d-ba53-58b84eaa1803"
      },
      "execution_count": null,
      "outputs": [
        {
          "output_type": "execute_result",
          "data": {
            "text/plain": [
              "array([0, 1, 2, 3, 4])"
            ]
          },
          "metadata": {},
          "execution_count": 4
        }
      ]
    },
    {
      "cell_type": "code",
      "source": [
        "array_a.shape"
      ],
      "metadata": {
        "colab": {
          "base_uri": "https://localhost:8080/"
        },
        "id": "z5Xl7mMt_h8t",
        "outputId": "6857344b-a57e-4ca6-fe59-3c60d69cad92"
      },
      "execution_count": null,
      "outputs": [
        {
          "output_type": "execute_result",
          "data": {
            "text/plain": [
              "(5,)"
            ]
          },
          "metadata": {},
          "execution_count": 7
        }
      ]
    },
    {
      "cell_type": "markdown",
      "source": [
        "# Reshape"
      ],
      "metadata": {
        "id": "H9n7e8itDe4T"
      }
    },
    {
      "cell_type": "code",
      "source": [
        "array_b = np.array([1, 2, 3, 4, 5, 6, 7, 8])\n",
        "array_b = np.reshape(array_b, (2,4))\n",
        "print(array_b)"
      ],
      "metadata": {
        "colab": {
          "base_uri": "https://localhost:8080/"
        },
        "id": "XRzIIDlN_sDq",
        "outputId": "35c340fb-cc9a-4438-b507-ba966c405cab"
      },
      "execution_count": null,
      "outputs": [
        {
          "output_type": "stream",
          "name": "stdout",
          "text": [
            "[[1 2 3 4]\n",
            " [5 6 7 8]]\n"
          ]
        }
      ]
    },
    {
      "cell_type": "code",
      "source": [
        "array_b.shape"
      ],
      "metadata": {
        "colab": {
          "base_uri": "https://localhost:8080/"
        },
        "id": "5mGpLkBAAsNx",
        "outputId": "a8e21f8b-bd70-4ec2-a830-3f21dd479d43"
      },
      "execution_count": null,
      "outputs": [
        {
          "output_type": "execute_result",
          "data": {
            "text/plain": [
              "(2, 4)"
            ]
          },
          "metadata": {},
          "execution_count": 64
        }
      ]
    },
    {
      "cell_type": "code",
      "source": [
        "array_c=array_b.reshape((2,4,1))\n",
        "array_c"
      ],
      "metadata": {
        "colab": {
          "base_uri": "https://localhost:8080/"
        },
        "id": "HmzG_2nXxQ1T",
        "outputId": "e21f12e8-a4f3-4af1-bcd5-7b75337bb623"
      },
      "execution_count": null,
      "outputs": [
        {
          "output_type": "execute_result",
          "data": {
            "text/plain": [
              "array([[[1],\n",
              "        [2],\n",
              "        [3],\n",
              "        [4]],\n",
              "\n",
              "       [[5],\n",
              "        [6],\n",
              "        [7],\n",
              "        [8]]])"
            ]
          },
          "metadata": {},
          "execution_count": 73
        }
      ]
    },
    {
      "cell_type": "code",
      "source": [
        "array_c.ndim"
      ],
      "metadata": {
        "colab": {
          "base_uri": "https://localhost:8080/"
        },
        "id": "YOCC6IiNxgma",
        "outputId": "cdac27a3-adc8-49b5-d5ca-f3e0b90b2175"
      },
      "execution_count": null,
      "outputs": [
        {
          "output_type": "execute_result",
          "data": {
            "text/plain": [
              "3"
            ]
          },
          "metadata": {},
          "execution_count": 72
        }
      ]
    },
    {
      "cell_type": "markdown",
      "source": [
        "###Flatten"
      ],
      "metadata": {
        "id": "65dYrALXgKbC"
      }
    },
    {
      "cell_type": "code",
      "source": [
        "#flattening\n",
        "array_flat = np.reshape(array_c,-1)\n",
        "array_flat"
      ],
      "metadata": {
        "colab": {
          "base_uri": "https://localhost:8080/"
        },
        "id": "8_2dmP-YxyNN",
        "outputId": "465d2362-5272-4aa3-9dd4-fdb3f7f81f83"
      },
      "execution_count": null,
      "outputs": [
        {
          "output_type": "execute_result",
          "data": {
            "text/plain": [
              "array([1, 2, 3, 4, 5, 6, 7, 8])"
            ]
          },
          "metadata": {},
          "execution_count": 75
        }
      ]
    },
    {
      "cell_type": "code",
      "source": [
        "#flatten - copy\n",
        "arr_1=array_c.flatten()\n",
        "arr_1"
      ],
      "metadata": {
        "colab": {
          "base_uri": "https://localhost:8080/"
        },
        "id": "cTmvSLn6yBFd",
        "outputId": "73a2dfaf-bdf0-4f7b-d2b7-9dccc2f510fe"
      },
      "execution_count": null,
      "outputs": [
        {
          "output_type": "execute_result",
          "data": {
            "text/plain": [
              "array([1, 2, 3, 4, 5, 6, 7, 8])"
            ]
          },
          "metadata": {},
          "execution_count": 78
        }
      ]
    },
    {
      "cell_type": "markdown",
      "source": [
        "###Ravel"
      ],
      "metadata": {
        "id": "cjd386jogM0g"
      }
    },
    {
      "cell_type": "code",
      "source": [
        "#ravel - view\n",
        "arr_2 = array_c.ravel()\n",
        "arr_2"
      ],
      "metadata": {
        "colab": {
          "base_uri": "https://localhost:8080/"
        },
        "id": "1XT_lE0AyEQ7",
        "outputId": "51a49896-6abf-40dc-c4ff-af7e9feb51a4"
      },
      "execution_count": null,
      "outputs": [
        {
          "output_type": "execute_result",
          "data": {
            "text/plain": [
              "array([1, 2, 3, 4, 5, 6, 7, 8])"
            ]
          },
          "metadata": {},
          "execution_count": 79
        }
      ]
    },
    {
      "cell_type": "code",
      "source": [
        "arr_1[0]=111\n",
        "arr_2[0]=222\n",
        "\n",
        "print(array_c)\n",
        "print(arr_1)\n",
        "print(arr_2)"
      ],
      "metadata": {
        "colab": {
          "base_uri": "https://localhost:8080/"
        },
        "id": "Yy_QeOy1yVEe",
        "outputId": "4033faa7-8da1-42ae-cded-b2427e68df5c"
      },
      "execution_count": null,
      "outputs": [
        {
          "output_type": "stream",
          "name": "stdout",
          "text": [
            "[[[222]\n",
            "  [  2]\n",
            "  [  3]\n",
            "  [  4]]\n",
            "\n",
            " [[  5]\n",
            "  [  6]\n",
            "  [  7]\n",
            "  [  8]]]\n",
            "[111   2   3   4   5   6   7   8]\n",
            "[222   2   3   4   5   6   7   8]\n"
          ]
        }
      ]
    },
    {
      "cell_type": "markdown",
      "source": [
        "# Change Type"
      ],
      "metadata": {
        "id": "tdjZZ09ZDpCi"
      }
    },
    {
      "cell_type": "code",
      "source": [
        "array_b = array_b.astype(np.float32)\n",
        "print(array_b)"
      ],
      "metadata": {
        "colab": {
          "base_uri": "https://localhost:8080/"
        },
        "id": "w5wgBU8YBcGH",
        "outputId": "c9fc5ce9-0ecc-49ec-eeef-96bdccb573a9"
      },
      "execution_count": null,
      "outputs": [
        {
          "output_type": "stream",
          "name": "stdout",
          "text": [
            "[[1. 2. 3. 4.]\n",
            " [5. 6. 7. 8.]]\n"
          ]
        }
      ]
    },
    {
      "cell_type": "markdown",
      "source": [
        "# Data Types"
      ],
      "metadata": {
        "id": "XBm9g1gJFTzB"
      }
    },
    {
      "cell_type": "code",
      "source": [
        " array_x = np.array([-1, 0, 1], dtype=np.uint16)\n",
        " print(array_x)"
      ],
      "metadata": {
        "colab": {
          "base_uri": "https://localhost:8080/"
        },
        "id": "8R5xgc6VFPOf",
        "outputId": "835a6d1e-f1e0-4225-891a-78af44bd29a8"
      },
      "execution_count": null,
      "outputs": [
        {
          "output_type": "stream",
          "name": "stdout",
          "text": [
            "[65535     0     1]\n"
          ]
        }
      ]
    },
    {
      "cell_type": "markdown",
      "source": [
        "# Indexing"
      ],
      "metadata": {
        "id": "JpzvlOuzCums"
      }
    },
    {
      "cell_type": "code",
      "source": [
        "two_dim = np.arange(1,13).reshape((3,4))\n",
        "two_dim"
      ],
      "metadata": {
        "colab": {
          "base_uri": "https://localhost:8080/"
        },
        "id": "B3WeDIt-dKsZ",
        "outputId": "5339170c-ca4e-4053-b127-a4019b050bb9"
      },
      "execution_count": null,
      "outputs": [
        {
          "output_type": "execute_result",
          "data": {
            "text/plain": [
              "array([[ 1,  2,  3,  4],\n",
              "       [ 5,  6,  7,  8],\n",
              "       [ 9, 10, 11, 12]])"
            ]
          },
          "metadata": {},
          "execution_count": 187
        }
      ]
    },
    {
      "cell_type": "code",
      "source": [
        "three_dim = np.arange(3*4*5).reshape((3,4,5))\n",
        "three_dim"
      ],
      "metadata": {
        "colab": {
          "base_uri": "https://localhost:8080/"
        },
        "id": "RJqED4uAdV6G",
        "outputId": "18ad3fb3-e984-4346-8872-62c24864b07c"
      },
      "execution_count": null,
      "outputs": [
        {
          "output_type": "execute_result",
          "data": {
            "text/plain": [
              "array([[[ 0,  1,  2,  3,  4],\n",
              "        [ 5,  6,  7,  8,  9],\n",
              "        [10, 11, 12, 13, 14],\n",
              "        [15, 16, 17, 18, 19]],\n",
              "\n",
              "       [[20, 21, 22, 23, 24],\n",
              "        [25, 26, 27, 28, 29],\n",
              "        [30, 31, 32, 33, 34],\n",
              "        [35, 36, 37, 38, 39]],\n",
              "\n",
              "       [[40, 41, 42, 43, 44],\n",
              "        [45, 46, 47, 48, 49],\n",
              "        [50, 51, 52, 53, 54],\n",
              "        [55, 56, 57, 58, 59]]])"
            ]
          },
          "metadata": {},
          "execution_count": 188
        }
      ]
    },
    {
      "cell_type": "code",
      "source": [
        "three_dim[-1,-1,-1]"
      ],
      "metadata": {
        "colab": {
          "base_uri": "https://localhost:8080/"
        },
        "id": "pk7LaYWwdksz",
        "outputId": "b004e1f7-9776-4843-ebac-fd29f0658c50"
      },
      "execution_count": null,
      "outputs": [
        {
          "output_type": "execute_result",
          "data": {
            "text/plain": [
              "59"
            ]
          },
          "metadata": {},
          "execution_count": 6
        }
      ]
    },
    {
      "cell_type": "code",
      "source": [
        "print(array_c[0])"
      ],
      "metadata": {
        "colab": {
          "base_uri": "https://localhost:8080/"
        },
        "id": "cs2ZOoTaCz-p",
        "outputId": "2e3f16aa-15c7-439b-9fbd-dafd211a1eb6"
      },
      "execution_count": null,
      "outputs": [
        {
          "output_type": "stream",
          "name": "stdout",
          "text": [
            "[[222]\n",
            " [  2]\n",
            " [  3]\n",
            " [  4]]\n"
          ]
        }
      ]
    },
    {
      "cell_type": "code",
      "source": [
        "print(array_c[:,1])"
      ],
      "metadata": {
        "colab": {
          "base_uri": "https://localhost:8080/"
        },
        "id": "pYKltFi9DJCB",
        "outputId": "5916dcee-8d7b-4bef-c98c-388fe160713c"
      },
      "execution_count": null,
      "outputs": [
        {
          "output_type": "stream",
          "name": "stdout",
          "text": [
            "[[2]\n",
            " [6]]\n"
          ]
        }
      ]
    },
    {
      "cell_type": "code",
      "source": [
        "print(array_c[0], array_c[:,-1])"
      ],
      "metadata": {
        "colab": {
          "base_uri": "https://localhost:8080/"
        },
        "id": "VxQ5L3DQDQ8I",
        "outputId": "63f72e83-fe41-4528-d7e1-a5d146f4a703"
      },
      "execution_count": null,
      "outputs": [
        {
          "output_type": "stream",
          "name": "stdout",
          "text": [
            "[[222]\n",
            " [  2]\n",
            " [  3]\n",
            " [  4]] [[4]\n",
            " [8]]\n"
          ]
        }
      ]
    },
    {
      "cell_type": "code",
      "source": [
        "array_d = np.full((3,3), 5.8)\n",
        "print(array_d)"
      ],
      "metadata": {
        "colab": {
          "base_uri": "https://localhost:8080/"
        },
        "id": "fc2gw48mD4_p",
        "outputId": "10d73cb7-7d69-4514-8074-b24abf01204b"
      },
      "execution_count": null,
      "outputs": [
        {
          "output_type": "stream",
          "name": "stdout",
          "text": [
            "[[5.8 5.8 5.8]\n",
            " [5.8 5.8 5.8]\n",
            " [5.8 5.8 5.8]]\n"
          ]
        }
      ]
    },
    {
      "cell_type": "code",
      "source": [
        "array_e = np.random.random(size=(4,3)).astype(np.float16)\n",
        "print(array_e)\n",
        "print(array_e.dtype)"
      ],
      "metadata": {
        "colab": {
          "base_uri": "https://localhost:8080/"
        },
        "id": "qN1SMNV7EfDi",
        "outputId": "e766190a-321d-4603-bd71-71b2f50c96e8"
      },
      "execution_count": null,
      "outputs": [
        {
          "output_type": "stream",
          "name": "stdout",
          "text": [
            "[[0.7334 0.7163 0.8413]\n",
            " [0.2761 0.3843 0.431 ]\n",
            " [0.646  0.915  0.2   ]\n",
            " [0.6865 0.7314 0.5864]]\n",
            "float16\n"
          ]
        }
      ]
    },
    {
      "cell_type": "markdown",
      "source": [
        "# Advanced Indexing"
      ],
      "metadata": {
        "id": "LkPO3KtBGBlJ"
      }
    },
    {
      "cell_type": "code",
      "source": [
        "array_y = np.arange(1,26).reshape((5,5))\n",
        "print(array_y)"
      ],
      "metadata": {
        "colab": {
          "base_uri": "https://localhost:8080/"
        },
        "id": "rKpthjUgF1VY",
        "outputId": "f0ed792b-ffe3-46ce-949b-cd011707f778"
      },
      "execution_count": null,
      "outputs": [
        {
          "output_type": "stream",
          "name": "stdout",
          "text": [
            "[[ 1  2  3  4  5]\n",
            " [ 6  7  8  9 10]\n",
            " [11 12 13 14 15]\n",
            " [16 17 18 19 20]\n",
            " [21 22 23 24 25]]\n"
          ]
        }
      ]
    },
    {
      "cell_type": "code",
      "source": [
        "print(array_y[:,2:4:1])"
      ],
      "metadata": {
        "colab": {
          "base_uri": "https://localhost:8080/"
        },
        "id": "uJWcKiO8GO_B",
        "outputId": "f0f10934-79da-4253-de80-20c0ca0f4f3f"
      },
      "execution_count": null,
      "outputs": [
        {
          "output_type": "stream",
          "name": "stdout",
          "text": [
            "[[ 3  4]\n",
            " [ 8  9]\n",
            " [13 14]\n",
            " [18 19]\n",
            " [23 24]]\n"
          ]
        }
      ]
    },
    {
      "cell_type": "code",
      "source": [
        "# negative index\n",
        "print(array_y[:,-2:-4:-1])"
      ],
      "metadata": {
        "colab": {
          "base_uri": "https://localhost:8080/"
        },
        "id": "EKl3fINTGeeq",
        "outputId": "d38d7fd5-809d-455d-9ffe-b60211858a15"
      },
      "execution_count": null,
      "outputs": [
        {
          "output_type": "stream",
          "name": "stdout",
          "text": [
            "[[ 4  3]\n",
            " [ 9  8]\n",
            " [14 13]\n",
            " [19 18]\n",
            " [24 23]]\n"
          ]
        }
      ]
    },
    {
      "cell_type": "code",
      "source": [
        "# boolean index\n",
        "divisible_by_3 = array_y % 3 == 0\n",
        "print(divisible_by_3)"
      ],
      "metadata": {
        "colab": {
          "base_uri": "https://localhost:8080/"
        },
        "id": "bRdWQdSqGnQa",
        "outputId": "2ad01f8b-95c0-4d4f-d64d-e8f2bb40f0bd"
      },
      "execution_count": null,
      "outputs": [
        {
          "output_type": "stream",
          "name": "stdout",
          "text": [
            "[[False False  True False False]\n",
            " [ True False False  True False]\n",
            " [False  True False False  True]\n",
            " [False False  True False False]\n",
            " [ True False False  True False]]\n"
          ]
        }
      ]
    },
    {
      "cell_type": "code",
      "source": [
        "print(array_y[divisible_by_3])"
      ],
      "metadata": {
        "colab": {
          "base_uri": "https://localhost:8080/"
        },
        "id": "BFHFLn6yG2uC",
        "outputId": "1335fdfe-6204-4fe4-c415-3e14c86cb971"
      },
      "execution_count": null,
      "outputs": [
        {
          "output_type": "stream",
          "name": "stdout",
          "text": [
            "[ 3  6  9 12 15 18 21 24]\n"
          ]
        }
      ]
    },
    {
      "cell_type": "code",
      "source": [
        "# where\n",
        "drop_incorrect = np.where(divisible_by_3, array_y, 0)\n",
        "print(drop_incorrect)"
      ],
      "metadata": {
        "colab": {
          "base_uri": "https://localhost:8080/"
        },
        "id": "2fRJGZ0GHHjn",
        "outputId": "7eb32ade-af00-45b0-dc7d-f8e1538a5429"
      },
      "execution_count": null,
      "outputs": [
        {
          "output_type": "stream",
          "name": "stdout",
          "text": [
            "[[ 0  0  3  0  0]\n",
            " [ 6  0  0  9  0]\n",
            " [ 0 12  0  0 15]\n",
            " [ 0  0 18  0  0]\n",
            " [21  0  0 24  0]]\n"
          ]
        }
      ]
    },
    {
      "cell_type": "code",
      "source": [
        "# multiple conditions - logical AND\n",
        "# drop under 5 and over 15\n",
        "\n",
        "drop_under_5_under_15 = np.logical_and(array_y > 5, array_y < 15)\n",
        "print(np.where(drop_under_5_under_15, array_y, -1))"
      ],
      "metadata": {
        "colab": {
          "base_uri": "https://localhost:8080/"
        },
        "id": "RPwS6STWHo28",
        "outputId": "61cb5e61-329e-4c6f-97a0-be38c1e85746"
      },
      "execution_count": null,
      "outputs": [
        {
          "output_type": "stream",
          "name": "stdout",
          "text": [
            "[[-1 -1 -1 -1 -1]\n",
            " [ 6  7  8  9 10]\n",
            " [11 12 13 14 -1]\n",
            " [-1 -1 -1 -1 -1]\n",
            " [-1 -1 -1 -1 -1]]\n"
          ]
        }
      ]
    },
    {
      "cell_type": "code",
      "source": [
        "print(array_y[array_y % 2 == 0])"
      ],
      "metadata": {
        "colab": {
          "base_uri": "https://localhost:8080/"
        },
        "id": "_RI2QYbfH90X",
        "outputId": "ab7c6063-1611-4b18-8e3f-3c2d16e487fa"
      },
      "execution_count": null,
      "outputs": [
        {
          "output_type": "stream",
          "name": "stdout",
          "text": [
            "[ 2  4  6  8 10 12 14 16 18 20 22 24]\n"
          ]
        }
      ]
    },
    {
      "cell_type": "code",
      "source": [
        "# slice of a row\n",
        "print(array_y[:,0:5:2])"
      ],
      "metadata": {
        "colab": {
          "base_uri": "https://localhost:8080/"
        },
        "id": "bKCFU9MtJVWw",
        "outputId": "77b09f03-cea6-4590-9ce6-fca774f5546d"
      },
      "execution_count": null,
      "outputs": [
        {
          "output_type": "stream",
          "name": "stdout",
          "text": [
            "[[ 1  3  5]\n",
            " [ 6  8 10]\n",
            " [11 13 15]\n",
            " [16 18 20]\n",
            " [21 23 25]]\n"
          ]
        }
      ]
    },
    {
      "cell_type": "code",
      "source": [
        "# reverse every row\n",
        "print(array_y[:,len(array_y[0])-1::-1])"
      ],
      "metadata": {
        "colab": {
          "base_uri": "https://localhost:8080/"
        },
        "id": "gzZhj7CpKQu5",
        "outputId": "0902a200-b365-4ef3-a389-5657a8c4fb72"
      },
      "execution_count": null,
      "outputs": [
        {
          "output_type": "stream",
          "name": "stdout",
          "text": [
            "[[ 5  4  3  2  1]\n",
            " [10  9  8  7  6]\n",
            " [15 14 13 12 11]\n",
            " [20 19 18 17 16]\n",
            " [25 24 23 22 21]]\n"
          ]
        }
      ]
    },
    {
      "cell_type": "markdown",
      "source": [
        "#Slicing"
      ],
      "metadata": {
        "id": "E8A0b9v4mT6P"
      }
    },
    {
      "cell_type": "code",
      "source": [
        "one_dim=np.arange(10)\n",
        "one_dim"
      ],
      "metadata": {
        "colab": {
          "base_uri": "https://localhost:8080/"
        },
        "id": "EJMVMysmdrFp",
        "outputId": "c7dcb605-7804-40c3-b675-69d8a922f8d9"
      },
      "execution_count": null,
      "outputs": [
        {
          "output_type": "execute_result",
          "data": {
            "text/plain": [
              "array([0, 1, 2, 3, 4, 5, 6, 7, 8, 9])"
            ]
          },
          "metadata": {},
          "execution_count": 185
        }
      ]
    },
    {
      "cell_type": "code",
      "source": [
        "one_dim[2:6]"
      ],
      "metadata": {
        "colab": {
          "base_uri": "https://localhost:8080/"
        },
        "id": "fUgsPbo9d1-f",
        "outputId": "dcbe836f-6607-4e76-f2aa-a7b28bfcb27e"
      },
      "execution_count": null,
      "outputs": [
        {
          "output_type": "execute_result",
          "data": {
            "text/plain": [
              "array([2, 3, 4, 5])"
            ]
          },
          "metadata": {},
          "execution_count": 8
        }
      ]
    },
    {
      "cell_type": "code",
      "source": [
        "one_dim[::2]"
      ],
      "metadata": {
        "colab": {
          "base_uri": "https://localhost:8080/"
        },
        "id": "vc1neb_Oenc7",
        "outputId": "8c5370db-0559-4d30-cec4-cdf09c49548f"
      },
      "execution_count": null,
      "outputs": [
        {
          "output_type": "execute_result",
          "data": {
            "text/plain": [
              "array([0, 2, 4, 6, 8])"
            ]
          },
          "metadata": {},
          "execution_count": 18
        }
      ]
    },
    {
      "cell_type": "code",
      "source": [
        "two_dim[:,-2]"
      ],
      "metadata": {
        "colab": {
          "base_uri": "https://localhost:8080/"
        },
        "id": "0wgZjj5Sd9Fc",
        "outputId": "9560848c-24cd-4304-fd96-e54d8eb4c9fd"
      },
      "execution_count": null,
      "outputs": [
        {
          "output_type": "execute_result",
          "data": {
            "text/plain": [
              "array([ 3,  7, 11])"
            ]
          },
          "metadata": {},
          "execution_count": 189
        }
      ]
    },
    {
      "cell_type": "code",
      "source": [
        "two_dim[1:,1:]"
      ],
      "metadata": {
        "colab": {
          "base_uri": "https://localhost:8080/"
        },
        "id": "4ZJ0xVFheuY8",
        "outputId": "278647c0-b1b3-4c25-afbd-a3b15003859d"
      },
      "execution_count": null,
      "outputs": [
        {
          "output_type": "execute_result",
          "data": {
            "text/plain": [
              "array([[ 6,  7,  8],\n",
              "       [10, 11, 12]])"
            ]
          },
          "metadata": {},
          "execution_count": 19
        }
      ]
    },
    {
      "cell_type": "code",
      "source": [
        "three_dim[:,-1:,:]"
      ],
      "metadata": {
        "colab": {
          "base_uri": "https://localhost:8080/"
        },
        "id": "GuoWehSFeFmp",
        "outputId": "4a14b6a7-622f-4915-9c71-c9a26133fdf7"
      },
      "execution_count": null,
      "outputs": [
        {
          "output_type": "execute_result",
          "data": {
            "text/plain": [
              "array([[[15, 16, 17, 18, 19]],\n",
              "\n",
              "       [[35, 36, 37, 38, 39]],\n",
              "\n",
              "       [[55, 56, 57, 58, 59]]])"
            ]
          },
          "metadata": {},
          "execution_count": 16
        }
      ]
    },
    {
      "cell_type": "code",
      "source": [
        "# Flip function\n",
        "\n",
        "np.flip(one_dim)"
      ],
      "metadata": {
        "colab": {
          "base_uri": "https://localhost:8080/"
        },
        "id": "6Iy3lT2YyAr7",
        "outputId": "595a1b7a-c37b-44c7-9049-c6d4a070b14f"
      },
      "execution_count": null,
      "outputs": [
        {
          "output_type": "execute_result",
          "data": {
            "text/plain": [
              "array([9, 8, 7, 6, 5, 4, 3, 2, 1, 0])"
            ]
          },
          "metadata": {},
          "execution_count": 186
        }
      ]
    },
    {
      "cell_type": "code",
      "source": [
        "np.flip(two_dim,1)"
      ],
      "metadata": {
        "colab": {
          "base_uri": "https://localhost:8080/"
        },
        "id": "1U2gXN3AyMx7",
        "outputId": "345cf404-8646-4760-921a-a1eefa60f588"
      },
      "execution_count": null,
      "outputs": [
        {
          "output_type": "execute_result",
          "data": {
            "text/plain": [
              "array([[ 4,  3,  2,  1],\n",
              "       [ 8,  7,  6,  5],\n",
              "       [12, 11, 10,  9]])"
            ]
          },
          "metadata": {},
          "execution_count": 198
        }
      ]
    },
    {
      "cell_type": "code",
      "source": [
        "np.flip(three_dim,1)"
      ],
      "metadata": {
        "colab": {
          "base_uri": "https://localhost:8080/"
        },
        "id": "KCHT1nvWy3l0",
        "outputId": "860ce67d-04a3-42bf-b04a-13d86cf997d7"
      },
      "execution_count": null,
      "outputs": [
        {
          "output_type": "execute_result",
          "data": {
            "text/plain": [
              "array([[[15, 16, 17, 18, 19],\n",
              "        [10, 11, 12, 13, 14],\n",
              "        [ 5,  6,  7,  8,  9],\n",
              "        [ 0,  1,  2,  3,  4]],\n",
              "\n",
              "       [[35, 36, 37, 38, 39],\n",
              "        [30, 31, 32, 33, 34],\n",
              "        [25, 26, 27, 28, 29],\n",
              "        [20, 21, 22, 23, 24]],\n",
              "\n",
              "       [[55, 56, 57, 58, 59],\n",
              "        [50, 51, 52, 53, 54],\n",
              "        [45, 46, 47, 48, 49],\n",
              "        [40, 41, 42, 43, 44]]])"
            ]
          },
          "metadata": {},
          "execution_count": 200
        }
      ]
    },
    {
      "cell_type": "code",
      "source": [
        "np.flip(three_dim,2)"
      ],
      "metadata": {
        "colab": {
          "base_uri": "https://localhost:8080/"
        },
        "id": "0cZ6EAn5y8E2",
        "outputId": "e2720826-3f95-49c9-b33e-83ab9fa7a7e5"
      },
      "execution_count": null,
      "outputs": [
        {
          "output_type": "execute_result",
          "data": {
            "text/plain": [
              "array([[[ 4,  3,  2,  1,  0],\n",
              "        [ 9,  8,  7,  6,  5],\n",
              "        [14, 13, 12, 11, 10],\n",
              "        [19, 18, 17, 16, 15]],\n",
              "\n",
              "       [[24, 23, 22, 21, 20],\n",
              "        [29, 28, 27, 26, 25],\n",
              "        [34, 33, 32, 31, 30],\n",
              "        [39, 38, 37, 36, 35]],\n",
              "\n",
              "       [[44, 43, 42, 41, 40],\n",
              "        [49, 48, 47, 46, 45],\n",
              "        [54, 53, 52, 51, 50],\n",
              "        [59, 58, 57, 56, 55]]])"
            ]
          },
          "metadata": {},
          "execution_count": 201
        }
      ]
    },
    {
      "cell_type": "markdown",
      "source": [
        "# Adding, Removing, Sorting elements"
      ],
      "metadata": {
        "id": "yZt4qqBWqojF"
      }
    },
    {
      "cell_type": "code",
      "source": [
        "#insert - add at index\n",
        "first = np.array([1,2,3,4,5])\n",
        "first = np.insert(first,3,6)\n",
        "first"
      ],
      "metadata": {
        "colab": {
          "base_uri": "https://localhost:8080/"
        },
        "id": "PsdungT6qrHL",
        "outputId": "fcdec7aa-fc1e-4a71-ecc4-38ee19a08013"
      },
      "execution_count": null,
      "outputs": [
        {
          "output_type": "execute_result",
          "data": {
            "text/plain": [
              "array([1, 2, 3, 6, 4, 5])"
            ]
          },
          "metadata": {},
          "execution_count": 27
        }
      ]
    },
    {
      "cell_type": "code",
      "source": [
        "#append - at the end\n",
        "second = np.array([1,2,3,4])\n",
        "second = np.append(second,6)\n",
        "second"
      ],
      "metadata": {
        "colab": {
          "base_uri": "https://localhost:8080/"
        },
        "id": "oroGwQn6sGLS",
        "outputId": "68ac7ba9-a74d-4912-98e7-a3404b853b4e"
      },
      "execution_count": null,
      "outputs": [
        {
          "output_type": "execute_result",
          "data": {
            "text/plain": [
              "array([1, 2, 3, 4, 6])"
            ]
          },
          "metadata": {},
          "execution_count": 30
        }
      ]
    },
    {
      "cell_type": "code",
      "source": [
        "#delete - specify index\n",
        "third = np.array([1,2,3,4,5])\n",
        "third = np.delete(third,2)\n",
        "third"
      ],
      "metadata": {
        "colab": {
          "base_uri": "https://localhost:8080/"
        },
        "id": "8ONCi-tYsQ-a",
        "outputId": "cd8b19d9-1a57-4146-d40b-1f078039851a"
      },
      "execution_count": null,
      "outputs": [
        {
          "output_type": "execute_result",
          "data": {
            "text/plain": [
              "array([1, 2, 4, 5])"
            ]
          },
          "metadata": {},
          "execution_count": 32
        }
      ]
    },
    {
      "cell_type": "code",
      "source": [
        "#sort - return a copy\n",
        "four = np.random.randint(10,20,20)\n",
        "four\n",
        "np.sort(four)"
      ],
      "metadata": {
        "colab": {
          "base_uri": "https://localhost:8080/"
        },
        "id": "8S4BRtUQsn4k",
        "outputId": "91d23ae6-dceb-4880-ee10-43866e32cbd1"
      },
      "execution_count": null,
      "outputs": [
        {
          "output_type": "execute_result",
          "data": {
            "text/plain": [
              "array([10, 11, 11, 12, 12, 12, 13, 13, 14, 14, 14, 15, 17, 17, 18, 18, 18,\n",
              "       18, 18, 19])"
            ]
          },
          "metadata": {},
          "execution_count": 36
        }
      ]
    },
    {
      "cell_type": "code",
      "source": [
        "two_dim = np.random.randint(0,10,10).reshape((2,5))\n",
        "two_dim"
      ],
      "metadata": {
        "colab": {
          "base_uri": "https://localhost:8080/"
        },
        "id": "l0RxJicPs4IB",
        "outputId": "7428b778-fc3e-4694-acd5-da1b7ef8eb9c"
      },
      "execution_count": null,
      "outputs": [
        {
          "output_type": "execute_result",
          "data": {
            "text/plain": [
              "array([[4, 8, 8, 9, 7],\n",
              "       [9, 4, 3, 0, 1]])"
            ]
          },
          "metadata": {},
          "execution_count": 42
        }
      ]
    },
    {
      "cell_type": "code",
      "source": [
        "np.sort(two_dim)"
      ],
      "metadata": {
        "colab": {
          "base_uri": "https://localhost:8080/"
        },
        "id": "bL2Kl54Us8t0",
        "outputId": "b638ae0e-399d-4c41-b97a-cf11ad63e7fe"
      },
      "execution_count": null,
      "outputs": [
        {
          "output_type": "execute_result",
          "data": {
            "text/plain": [
              "array([[4, 7, 8, 8, 9],\n",
              "       [0, 1, 3, 4, 9]])"
            ]
          },
          "metadata": {},
          "execution_count": 43
        }
      ]
    },
    {
      "cell_type": "code",
      "source": [
        "#sort array of strings\n",
        "str_arr = np.array(['red','white','blue','green','yellow','orange','saffron','black','magenta'])\n",
        "str_arr"
      ],
      "metadata": {
        "colab": {
          "base_uri": "https://localhost:8080/"
        },
        "id": "nnILZosytbtJ",
        "outputId": "74fc3db0-959d-467b-e240-bbf5bf43dea8"
      },
      "execution_count": null,
      "outputs": [
        {
          "output_type": "execute_result",
          "data": {
            "text/plain": [
              "array(['red', 'white', 'blue', 'green', 'yellow', 'orange', 'saffron',\n",
              "       'black', 'magenta'], dtype='<U7')"
            ]
          },
          "metadata": {},
          "execution_count": 44
        }
      ]
    },
    {
      "cell_type": "code",
      "source": [
        "np.sort(str_arr)"
      ],
      "metadata": {
        "colab": {
          "base_uri": "https://localhost:8080/"
        },
        "id": "sUDDWfXIt05x",
        "outputId": "a5ebd66d-544f-468e-8c6d-59ff68dc4e96"
      },
      "execution_count": null,
      "outputs": [
        {
          "output_type": "execute_result",
          "data": {
            "text/plain": [
              "array(['black', 'blue', 'green', 'magenta', 'orange', 'red', 'saffron',\n",
              "       'white', 'yellow'], dtype='<U7')"
            ]
          },
          "metadata": {},
          "execution_count": 45
        }
      ]
    },
    {
      "cell_type": "markdown",
      "source": [
        "# Constant values arrays"
      ],
      "metadata": {
        "id": "xVrz-2RscPWD"
      }
    },
    {
      "cell_type": "code",
      "source": [
        "first_z_arr = np.zeros(5)\n",
        "first_z_arr"
      ],
      "metadata": {
        "colab": {
          "base_uri": "https://localhost:8080/"
        },
        "id": "K5fHUC6DcSVb",
        "outputId": "6d3f3703-61fc-4e36-96be-cbf6e3836634"
      },
      "execution_count": null,
      "outputs": [
        {
          "output_type": "execute_result",
          "data": {
            "text/plain": [
              "array([0., 0., 0., 0., 0.])"
            ]
          },
          "metadata": {},
          "execution_count": 2
        }
      ]
    },
    {
      "cell_type": "code",
      "source": [
        "second_z_arr = np.zeros((4,5))\n",
        "second_z_arr"
      ],
      "metadata": {
        "colab": {
          "base_uri": "https://localhost:8080/"
        },
        "id": "0iODdkI9cbNU",
        "outputId": "e74bda63-63e1-446a-9655-5ddce78fdfaa"
      },
      "execution_count": null,
      "outputs": [
        {
          "output_type": "execute_result",
          "data": {
            "text/plain": [
              "array([[0., 0., 0., 0., 0.],\n",
              "       [0., 0., 0., 0., 0.],\n",
              "       [0., 0., 0., 0., 0.],\n",
              "       [0., 0., 0., 0., 0.]])"
            ]
          },
          "metadata": {},
          "execution_count": 5
        }
      ]
    },
    {
      "cell_type": "code",
      "source": [
        "first_o_arr = np.ones(6)\n",
        "first_o_arr"
      ],
      "metadata": {
        "colab": {
          "base_uri": "https://localhost:8080/"
        },
        "id": "69-GBtDFcfPb",
        "outputId": "6e7591ad-c818-46ed-caf1-df2764cd276c"
      },
      "execution_count": null,
      "outputs": [
        {
          "output_type": "execute_result",
          "data": {
            "text/plain": [
              "array([1., 1., 1., 1., 1., 1.])"
            ]
          },
          "metadata": {},
          "execution_count": 6
        }
      ]
    },
    {
      "cell_type": "code",
      "source": [
        "second_o_arr = np.ones((7,8))\n",
        "second_o_arr"
      ],
      "metadata": {
        "colab": {
          "base_uri": "https://localhost:8080/"
        },
        "id": "0ioHZWRecrX0",
        "outputId": "eb7ed343-edb9-4402-d17f-52f8c80e56dc"
      },
      "execution_count": null,
      "outputs": [
        {
          "output_type": "execute_result",
          "data": {
            "text/plain": [
              "array([[1., 1., 1., 1., 1., 1., 1., 1.],\n",
              "       [1., 1., 1., 1., 1., 1., 1., 1.],\n",
              "       [1., 1., 1., 1., 1., 1., 1., 1.],\n",
              "       [1., 1., 1., 1., 1., 1., 1., 1.],\n",
              "       [1., 1., 1., 1., 1., 1., 1., 1.],\n",
              "       [1., 1., 1., 1., 1., 1., 1., 1.],\n",
              "       [1., 1., 1., 1., 1., 1., 1., 1.]])"
            ]
          },
          "metadata": {},
          "execution_count": 7
        }
      ]
    },
    {
      "cell_type": "code",
      "source": [
        "third_o_arr = np.ones((4,5), dtype=int)\n",
        "third_o_arr"
      ],
      "metadata": {
        "colab": {
          "base_uri": "https://localhost:8080/"
        },
        "id": "jkiIUkDNcvjT",
        "outputId": "f74611ed-333e-4eb0-c7a4-6f7b787ef110"
      },
      "execution_count": null,
      "outputs": [
        {
          "output_type": "execute_result",
          "data": {
            "text/plain": [
              "array([[1, 1, 1, 1, 1],\n",
              "       [1, 1, 1, 1, 1],\n",
              "       [1, 1, 1, 1, 1],\n",
              "       [1, 1, 1, 1, 1]])"
            ]
          },
          "metadata": {},
          "execution_count": 8
        }
      ]
    },
    {
      "cell_type": "markdown",
      "source": [
        "###Fill and Full"
      ],
      "metadata": {
        "id": "lcxzbTzYc6s3"
      }
    },
    {
      "cell_type": "code",
      "source": [
        "fill_arr1=np.empty(10,dtype=int)\n",
        "fill_arr1\n",
        "fill_arr1.fill(12)\n",
        "fill_arr1"
      ],
      "metadata": {
        "colab": {
          "base_uri": "https://localhost:8080/"
        },
        "id": "OZG4jKvYc5Fy",
        "outputId": "aa4da782-614d-404d-f990-f5761a60a032"
      },
      "execution_count": null,
      "outputs": [
        {
          "output_type": "execute_result",
          "data": {
            "text/plain": [
              "array([12, 12, 12, 12, 12, 12, 12, 12, 12, 12])"
            ]
          },
          "metadata": {},
          "execution_count": 16
        }
      ]
    },
    {
      "cell_type": "code",
      "source": [
        "full_arr1 = np.full(5,10)\n",
        "full_arr1"
      ],
      "metadata": {
        "colab": {
          "base_uri": "https://localhost:8080/"
        },
        "id": "6QLnxcw2dP-C",
        "outputId": "55b7ba5f-fd42-4478-9671-6f31efd6ee56"
      },
      "execution_count": null,
      "outputs": [
        {
          "output_type": "execute_result",
          "data": {
            "text/plain": [
              "array([10, 10, 10, 10, 10])"
            ]
          },
          "metadata": {},
          "execution_count": 17
        }
      ]
    },
    {
      "cell_type": "code",
      "source": [
        "full_arr2 = np.full((4,5), 3)\n",
        "full_arr2"
      ],
      "metadata": {
        "colab": {
          "base_uri": "https://localhost:8080/"
        },
        "id": "7UbBX7YXdXGE",
        "outputId": "404f656e-f6e0-481e-f91c-2cd1c2115821"
      },
      "execution_count": null,
      "outputs": [
        {
          "output_type": "execute_result",
          "data": {
            "text/plain": [
              "array([[3, 3, 3, 3, 3],\n",
              "       [3, 3, 3, 3, 3],\n",
              "       [3, 3, 3, 3, 3],\n",
              "       [3, 3, 3, 3, 3]])"
            ]
          },
          "metadata": {},
          "execution_count": 18
        }
      ]
    },
    {
      "cell_type": "code",
      "source": [
        " np.shape(full_arr2)"
      ],
      "metadata": {
        "colab": {
          "base_uri": "https://localhost:8080/"
        },
        "id": "mZkuBlcydg-T",
        "outputId": "62acb6e1-e25a-4fea-ad90-41f5d6f5a509"
      },
      "execution_count": null,
      "outputs": [
        {
          "output_type": "execute_result",
          "data": {
            "text/plain": [
              "(4, 5)"
            ]
          },
          "metadata": {},
          "execution_count": 20
        }
      ]
    },
    {
      "cell_type": "code",
      "source": [
        "np.random.randint(0,4,(2,3))"
      ],
      "metadata": {
        "colab": {
          "base_uri": "https://localhost:8080/"
        },
        "id": "6jE8KkKVpb7D",
        "outputId": "69d3d026-1d18-464d-cab3-cafbc2f6e594"
      },
      "execution_count": null,
      "outputs": [
        {
          "output_type": "execute_result",
          "data": {
            "text/plain": [
              "array([[1, 1, 2],\n",
              "       [3, 1, 1]])"
            ]
          },
          "metadata": {},
          "execution_count": 25
        }
      ]
    },
    {
      "cell_type": "markdown",
      "source": [
        "#Joining"
      ],
      "metadata": {
        "id": "x_in1wvVfJaV"
      }
    },
    {
      "cell_type": "code",
      "source": [
        "arr_1 = np.arange(1,11)\n",
        "arr_2 = np.arange(11,21)\n",
        "print(arr_1)\n",
        "print(arr_2)"
      ],
      "metadata": {
        "colab": {
          "base_uri": "https://localhost:8080/"
        },
        "id": "VZdXl3NmfIsq",
        "outputId": "ec38b459-9fc8-4412-fc92-afecf577ab38"
      },
      "execution_count": null,
      "outputs": [
        {
          "output_type": "stream",
          "name": "stdout",
          "text": [
            "[ 1  2  3  4  5  6  7  8  9 10]\n",
            "[11 12 13 14 15 16 17 18 19 20]\n"
          ]
        }
      ]
    },
    {
      "cell_type": "markdown",
      "source": [
        "###Concatenate"
      ],
      "metadata": {
        "id": "K8i4dnSofetS"
      }
    },
    {
      "cell_type": "code",
      "source": [
        "concat_arr = np.concatenate((arr_1, arr_2))\n",
        "print(concat_arr)"
      ],
      "metadata": {
        "colab": {
          "base_uri": "https://localhost:8080/"
        },
        "id": "jcODoYcsfcHL",
        "outputId": "1be9bb7d-020e-4fef-db43-6adce64aaea2"
      },
      "execution_count": null,
      "outputs": [
        {
          "output_type": "stream",
          "name": "stdout",
          "text": [
            "[ 1  2  3  4  5  6  7  8  9 10 11 12 13 14 15 16 17 18 19 20]\n"
          ]
        }
      ]
    },
    {
      "cell_type": "code",
      "source": [
        "arr_3_2d = np.arange(1, 11).reshape((2,5))\n",
        "arr_3_2d"
      ],
      "metadata": {
        "colab": {
          "base_uri": "https://localhost:8080/"
        },
        "id": "Rf2hqJ-wfw6p",
        "outputId": "dcee78fc-2fa0-415a-b587-2cac8a5e65f8"
      },
      "execution_count": null,
      "outputs": [
        {
          "output_type": "execute_result",
          "data": {
            "text/plain": [
              "array([[ 1,  2,  3,  4,  5],\n",
              "       [ 6,  7,  8,  9, 10]])"
            ]
          },
          "metadata": {},
          "execution_count": 28
        }
      ]
    },
    {
      "cell_type": "code",
      "source": [
        "arr_4_2d = np.arange(11, 21).reshape((2,5))\n",
        "arr_4_2d"
      ],
      "metadata": {
        "colab": {
          "base_uri": "https://localhost:8080/"
        },
        "id": "q8mGFi3BgcA8",
        "outputId": "481e72b9-2e43-4c1c-bb23-372351890a59"
      },
      "execution_count": null,
      "outputs": [
        {
          "output_type": "execute_result",
          "data": {
            "text/plain": [
              "array([[11, 12, 13, 14, 15],\n",
              "       [16, 17, 18, 19, 20]])"
            ]
          },
          "metadata": {},
          "execution_count": 29
        }
      ]
    },
    {
      "cell_type": "code",
      "source": [
        "concat_arr_2d = np.concatenate((arr_3_2d, arr_4_2d),axis=1)\n",
        "print(concat_arr_2d)"
      ],
      "metadata": {
        "colab": {
          "base_uri": "https://localhost:8080/"
        },
        "id": "Jy7gButKgfge",
        "outputId": "2413906f-2cd1-43a5-d6e8-1e07fd964139"
      },
      "execution_count": null,
      "outputs": [
        {
          "output_type": "stream",
          "name": "stdout",
          "text": [
            "[[ 1  2  3  4  5 11 12 13 14 15]\n",
            " [ 6  7  8  9 10 16 17 18 19 20]]\n"
          ]
        }
      ]
    },
    {
      "cell_type": "markdown",
      "source": [
        "###Stack"
      ],
      "metadata": {
        "id": "-vtpwLrGg29R"
      }
    },
    {
      "cell_type": "code",
      "source": [
        "stack_arr = np.stack((arr_1, arr_2), axis=0)\n",
        "stack_arr"
      ],
      "metadata": {
        "colab": {
          "base_uri": "https://localhost:8080/"
        },
        "id": "COeKzwEZg4cD",
        "outputId": "adc06c40-a0b3-4541-c690-602b7ccc5941"
      },
      "execution_count": null,
      "outputs": [
        {
          "output_type": "execute_result",
          "data": {
            "text/plain": [
              "array([[ 1,  2,  3,  4,  5,  6,  7,  8,  9, 10],\n",
              "       [11, 12, 13, 14, 15, 16, 17, 18, 19, 20]])"
            ]
          },
          "metadata": {},
          "execution_count": 43
        }
      ]
    },
    {
      "cell_type": "markdown",
      "source": [
        "###Horizontal and Vertical Stacking"
      ],
      "metadata": {
        "id": "v4nHsoOBhU2e"
      }
    },
    {
      "cell_type": "code",
      "source": [
        "#horizontal\n",
        "h_arr = np.hstack((arr_1, arr_2))\n",
        "h_arr"
      ],
      "metadata": {
        "colab": {
          "base_uri": "https://localhost:8080/"
        },
        "id": "EEPivR3ChY0s",
        "outputId": "227b45da-06fb-497a-d2dd-1a6b5e25c492"
      },
      "execution_count": null,
      "outputs": [
        {
          "output_type": "execute_result",
          "data": {
            "text/plain": [
              "array([ 1,  2,  3,  4,  5,  6,  7,  8,  9, 10, 11, 12, 13, 14, 15, 16, 17,\n",
              "       18, 19, 20])"
            ]
          },
          "metadata": {},
          "execution_count": 39
        }
      ]
    },
    {
      "cell_type": "code",
      "source": [
        "#vertical\n",
        "v_arr = np.vstack((arr_1, arr_2))\n",
        "v_arr"
      ],
      "metadata": {
        "colab": {
          "base_uri": "https://localhost:8080/"
        },
        "id": "EvTNkECuhalG",
        "outputId": "f9ec259e-068b-452e-9315-5a8b44312932"
      },
      "execution_count": null,
      "outputs": [
        {
          "output_type": "execute_result",
          "data": {
            "text/plain": [
              "array([[ 1,  2,  3,  4,  5,  6,  7,  8,  9, 10],\n",
              "       [11, 12, 13, 14, 15, 16, 17, 18, 19, 20]])"
            ]
          },
          "metadata": {},
          "execution_count": 41
        }
      ]
    },
    {
      "cell_type": "markdown",
      "source": [
        "#Split"
      ],
      "metadata": {
        "id": "UezoDbroiDLJ"
      }
    },
    {
      "cell_type": "code",
      "source": [
        "#array_split\n",
        "arr_5 = np.arange(1,13)\n",
        "arr_5"
      ],
      "metadata": {
        "colab": {
          "base_uri": "https://localhost:8080/"
        },
        "id": "yEQjlj89iJs4",
        "outputId": "d490ad33-aeda-4bad-bd35-b84890c47be1"
      },
      "execution_count": null,
      "outputs": [
        {
          "output_type": "execute_result",
          "data": {
            "text/plain": [
              "array([ 1,  2,  3,  4,  5,  6,  7,  8,  9, 10, 11, 12])"
            ]
          },
          "metadata": {},
          "execution_count": 47
        }
      ]
    },
    {
      "cell_type": "code",
      "source": [
        "split_arr = np.array_split(arr_5,4)\n",
        "split_arr"
      ],
      "metadata": {
        "colab": {
          "base_uri": "https://localhost:8080/"
        },
        "id": "3U67MOGwiTYJ",
        "outputId": "8da5d2ab-b5eb-42d8-e0cf-a20f7fa07651"
      },
      "execution_count": null,
      "outputs": [
        {
          "output_type": "execute_result",
          "data": {
            "text/plain": [
              "[array([1, 2, 3]), array([4, 5, 6]), array([7, 8, 9]), array([10, 11, 12])]"
            ]
          },
          "metadata": {},
          "execution_count": 48
        }
      ]
    },
    {
      "cell_type": "code",
      "source": [
        "split_arr[2]"
      ],
      "metadata": {
        "colab": {
          "base_uri": "https://localhost:8080/"
        },
        "id": "OZgwodiOio2w",
        "outputId": "0228157b-35d1-42a5-8819-5a5099f095d6"
      },
      "execution_count": null,
      "outputs": [
        {
          "output_type": "execute_result",
          "data": {
            "text/plain": [
              "array([7, 8, 9])"
            ]
          },
          "metadata": {},
          "execution_count": 49
        }
      ]
    },
    {
      "cell_type": "code",
      "source": [
        "#split unequally\n",
        "np.array_split(arr_5,5)"
      ],
      "metadata": {
        "colab": {
          "base_uri": "https://localhost:8080/"
        },
        "id": "LltyuQ1YivBw",
        "outputId": "eddf2a9f-7ddb-4e4d-de21-616f84fe80cd"
      },
      "execution_count": null,
      "outputs": [
        {
          "output_type": "execute_result",
          "data": {
            "text/plain": [
              "[array([1, 2, 3]),\n",
              " array([4, 5, 6]),\n",
              " array([7, 8]),\n",
              " array([ 9, 10]),\n",
              " array([11, 12])]"
            ]
          },
          "metadata": {},
          "execution_count": 51
        }
      ]
    },
    {
      "cell_type": "code",
      "source": [
        "arr_3_2d"
      ],
      "metadata": {
        "colab": {
          "base_uri": "https://localhost:8080/"
        },
        "id": "hgFckBAcjB7p",
        "outputId": "6b1ffaeb-48d9-4248-8a1c-dca65eacd3ac"
      },
      "execution_count": null,
      "outputs": [
        {
          "output_type": "execute_result",
          "data": {
            "text/plain": [
              "array([[ 1,  2,  3,  4,  5],\n",
              "       [ 6,  7,  8,  9, 10]])"
            ]
          },
          "metadata": {},
          "execution_count": 53
        }
      ]
    },
    {
      "cell_type": "code",
      "source": [
        "#hsplit, equivalent to np.split(axis=1)\n",
        "h_split = np.hsplit(arr_3_2d,5)\n",
        "h_split"
      ],
      "metadata": {
        "colab": {
          "base_uri": "https://localhost:8080/"
        },
        "id": "zz_z3AjLi6-j",
        "outputId": "2f199934-52c5-428b-ce90-30a63bd0f795"
      },
      "execution_count": null,
      "outputs": [
        {
          "output_type": "execute_result",
          "data": {
            "text/plain": [
              "[array([[1],\n",
              "        [6]]), array([[2],\n",
              "        [7]]), array([[3],\n",
              "        [8]]), array([[4],\n",
              "        [9]]), array([[ 5],\n",
              "        [10]])]"
            ]
          },
          "metadata": {},
          "execution_count": 67
        }
      ]
    },
    {
      "cell_type": "code",
      "source": [
        "arr_4_2d"
      ],
      "metadata": {
        "colab": {
          "base_uri": "https://localhost:8080/"
        },
        "id": "mSlvtg48jx-A",
        "outputId": "4ceb5eec-48af-4d21-a70b-b8867f978ed4"
      },
      "execution_count": null,
      "outputs": [
        {
          "output_type": "execute_result",
          "data": {
            "text/plain": [
              "array([[11, 12, 13, 14, 15],\n",
              "       [16, 17, 18, 19, 20]])"
            ]
          },
          "metadata": {},
          "execution_count": 61
        }
      ]
    },
    {
      "cell_type": "code",
      "source": [
        "#vertical split, equivalent to split(axis=0)\n",
        "v_split = np.vsplit(arr_4_2d, 2)\n",
        "v_split"
      ],
      "metadata": {
        "colab": {
          "base_uri": "https://localhost:8080/"
        },
        "id": "HBCxPEc5i7KT",
        "outputId": "6ea1cf3f-2532-4402-8316-82da0b45bbfe"
      },
      "execution_count": null,
      "outputs": [
        {
          "output_type": "execute_result",
          "data": {
            "text/plain": [
              "[array([[11, 12, 13, 14, 15]]), array([[16, 17, 18, 19, 20]])]"
            ]
          },
          "metadata": {},
          "execution_count": 66
        }
      ]
    },
    {
      "cell_type": "markdown",
      "source": [
        "# Transpose, Move, Swap axis"
      ],
      "metadata": {
        "id": "ZrQpaegHDsQd"
      }
    },
    {
      "cell_type": "code",
      "source": [
        "first_2d_arr = np.random.randint(1,11,12).reshape((3,4))\n",
        "first_2d_arr"
      ],
      "metadata": {
        "colab": {
          "base_uri": "https://localhost:8080/"
        },
        "id": "MoKuqNJmvyMD",
        "outputId": "c7645c5f-58c7-42f8-f9d0-9c2a99221010"
      },
      "execution_count": null,
      "outputs": [
        {
          "output_type": "execute_result",
          "data": {
            "text/plain": [
              "array([[10,  4,  1,  5],\n",
              "       [ 4,  5, 10,  8],\n",
              "       [ 6,  2,  1,  8]])"
            ]
          },
          "metadata": {},
          "execution_count": 166
        }
      ]
    },
    {
      "cell_type": "code",
      "source": [
        "np.transpose(first_2d_arr)"
      ],
      "metadata": {
        "colab": {
          "base_uri": "https://localhost:8080/"
        },
        "id": "x8ZNMAGEvyaB",
        "outputId": "3f58cb95-f443-4e80-e319-bfbb9c433370"
      },
      "execution_count": null,
      "outputs": [
        {
          "output_type": "execute_result",
          "data": {
            "text/plain": [
              "array([[10,  4,  6],\n",
              "       [ 4,  5,  2],\n",
              "       [ 1, 10,  1],\n",
              "       [ 5,  8,  8]])"
            ]
          },
          "metadata": {},
          "execution_count": 167
        }
      ]
    },
    {
      "cell_type": "code",
      "source": [
        "second_2d_arr = np.random.randint(1,6,6).reshape((3,2))\n",
        "second_2d_arr"
      ],
      "metadata": {
        "colab": {
          "base_uri": "https://localhost:8080/"
        },
        "id": "5-nykM8Fvydl",
        "outputId": "8eef4a16-7c27-4c87-be64-37cc9263272a"
      },
      "execution_count": null,
      "outputs": [
        {
          "output_type": "execute_result",
          "data": {
            "text/plain": [
              "array([[4, 5],\n",
              "       [3, 5],\n",
              "       [4, 2]])"
            ]
          },
          "metadata": {},
          "execution_count": 168
        }
      ]
    },
    {
      "cell_type": "code",
      "source": [
        "np.transpose(second_2d_arr,(1,0))"
      ],
      "metadata": {
        "colab": {
          "base_uri": "https://localhost:8080/"
        },
        "id": "h7JAWo0vwNoj",
        "outputId": "d5ff87f3-0f74-482c-f92a-810b97894bc1"
      },
      "execution_count": null,
      "outputs": [
        {
          "output_type": "execute_result",
          "data": {
            "text/plain": [
              "array([[4, 3, 4],\n",
              "       [5, 5, 2]])"
            ]
          },
          "metadata": {},
          "execution_count": 173
        }
      ]
    },
    {
      "cell_type": "code",
      "source": [
        "#move axis\n",
        "\n",
        "first_3d_arr = np.random.randint(1,11,24).reshape((2,3,4))\n",
        "first_3d_arr"
      ],
      "metadata": {
        "colab": {
          "base_uri": "https://localhost:8080/"
        },
        "id": "YpZrON8lwX3z",
        "outputId": "f407f822-f62a-452d-e502-341471dfa045"
      },
      "execution_count": null,
      "outputs": [
        {
          "output_type": "execute_result",
          "data": {
            "text/plain": [
              "array([[[4, 1, 5, 4],\n",
              "        [5, 8, 4, 6],\n",
              "        [6, 2, 5, 4]],\n",
              "\n",
              "       [[5, 7, 5, 3],\n",
              "        [1, 4, 2, 1],\n",
              "        [2, 2, 7, 4]]])"
            ]
          },
          "metadata": {},
          "execution_count": 176
        }
      ]
    },
    {
      "cell_type": "code",
      "source": [
        "np.moveaxis(first_3d_arr,-1,1)"
      ],
      "metadata": {
        "colab": {
          "base_uri": "https://localhost:8080/"
        },
        "id": "uFeAABGMwqtU",
        "outputId": "62e58cf2-8ea8-48d2-9f00-09be519837be"
      },
      "execution_count": null,
      "outputs": [
        {
          "output_type": "execute_result",
          "data": {
            "text/plain": [
              "array([[[4, 5, 6],\n",
              "        [1, 8, 2],\n",
              "        [5, 4, 5],\n",
              "        [4, 6, 4]],\n",
              "\n",
              "       [[5, 1, 2],\n",
              "        [7, 4, 2],\n",
              "        [5, 2, 7],\n",
              "        [3, 1, 4]]])"
            ]
          },
          "metadata": {},
          "execution_count": 181
        }
      ]
    },
    {
      "cell_type": "code",
      "source": [
        "# swap axis\n",
        "\n",
        "np.swapaxes(first_3d_arr,0,2)"
      ],
      "metadata": {
        "colab": {
          "base_uri": "https://localhost:8080/"
        },
        "id": "lewcqea6wqvv",
        "outputId": "afd99325-a452-44f3-ec7c-3c312f9a7c2f"
      },
      "execution_count": null,
      "outputs": [
        {
          "output_type": "execute_result",
          "data": {
            "text/plain": [
              "array([[[4, 5],\n",
              "        [5, 1],\n",
              "        [6, 2]],\n",
              "\n",
              "       [[1, 7],\n",
              "        [8, 4],\n",
              "        [2, 2]],\n",
              "\n",
              "       [[5, 5],\n",
              "        [4, 2],\n",
              "        [5, 7]],\n",
              "\n",
              "       [[4, 3],\n",
              "        [6, 1],\n",
              "        [4, 4]]])"
            ]
          },
          "metadata": {},
          "execution_count": 183
        }
      ]
    },
    {
      "cell_type": "code",
      "source": [
        "array_c = array_b.T\n",
        "print(array_c)"
      ],
      "metadata": {
        "colab": {
          "base_uri": "https://localhost:8080/"
        },
        "id": "ed9Kh4MYCTA6",
        "outputId": "b68fe64a-802a-43be-ea0a-a3176a379d26"
      },
      "execution_count": null,
      "outputs": [
        {
          "output_type": "stream",
          "name": "stdout",
          "text": [
            "[[1. 5.]\n",
            " [2. 6.]\n",
            " [3. 7.]\n",
            " [4. 8.]]\n"
          ]
        }
      ]
    },
    {
      "cell_type": "markdown",
      "source": [
        "#Aggregate Functions"
      ],
      "metadata": {
        "id": "16keaHPRrh5E"
      }
    },
    {
      "cell_type": "code",
      "source": [
        " # set up data\n",
        " array_1 = np.array([[1,2], [3,4]])\n",
        " array_2 = np.array([[2,2], [6,6]])"
      ],
      "metadata": {
        "id": "q9HlMKKpK9dw"
      },
      "execution_count": null,
      "outputs": []
    },
    {
      "cell_type": "code",
      "source": [
        "print(array_1.sum())"
      ],
      "metadata": {
        "id": "9ROjFI3hMFuo",
        "colab": {
          "base_uri": "https://localhost:8080/"
        },
        "outputId": "45f066d1-d4be-4b67-d3dd-c9880090d3ed"
      },
      "execution_count": null,
      "outputs": [
        {
          "output_type": "stream",
          "name": "stdout",
          "text": [
            "10\n"
          ]
        }
      ]
    },
    {
      "cell_type": "code",
      "source": [
        "print(array_1.sum(axis=0))\n",
        "print(array_1.sum(axis=1))"
      ],
      "metadata": {
        "colab": {
          "base_uri": "https://localhost:8080/"
        },
        "id": "ZoVBEGCdogMp",
        "outputId": "dc4f4855-921b-4ec3-eefa-db8ecdcb902a"
      },
      "execution_count": null,
      "outputs": [
        {
          "output_type": "stream",
          "name": "stdout",
          "text": [
            "[4 6]\n",
            "[3 7]\n"
          ]
        }
      ]
    },
    {
      "cell_type": "code",
      "source": [
        "print(array_1.cumsum())"
      ],
      "metadata": {
        "colab": {
          "base_uri": "https://localhost:8080/"
        },
        "id": "I3Ewy30YpB-T",
        "outputId": "3f00b297-c1da-4166-8265-f69cd7c135e9"
      },
      "execution_count": null,
      "outputs": [
        {
          "output_type": "stream",
          "name": "stdout",
          "text": [
            "[ 1  3  6 10]\n"
          ]
        }
      ]
    },
    {
      "cell_type": "code",
      "source": [
        "print(array_1.prod())"
      ],
      "metadata": {
        "colab": {
          "base_uri": "https://localhost:8080/"
        },
        "id": "adn3scCNpD8A",
        "outputId": "eed8ebf3-6166-4f67-895b-dbaca7e09cb5"
      },
      "execution_count": null,
      "outputs": [
        {
          "output_type": "stream",
          "name": "stdout",
          "text": [
            "24\n"
          ]
        }
      ]
    },
    {
      "cell_type": "code",
      "source": [
        "print(array_1.cumprod())"
      ],
      "metadata": {
        "colab": {
          "base_uri": "https://localhost:8080/"
        },
        "id": "hxIJirqZpFrq",
        "outputId": "4c10b64f-c42d-4ece-d70d-2c7a9a89d90d"
      },
      "execution_count": null,
      "outputs": [
        {
          "output_type": "stream",
          "name": "stdout",
          "text": [
            "[ 1  2  6 24]\n"
          ]
        }
      ]
    },
    {
      "cell_type": "code",
      "source": [
        "#average\n",
        "np.average(array_1)"
      ],
      "metadata": {
        "colab": {
          "base_uri": "https://localhost:8080/"
        },
        "id": "imGs0iXksJaY",
        "outputId": "02136f42-d643-4363-9c18-abcd1fffd490"
      },
      "execution_count": null,
      "outputs": [
        {
          "output_type": "execute_result",
          "data": {
            "text/plain": [
              "2.5"
            ]
          },
          "metadata": {},
          "execution_count": 120
        }
      ]
    },
    {
      "cell_type": "markdown",
      "source": [
        "# Array Math"
      ],
      "metadata": {
        "id": "xPGx0S56K8Sc"
      }
    },
    {
      "cell_type": "markdown",
      "source": [
        "### Two array math"
      ],
      "metadata": {
        "id": "UrMuX3KkpkOx"
      }
    },
    {
      "cell_type": "code",
      "source": [
        "print(array_1)\n",
        "print(array_2)"
      ],
      "metadata": {
        "colab": {
          "base_uri": "https://localhost:8080/"
        },
        "id": "LPPnT7G8pHSQ",
        "outputId": "cdbd3e55-b99c-484c-a8b9-9adb1b845c6c"
      },
      "execution_count": null,
      "outputs": [
        {
          "output_type": "stream",
          "name": "stdout",
          "text": [
            "[[1 2]\n",
            " [3 4]]\n",
            "[[2 2]\n",
            " [6 6]]\n"
          ]
        }
      ]
    },
    {
      "cell_type": "code",
      "source": [
        "print(array_1+array_2)"
      ],
      "metadata": {
        "colab": {
          "base_uri": "https://localhost:8080/"
        },
        "id": "gckklnSVpMsI",
        "outputId": "6db95f59-4c73-44fd-e2da-e6a81d655120"
      },
      "execution_count": null,
      "outputs": [
        {
          "output_type": "stream",
          "name": "stdout",
          "text": [
            "[[ 3  4]\n",
            " [ 9 10]]\n"
          ]
        }
      ]
    },
    {
      "cell_type": "code",
      "source": [
        "print(array_1-array_2)"
      ],
      "metadata": {
        "colab": {
          "base_uri": "https://localhost:8080/"
        },
        "id": "PwTQX1rVpaLe",
        "outputId": "593ed699-ce80-4505-bb60-3e1dbbde65df"
      },
      "execution_count": null,
      "outputs": [
        {
          "output_type": "stream",
          "name": "stdout",
          "text": [
            "[[-1  0]\n",
            " [-3 -2]]\n"
          ]
        }
      ]
    },
    {
      "cell_type": "code",
      "source": [
        "print(array_1*array_2)"
      ],
      "metadata": {
        "colab": {
          "base_uri": "https://localhost:8080/"
        },
        "id": "e4xCY6VRpc97",
        "outputId": "75474cbc-916a-4b30-dec0-b40aa80e6fff"
      },
      "execution_count": null,
      "outputs": [
        {
          "output_type": "stream",
          "name": "stdout",
          "text": [
            "[[ 2  4]\n",
            " [18 24]]\n"
          ]
        }
      ]
    },
    {
      "cell_type": "code",
      "source": [
        "print(array_1/array_2)"
      ],
      "metadata": {
        "colab": {
          "base_uri": "https://localhost:8080/"
        },
        "id": "3y5Zj-nDpeDL",
        "outputId": "5516135e-93c1-43e8-adcb-56ea0cc5a6ff"
      },
      "execution_count": null,
      "outputs": [
        {
          "output_type": "stream",
          "name": "stdout",
          "text": [
            "[[0.5        1.        ]\n",
            " [0.5        0.66666667]]\n"
          ]
        }
      ]
    },
    {
      "cell_type": "code",
      "source": [
        "print(np.dot(array_1, array_2))"
      ],
      "metadata": {
        "colab": {
          "base_uri": "https://localhost:8080/"
        },
        "id": "iaiDbTrwpfGh",
        "outputId": "4053e0e2-6ffb-464d-8f64-acefc0dd5e32"
      },
      "execution_count": null,
      "outputs": [
        {
          "output_type": "stream",
          "name": "stdout",
          "text": [
            "[[14 14]\n",
            " [30 30]]\n"
          ]
        }
      ]
    },
    {
      "cell_type": "markdown",
      "source": [
        "### 3x3 array math"
      ],
      "metadata": {
        "id": "SY9fiPHBp13Y"
      }
    },
    {
      "cell_type": "code",
      "source": [
        "array_x = np.array([[1,2,3], [4,5,6],[7,8,9]])\n",
        "array_y = np.array([[1,1,1], [2,2,2],[3,3,3]])"
      ],
      "metadata": {
        "id": "aUXFM1frprLK"
      },
      "execution_count": null,
      "outputs": []
    },
    {
      "cell_type": "code",
      "source": [
        "print(array_x)\n",
        "print(array_y)"
      ],
      "metadata": {
        "colab": {
          "base_uri": "https://localhost:8080/"
        },
        "id": "Qs51TkY5qGHc",
        "outputId": "e81d01aa-05d1-4450-a851-e43e30b04734"
      },
      "execution_count": null,
      "outputs": [
        {
          "output_type": "stream",
          "name": "stdout",
          "text": [
            "[[1 2 3]\n",
            " [4 5 6]\n",
            " [7 8 9]]\n",
            "[[1 1 1]\n",
            " [2 2 2]\n",
            " [3 3 3]]\n"
          ]
        }
      ]
    },
    {
      "cell_type": "code",
      "source": [
        "print(array_x.sum(axis=0))"
      ],
      "metadata": {
        "colab": {
          "base_uri": "https://localhost:8080/"
        },
        "id": "jBH8pr7KqSYK",
        "outputId": "bf04f0b4-53a2-4a4d-b4c8-524132ac6e18"
      },
      "execution_count": null,
      "outputs": [
        {
          "output_type": "stream",
          "name": "stdout",
          "text": [
            "[12 15 18]\n"
          ]
        }
      ]
    },
    {
      "cell_type": "code",
      "source": [
        "print(array_x.ptp(axis=0))"
      ],
      "metadata": {
        "colab": {
          "base_uri": "https://localhost:8080/"
        },
        "id": "_55kP550qt4V",
        "outputId": "db22c57c-a1b1-45ec-f71d-3ed23edf3a00"
      },
      "execution_count": null,
      "outputs": [
        {
          "output_type": "stream",
          "name": "stdout",
          "text": [
            "[6 6 6]\n"
          ]
        }
      ]
    },
    {
      "cell_type": "code",
      "source": [
        "# point to point\n",
        "print(array_x.ptp(axis=1))"
      ],
      "metadata": {
        "colab": {
          "base_uri": "https://localhost:8080/"
        },
        "id": "eykmHMIzqyMS",
        "outputId": "0e70a3a5-5856-4a04-9f8d-852148266bf1"
      },
      "execution_count": null,
      "outputs": [
        {
          "output_type": "stream",
          "name": "stdout",
          "text": [
            "[2 2 2]\n"
          ]
        }
      ]
    },
    {
      "cell_type": "code",
      "source": [
        "print(array_x.ptp())"
      ],
      "metadata": {
        "colab": {
          "base_uri": "https://localhost:8080/"
        },
        "id": "fq44cWidq6xX",
        "outputId": "a33c797e-1b42-463c-ff7e-cfc242838b01"
      },
      "execution_count": null,
      "outputs": [
        {
          "output_type": "stream",
          "name": "stdout",
          "text": [
            "8\n"
          ]
        }
      ]
    },
    {
      "cell_type": "code",
      "source": [
        "# min, max, mean, std\n",
        "print(array_x.min(axis=0))\n",
        "print(array_x.max(axis=0))\n",
        "print(array_x.mean(axis=0))\n",
        "print(array_x.std(axis=0))"
      ],
      "metadata": {
        "colab": {
          "base_uri": "https://localhost:8080/"
        },
        "id": "_kwYwwOdq8EY",
        "outputId": "498f7d1a-2883-4c89-d9ad-93beaecfec00"
      },
      "execution_count": null,
      "outputs": [
        {
          "output_type": "stream",
          "name": "stdout",
          "text": [
            "[1 2 3]\n",
            "[7 8 9]\n",
            "[4. 5. 6.]\n",
            "[2.44948974 2.44948974 2.44948974]\n"
          ]
        }
      ]
    },
    {
      "cell_type": "code",
      "source": [
        "# power\n",
        "print(np.power(array_x, array_y))"
      ],
      "metadata": {
        "colab": {
          "base_uri": "https://localhost:8080/"
        },
        "id": "z_61zEUprEZg",
        "outputId": "025162de-6445-4ba3-af28-2d95d3bf6ed1"
      },
      "execution_count": null,
      "outputs": [
        {
          "output_type": "stream",
          "name": "stdout",
          "text": [
            "[[  1   2   3]\n",
            " [ 16  25  36]\n",
            " [343 512 729]]\n"
          ]
        }
      ]
    },
    {
      "cell_type": "code",
      "source": [
        "array_z = np.array([[10,10,10], [20,20,20],[30,30,30]])"
      ],
      "metadata": {
        "id": "CIw-Fv10rjLa"
      },
      "execution_count": null,
      "outputs": []
    },
    {
      "cell_type": "code",
      "source": [
        "print(array_z/array_x)"
      ],
      "metadata": {
        "colab": {
          "base_uri": "https://localhost:8080/"
        },
        "id": "sJd1nEicr1pp",
        "outputId": "46befdf6-130d-41b2-bb59-0641f8da1e83"
      },
      "execution_count": null,
      "outputs": [
        {
          "output_type": "stream",
          "name": "stdout",
          "text": [
            "[[10.          5.          3.33333333]\n",
            " [ 5.          4.          3.33333333]\n",
            " [ 4.28571429  3.75        3.33333333]]\n"
          ]
        }
      ]
    },
    {
      "cell_type": "markdown",
      "source": [
        "# Broadcasting"
      ],
      "metadata": {
        "id": "jTjp4sLMsKx4"
      }
    },
    {
      "cell_type": "code",
      "source": [
        "array_1 = np.array([[1,1,1], [2,2,2], [3,3,3]])\n",
        "print(array_1.shape)\n",
        "array_2 = np.array([1,2,3])\n",
        "print(array_2.shape)"
      ],
      "metadata": {
        "colab": {
          "base_uri": "https://localhost:8080/"
        },
        "id": "7_fQ-w8qr_Y6",
        "outputId": "bad4bd82-0e6a-4e6e-d5b9-887d00227daf"
      },
      "execution_count": null,
      "outputs": [
        {
          "output_type": "stream",
          "name": "stdout",
          "text": [
            "(3, 3)\n",
            "(3,)\n"
          ]
        }
      ]
    },
    {
      "cell_type": "code",
      "source": [
        "print(array_1+array_2)"
      ],
      "metadata": {
        "colab": {
          "base_uri": "https://localhost:8080/"
        },
        "id": "XGAt-URks09J",
        "outputId": "7ffb6bd3-7a95-4cb1-eb0d-cdf098bb5c00"
      },
      "execution_count": null,
      "outputs": [
        {
          "output_type": "stream",
          "name": "stdout",
          "text": [
            "[[2 3 4]\n",
            " [3 4 5]\n",
            " [4 5 6]]\n"
          ]
        }
      ]
    },
    {
      "cell_type": "code",
      "source": [
        "array_1 = np.array([[1,1,1,1], [2,2,2,2], [3,3,3,3]])\n",
        "print('Array 1:',array_1.shape)\n",
        "\n",
        "array_2 = np.array([[1], [2], [3]])\n",
        "print('Array 2:',array_2.shape)"
      ],
      "metadata": {
        "colab": {
          "base_uri": "https://localhost:8080/"
        },
        "id": "Xu-6p8L0ojqo",
        "outputId": "65f5c36f-b5e0-4ebe-849e-96aa70a20b78"
      },
      "execution_count": null,
      "outputs": [
        {
          "output_type": "stream",
          "name": "stdout",
          "text": [
            "Array 1: (3, 4)\n",
            "Array 2: (3, 1)\n"
          ]
        }
      ]
    },
    {
      "cell_type": "code",
      "source": [
        "print(array_1*array_2)"
      ],
      "metadata": {
        "colab": {
          "base_uri": "https://localhost:8080/"
        },
        "id": "d9hRzQWIpglA",
        "outputId": "f67c8cf2-6a4d-4f98-d480-1ba282ff05ef"
      },
      "execution_count": null,
      "outputs": [
        {
          "output_type": "stream",
          "name": "stdout",
          "text": [
            "[[1 1 1 1]\n",
            " [4 4 4 4]\n",
            " [9 9 9 9]]\n"
          ]
        }
      ]
    },
    {
      "cell_type": "code",
      "source": [
        "print(array_1.T)"
      ],
      "metadata": {
        "colab": {
          "base_uri": "https://localhost:8080/"
        },
        "id": "M4xdDJKrs4WB",
        "outputId": "2f7bef37-d93c-4d69-95d8-fc70544cecbf"
      },
      "execution_count": null,
      "outputs": [
        {
          "output_type": "stream",
          "name": "stdout",
          "text": [
            "[[1 2 3]\n",
            " [1 2 3]\n",
            " [1 2 3]\n",
            " [1 2 3]]\n"
          ]
        }
      ]
    },
    {
      "cell_type": "code",
      "source": [
        "array_new = np.array([3,2,1])\n",
        "print(array_1.T + array_new)"
      ],
      "metadata": {
        "colab": {
          "base_uri": "https://localhost:8080/"
        },
        "id": "WwVFoC3atIXL",
        "outputId": "5fc4ab62-d419-4e08-e841-2e24001bde7f"
      },
      "execution_count": null,
      "outputs": [
        {
          "output_type": "stream",
          "name": "stdout",
          "text": [
            "[[4 4 4]\n",
            " [4 4 4]\n",
            " [4 4 4]\n",
            " [4 4 4]]\n"
          ]
        }
      ]
    },
    {
      "cell_type": "code",
      "source": [
        "print(array_1)"
      ],
      "metadata": {
        "colab": {
          "base_uri": "https://localhost:8080/"
        },
        "id": "iMqIkWKmuXIW",
        "outputId": "a2bcb4ee-7010-4dee-af07-6e85a28ccb18"
      },
      "execution_count": null,
      "outputs": [
        {
          "output_type": "stream",
          "name": "stdout",
          "text": [
            "[[1 1 1 1]\n",
            " [2 2 2 2]\n",
            " [3 3 3 3]]\n"
          ]
        }
      ]
    },
    {
      "cell_type": "code",
      "source": [
        "array_new2 = np.array([[1], [2], [3]])\n",
        "print(array_new2)\n",
        "print(array_1 + array_new2)"
      ],
      "metadata": {
        "colab": {
          "base_uri": "https://localhost:8080/"
        },
        "id": "FK5aPPUotRMB",
        "outputId": "fbc3b622-9fe7-416e-f1fd-9439ab7f7d84"
      },
      "execution_count": null,
      "outputs": [
        {
          "output_type": "stream",
          "name": "stdout",
          "text": [
            "[[1]\n",
            " [2]\n",
            " [3]]\n",
            "[[2 2 2 2]\n",
            " [4 4 4 4]\n",
            " [6 6 6 6]]\n"
          ]
        }
      ]
    },
    {
      "cell_type": "markdown",
      "source": [
        "#Unique items and Frequency Counts"
      ],
      "metadata": {
        "id": "oiNBeanRsrp9"
      }
    },
    {
      "cell_type": "code",
      "source": [
        "first_arr = np.random.randint(1,11,20)\n",
        "first_arr"
      ],
      "metadata": {
        "colab": {
          "base_uri": "https://localhost:8080/"
        },
        "id": "7f1zGS64sveG",
        "outputId": "3c78635a-fed3-4d98-94aa-65303126348c"
      },
      "execution_count": null,
      "outputs": [
        {
          "output_type": "execute_result",
          "data": {
            "text/plain": [
              "array([ 5,  9,  1,  6,  1,  7,  5,  1,  6,  4,  2,  3,  2,  5, 10,  9,  4,\n",
              "        4,  1, 10])"
            ]
          },
          "metadata": {},
          "execution_count": 131
        }
      ]
    },
    {
      "cell_type": "code",
      "source": [
        "np.unique(first_arr) #sorted"
      ],
      "metadata": {
        "colab": {
          "base_uri": "https://localhost:8080/"
        },
        "id": "sfJAIhXws-lL",
        "outputId": "3ef32441-1746-442b-89c6-b7af568c191e"
      },
      "execution_count": null,
      "outputs": [
        {
          "output_type": "execute_result",
          "data": {
            "text/plain": [
              "array([ 1,  2,  3,  4,  5,  6,  7,  9, 10])"
            ]
          },
          "metadata": {},
          "execution_count": 132
        }
      ]
    },
    {
      "cell_type": "code",
      "source": [
        "second_arr = np.stack([[1,1,2,1], [2,4,0,4], [1,1,2,1], [1,4,1,4]])\n",
        "second_arr"
      ],
      "metadata": {
        "colab": {
          "base_uri": "https://localhost:8080/"
        },
        "id": "--5ngQ28tDIS",
        "outputId": "e58d9cdc-3a71-4067-dd3e-1680c218c7f9"
      },
      "execution_count": null,
      "outputs": [
        {
          "output_type": "execute_result",
          "data": {
            "text/plain": [
              "array([[1, 1, 2, 1],\n",
              "       [2, 4, 0, 4],\n",
              "       [1, 1, 2, 1],\n",
              "       [1, 4, 1, 4]])"
            ]
          },
          "metadata": {},
          "execution_count": 151
        }
      ]
    },
    {
      "cell_type": "code",
      "source": [
        "np.unique(second_arr, axis=0)"
      ],
      "metadata": {
        "colab": {
          "base_uri": "https://localhost:8080/"
        },
        "id": "guzlrjFOtaFg",
        "outputId": "2dee6750-408d-491c-f42e-6dbde4fd34ed"
      },
      "execution_count": null,
      "outputs": [
        {
          "output_type": "execute_result",
          "data": {
            "text/plain": [
              "array([[1, 1, 2, 1],\n",
              "       [1, 4, 1, 4],\n",
              "       [2, 4, 0, 4]])"
            ]
          },
          "metadata": {},
          "execution_count": 153
        }
      ]
    },
    {
      "cell_type": "code",
      "source": [
        "np.unique(second_arr, axis=1)"
      ],
      "metadata": {
        "colab": {
          "base_uri": "https://localhost:8080/"
        },
        "id": "qzDeUtRBtfBq",
        "outputId": "9408d737-af41-4c45-d2aa-7e6c177df969"
      },
      "execution_count": null,
      "outputs": [
        {
          "output_type": "execute_result",
          "data": {
            "text/plain": [
              "array([[1, 1, 2],\n",
              "       [2, 4, 0],\n",
              "       [1, 1, 2],\n",
              "       [1, 4, 1]])"
            ]
          },
          "metadata": {},
          "execution_count": 154
        }
      ]
    },
    {
      "cell_type": "code",
      "source": [
        "#indices of unique elements\n",
        "\n",
        "np.unique(second_arr,axis=0,return_index=True)"
      ],
      "metadata": {
        "colab": {
          "base_uri": "https://localhost:8080/"
        },
        "id": "k-72vfBRuzio",
        "outputId": "4ee53639-2217-4e61-be7d-4255d7a227c0"
      },
      "execution_count": null,
      "outputs": [
        {
          "output_type": "execute_result",
          "data": {
            "text/plain": [
              "(array([[1, 1, 2, 1],\n",
              "        [1, 4, 1, 4],\n",
              "        [2, 4, 0, 4]]), array([0, 3, 1]))"
            ]
          },
          "metadata": {},
          "execution_count": 159
        }
      ]
    },
    {
      "cell_type": "code",
      "source": [
        "#frequency count\n",
        "\n",
        "np.unique(second_arr,axis=1,return_counts=True)"
      ],
      "metadata": {
        "colab": {
          "base_uri": "https://localhost:8080/"
        },
        "id": "7KxNweqhvSnB",
        "outputId": "389da6fb-0e07-4ef7-a18c-0b72febc4e64"
      },
      "execution_count": null,
      "outputs": [
        {
          "output_type": "execute_result",
          "data": {
            "text/plain": [
              "(array([[1, 1, 2],\n",
              "        [2, 4, 0],\n",
              "        [1, 1, 2],\n",
              "        [1, 4, 1]]), array([1, 2, 1]))"
            ]
          },
          "metadata": {},
          "execution_count": 165
        }
      ]
    },
    {
      "cell_type": "markdown",
      "source": [
        "# Linear Algebra"
      ],
      "metadata": {
        "id": "ueQzqpY8WxdG"
      }
    },
    {
      "cell_type": "code",
      "source": [
        "first_arr = np.arange(16).reshape(4,4)\n",
        "first_arr"
      ],
      "metadata": {
        "colab": {
          "base_uri": "https://localhost:8080/"
        },
        "id": "BVjXnergWwsx",
        "outputId": "a443e971-f428-47b1-bd38-79885aedfa2a"
      },
      "execution_count": null,
      "outputs": [
        {
          "output_type": "execute_result",
          "data": {
            "text/plain": [
              "array([[ 0,  1,  2,  3],\n",
              "       [ 4,  5,  6,  7],\n",
              "       [ 8,  9, 10, 11],\n",
              "       [12, 13, 14, 15]])"
            ]
          },
          "metadata": {},
          "execution_count": 5
        }
      ]
    },
    {
      "cell_type": "code",
      "source": [
        "first_matrix = np.matrix(first_arr)\n",
        "first_matrix"
      ],
      "metadata": {
        "colab": {
          "base_uri": "https://localhost:8080/"
        },
        "id": "YShfrc4hW_cL",
        "outputId": "27774ee6-b1a1-4547-9270-28596648185f"
      },
      "execution_count": null,
      "outputs": [
        {
          "output_type": "execute_result",
          "data": {
            "text/plain": [
              "matrix([[ 0,  1,  2,  3],\n",
              "        [ 4,  5,  6,  7],\n",
              "        [ 8,  9, 10, 11],\n",
              "        [12, 13, 14, 15]])"
            ]
          },
          "metadata": {},
          "execution_count": 3
        }
      ]
    },
    {
      "cell_type": "code",
      "source": [
        "identity_matrix = np.matrix(np.identity(4))\n",
        "identity_matrix"
      ],
      "metadata": {
        "colab": {
          "base_uri": "https://localhost:8080/"
        },
        "id": "qVh0edEMXFhL",
        "outputId": "b72ddf63-123c-45ed-caaf-d3df621fead4"
      },
      "execution_count": null,
      "outputs": [
        {
          "output_type": "execute_result",
          "data": {
            "text/plain": [
              "matrix([[1., 0., 0., 0.],\n",
              "        [0., 1., 0., 0.],\n",
              "        [0., 0., 1., 0.],\n",
              "        [0., 0., 0., 1.]])"
            ]
          },
          "metadata": {},
          "execution_count": 4
        }
      ]
    },
    {
      "cell_type": "code",
      "source": [
        "#product\n",
        "np.matmul(first_matrix, identity_matrix)"
      ],
      "metadata": {
        "colab": {
          "base_uri": "https://localhost:8080/"
        },
        "id": "muA-XTYxXPAz",
        "outputId": "be21ed69-4c28-4618-feb5-9bd90574f636"
      },
      "execution_count": null,
      "outputs": [
        {
          "output_type": "execute_result",
          "data": {
            "text/plain": [
              "matrix([[ 0.,  1.,  2.,  3.],\n",
              "        [ 4.,  5.,  6.,  7.],\n",
              "        [ 8.,  9., 10., 11.],\n",
              "        [12., 13., 14., 15.]])"
            ]
          },
          "metadata": {},
          "execution_count": 6
        }
      ]
    },
    {
      "cell_type": "code",
      "source": [
        "#Inverse\n",
        "c = np.matrix(\"0 1 2; 1 0 3; 4 -3 8\")\n",
        "c = np.linalg.inv(c)\n",
        "c"
      ],
      "metadata": {
        "colab": {
          "base_uri": "https://localhost:8080/"
        },
        "id": "pwExTfyhXncs",
        "outputId": "56c56542-d3ce-445b-ff6b-999624b12302"
      },
      "execution_count": null,
      "outputs": [
        {
          "output_type": "execute_result",
          "data": {
            "text/plain": [
              "matrix([[-4.5,  7. , -1.5],\n",
              "        [-2. ,  4. , -1. ],\n",
              "        [ 1.5, -2. ,  0.5]])"
            ]
          },
          "metadata": {},
          "execution_count": 11
        }
      ]
    },
    {
      "cell_type": "markdown",
      "source": [
        "# Solving Linear Equations"
      ],
      "metadata": {
        "id": "blmOdJ3KYloT"
      }
    },
    {
      "cell_type": "code",
      "source": [
        "a = np.mat(\"1 -2 1;0 2 -8;-4 5 9\")\n",
        "a"
      ],
      "metadata": {
        "colab": {
          "base_uri": "https://localhost:8080/"
        },
        "id": "E9CIbUykYlAl",
        "outputId": "69dc7a41-5616-44a3-c7dc-01017f8d8c20"
      },
      "execution_count": null,
      "outputs": [
        {
          "output_type": "execute_result",
          "data": {
            "text/plain": [
              "matrix([[ 1, -2,  1],\n",
              "        [ 0,  2, -8],\n",
              "        [-4,  5,  9]])"
            ]
          },
          "metadata": {},
          "execution_count": 12
        }
      ]
    },
    {
      "cell_type": "code",
      "source": [
        "b = np.array([0, 16, -18])\n",
        "b"
      ],
      "metadata": {
        "colab": {
          "base_uri": "https://localhost:8080/"
        },
        "id": "-SFCoJMYYuVr",
        "outputId": "5dbee3ca-aa54-40fc-e8e5-d85c6c3a91df"
      },
      "execution_count": null,
      "outputs": [
        {
          "output_type": "execute_result",
          "data": {
            "text/plain": [
              "array([  0,  16, -18])"
            ]
          },
          "metadata": {},
          "execution_count": 14
        }
      ]
    },
    {
      "cell_type": "code",
      "source": [
        "print(np.linalg.solve(a,b))"
      ],
      "metadata": {
        "colab": {
          "base_uri": "https://localhost:8080/"
        },
        "id": "RvJALyo6Yx-U",
        "outputId": "e517fd6e-1b21-4d5e-fb42-72ebf2506475"
      },
      "execution_count": null,
      "outputs": [
        {
          "output_type": "stream",
          "name": "stdout",
          "text": [
            "[58. 32.  6.]\n"
          ]
        }
      ]
    },
    {
      "cell_type": "markdown",
      "source": [
        "# Decomposition"
      ],
      "metadata": {
        "id": "_Ckgh4eSY72p"
      }
    },
    {
      "cell_type": "code",
      "source": [
        "first_matrix = np.matrix([[4,8],[10,14]])\n",
        "first_matrix"
      ],
      "metadata": {
        "colab": {
          "base_uri": "https://localhost:8080/"
        },
        "id": "Cco7PnzRY5tb",
        "outputId": "cd245d28-a73d-4d0a-8d78-7c5bc37478af"
      },
      "execution_count": null,
      "outputs": [
        {
          "output_type": "execute_result",
          "data": {
            "text/plain": [
              "matrix([[ 4,  8],\n",
              "        [10, 14]])"
            ]
          },
          "metadata": {},
          "execution_count": 17
        }
      ]
    },
    {
      "cell_type": "code",
      "source": [
        "evals, evec = np.linalg.eig(first_matrix)\n",
        "print(\"Eigenvalues: \\t\", evals)\n",
        "print(\"Eigenvectors: \\t\", evec)"
      ],
      "metadata": {
        "colab": {
          "base_uri": "https://localhost:8080/"
        },
        "id": "BsE20WTVZV9-",
        "outputId": "163dc72d-ee78-4d09-f68e-dd42a2b17355"
      },
      "execution_count": null,
      "outputs": [
        {
          "output_type": "stream",
          "name": "stdout",
          "text": [
            "Eigenvalues: \t [-1.24695077 19.24695077]\n",
            "Eigenvectors: \t [[-0.83619408 -0.46462222]\n",
            " [ 0.54843365 -0.885509  ]]\n"
          ]
        }
      ]
    },
    {
      "cell_type": "code",
      "source": [
        "np.linalg.eigvals(first_matrix)"
      ],
      "metadata": {
        "colab": {
          "base_uri": "https://localhost:8080/"
        },
        "id": "1U7E5rSVZt3M",
        "outputId": "df9bd86d-78bd-46f3-f5ca-dc5a79a9fb6b"
      },
      "execution_count": null,
      "outputs": [
        {
          "output_type": "execute_result",
          "data": {
            "text/plain": [
              "array([-1.24695077, 19.24695077])"
            ]
          },
          "metadata": {},
          "execution_count": 19
        }
      ]
    },
    {
      "cell_type": "markdown",
      "source": [
        "#Singular Value Decomposition"
      ],
      "metadata": {
        "id": "TKF4MGqQZ58u"
      }
    },
    {
      "cell_type": "code",
      "source": [
        "A = np.mat(\"3 1 4;1 5 9;2 6 5\")\n",
        "A"
      ],
      "metadata": {
        "colab": {
          "base_uri": "https://localhost:8080/"
        },
        "id": "Q1TB3-0rZ2xa",
        "outputId": "1171614f-865c-43c3-bcf2-c75681c6a3c4"
      },
      "execution_count": null,
      "outputs": [
        {
          "output_type": "execute_result",
          "data": {
            "text/plain": [
              "matrix([[3, 1, 4],\n",
              "        [1, 5, 9],\n",
              "        [2, 6, 5]])"
            ]
          },
          "metadata": {},
          "execution_count": 20
        }
      ]
    },
    {
      "cell_type": "code",
      "source": [
        "U, sigma, V = np.linalg.svd(A, full_matrices=False)\n",
        "print(\"U: \\t\",U)\n",
        "print(\"Sigma: \\t\",sigma)\n",
        "print(\"V: \\t\",V)"
      ],
      "metadata": {
        "colab": {
          "base_uri": "https://localhost:8080/"
        },
        "id": "8TAHOCD6aLME",
        "outputId": "42cdde80-4e32-45f4-ece9-c1a076e33950"
      },
      "execution_count": null,
      "outputs": [
        {
          "output_type": "stream",
          "name": "stdout",
          "text": [
            "U: \t [[-0.32463251  0.79898436  0.50619929]\n",
            " [-0.75307473  0.1054674  -0.64942672]\n",
            " [-0.57226932 -0.59203093  0.56745679]]\n",
            "Sigma: \t [13.58235799  2.84547726  2.32869289]\n",
            "V: \t [[-0.21141476 -0.55392606 -0.80527617]\n",
            " [ 0.46331722 -0.78224635  0.41644663]\n",
            " [ 0.86060499  0.28505536 -0.42202191]]\n"
          ]
        }
      ]
    },
    {
      "cell_type": "code",
      "source": [
        "U * np.diag(sigma) * V"
      ],
      "metadata": {
        "colab": {
          "base_uri": "https://localhost:8080/"
        },
        "id": "ao7ZATHrabFM",
        "outputId": "0fc1444e-2786-4108-8c4c-cc6813e05dab"
      },
      "execution_count": null,
      "outputs": [
        {
          "output_type": "execute_result",
          "data": {
            "text/plain": [
              "matrix([[3., 1., 4.],\n",
              "        [1., 5., 9.],\n",
              "        [2., 6., 5.]])"
            ]
          },
          "metadata": {},
          "execution_count": 23
        }
      ]
    },
    {
      "cell_type": "markdown",
      "source": [
        "#Polynomials"
      ],
      "metadata": {
        "id": "oKs8BZxHcg1U"
      }
    },
    {
      "cell_type": "code",
      "source": [
        "from numpy.polynomial import polynomial"
      ],
      "metadata": {
        "id": "xKCZuxKWcjda"
      },
      "execution_count": null,
      "outputs": []
    },
    {
      "cell_type": "code",
      "source": [
        "first_poly = np.polynomial.Polynomial([2,-3,1])\n",
        "first_poly"
      ],
      "metadata": {
        "colab": {
          "base_uri": "https://localhost:8080/",
          "height": 38
        },
        "id": "DK1KYbYLcmyk",
        "outputId": "63e4f83f-8bea-4a4b-a669-578057fedcc2"
      },
      "execution_count": null,
      "outputs": [
        {
          "output_type": "execute_result",
          "data": {
            "text/plain": [
              "Polynomial([ 2., -3.,  1.], domain=[-1,  1], window=[-1,  1])"
            ],
            "text/latex": "$x \\mapsto \\text{2.0} - \\text{3.0}\\,x + \\text{1.0}\\,x^{2}$"
          },
          "metadata": {},
          "execution_count": 25
        }
      ]
    },
    {
      "cell_type": "code",
      "source": [
        "second_poly = np.polynomial.Polynomial.fromroots([1,2])\n",
        "second_poly"
      ],
      "metadata": {
        "colab": {
          "base_uri": "https://localhost:8080/",
          "height": 38
        },
        "id": "zJWQot6Fcysi",
        "outputId": "ea18abf6-3cdc-4020-e0c3-00366c8de720"
      },
      "execution_count": null,
      "outputs": [
        {
          "output_type": "execute_result",
          "data": {
            "text/plain": [
              "Polynomial([ 2., -3.,  1.], domain=[-1.,  1.], window=[-1.,  1.])"
            ],
            "text/latex": "$x \\mapsto \\text{2.0} - \\text{3.0}\\,x + \\text{1.0}\\,x^{2}$"
          },
          "metadata": {},
          "execution_count": 28
        }
      ]
    },
    {
      "cell_type": "code",
      "source": [
        "first_poly.roots()"
      ],
      "metadata": {
        "colab": {
          "base_uri": "https://localhost:8080/"
        },
        "id": "gwhPN_sic595",
        "outputId": "2e2a4995-9c59-4614-b51c-279d6a494202"
      },
      "execution_count": null,
      "outputs": [
        {
          "output_type": "execute_result",
          "data": {
            "text/plain": [
              "array([1., 2.])"
            ]
          },
          "metadata": {},
          "execution_count": 29
        }
      ]
    },
    {
      "cell_type": "code",
      "source": [
        "second_poly.roots()"
      ],
      "metadata": {
        "colab": {
          "base_uri": "https://localhost:8080/"
        },
        "id": "R2EXV5xgdCSa",
        "outputId": "fbbcc39d-e2c4-49e3-a202-4f4f396f8871"
      },
      "execution_count": null,
      "outputs": [
        {
          "output_type": "execute_result",
          "data": {
            "text/plain": [
              "array([1., 2.])"
            ]
          },
          "metadata": {},
          "execution_count": 30
        }
      ]
    },
    {
      "cell_type": "markdown",
      "source": [
        "#y = x^4 + 2x^3 + 3x^2 + 4x + 5, x=1"
      ],
      "metadata": {
        "id": "sumGfa-gdHV8"
      }
    },
    {
      "cell_type": "code",
      "source": [
        "np.polyval([5,4,3,2,1],1)"
      ],
      "metadata": {
        "colab": {
          "base_uri": "https://localhost:8080/"
        },
        "id": "p5R_4tPPdEAT",
        "outputId": "91765267-db88-4a67-9e0e-587898be23db"
      },
      "execution_count": null,
      "outputs": [
        {
          "output_type": "execute_result",
          "data": {
            "text/plain": [
              "15"
            ]
          },
          "metadata": {},
          "execution_count": 31
        }
      ]
    },
    {
      "cell_type": "code",
      "source": [
        "third_poly = np.polynomial.Polynomial([1,2,3,4,5])\n",
        "third_poly"
      ],
      "metadata": {
        "colab": {
          "base_uri": "https://localhost:8080/",
          "height": 38
        },
        "id": "NAcLVtWQduRL",
        "outputId": "1f1133d6-4e10-4fbb-dd51-d99173c90e89"
      },
      "execution_count": null,
      "outputs": [
        {
          "output_type": "execute_result",
          "data": {
            "text/plain": [
              "Polynomial([1., 2., 3., 4., 5.], domain=[-1,  1], window=[-1,  1])"
            ],
            "text/latex": "$x \\mapsto \\text{1.0} + \\text{2.0}\\,x + \\text{3.0}\\,x^{2} + \\text{4.0}\\,x^{3} + \\text{5.0}\\,x^{4}$"
          },
          "metadata": {},
          "execution_count": 33
        }
      ]
    },
    {
      "cell_type": "code",
      "source": [
        "third_poly.integ()"
      ],
      "metadata": {
        "colab": {
          "base_uri": "https://localhost:8080/",
          "height": 38
        },
        "id": "v3sEj5tCd1mL",
        "outputId": "1dc70aca-fe7a-4787-f648-26905a861dac"
      },
      "execution_count": null,
      "outputs": [
        {
          "output_type": "execute_result",
          "data": {
            "text/plain": [
              "Polynomial([0., 1., 1., 1., 1., 1.], domain=[-1.,  1.], window=[-1.,  1.])"
            ],
            "text/latex": "$x \\mapsto \\color{LightGray}{\\text{0.0}} + \\text{1.0}\\,x + \\text{1.0}\\,x^{2} + \\text{1.0}\\,x^{3} + \\text{1.0}\\,x^{4} + \\text{1.0}\\,x^{5}$"
          },
          "metadata": {},
          "execution_count": 36
        }
      ]
    },
    {
      "cell_type": "code",
      "source": [
        "third_poly.integ().deriv()"
      ],
      "metadata": {
        "colab": {
          "base_uri": "https://localhost:8080/",
          "height": 38
        },
        "id": "NXOxLjAtd7ma",
        "outputId": "0e257f5b-89a4-4b59-c92e-55456425c675"
      },
      "execution_count": null,
      "outputs": [
        {
          "output_type": "execute_result",
          "data": {
            "text/plain": [
              "Polynomial([1., 2., 3., 4., 5.], domain=[-1.,  1.], window=[-1.,  1.])"
            ],
            "text/latex": "$x \\mapsto \\text{1.0} + \\text{2.0}\\,x + \\text{3.0}\\,x^{2} + \\text{4.0}\\,x^{3} + \\text{5.0}\\,x^{4}$"
          },
          "metadata": {},
          "execution_count": 37
        }
      ]
    },
    {
      "cell_type": "code",
      "source": [
        "third_poly.deriv()"
      ],
      "metadata": {
        "colab": {
          "base_uri": "https://localhost:8080/",
          "height": 38
        },
        "id": "UbUx-orEeIaS",
        "outputId": "77e8eb92-3225-4be4-a754-3e18ef6df598"
      },
      "execution_count": null,
      "outputs": [
        {
          "output_type": "execute_result",
          "data": {
            "text/plain": [
              "Polynomial([ 2.,  6., 12., 20.], domain=[-1.,  1.], window=[-1.,  1.])"
            ],
            "text/latex": "$x \\mapsto \\text{2.0} + \\text{6.0}\\,x + \\text{12.0}\\,x^{2} + \\text{20.0}\\,x^{3}$"
          },
          "metadata": {},
          "execution_count": 38
        }
      ]
    },
    {
      "cell_type": "markdown",
      "source": [
        "# Copy and Views"
      ],
      "metadata": {
        "id": "9wyfp7sYuAcL"
      }
    },
    {
      "cell_type": "code",
      "source": [
        "students_id = np.array([111,122,133,144,155,166,177,188])\n",
        "students_id"
      ],
      "metadata": {
        "colab": {
          "base_uri": "https://localhost:8080/"
        },
        "id": "nGriI7awt2ZJ",
        "outputId": "5690ce8d-5851-464f-aad4-8d55b112ac74"
      },
      "execution_count": null,
      "outputs": [
        {
          "output_type": "execute_result",
          "data": {
            "text/plain": [
              "array([111, 122, 133, 144, 155, 166, 177, 188])"
            ]
          },
          "metadata": {},
          "execution_count": 51
        }
      ]
    },
    {
      "cell_type": "code",
      "source": [
        "student_reg = students_id\n",
        "print(\"Students ID: \",id(students_id))\n",
        "print(\"Students REG: \",id(student_reg))"
      ],
      "metadata": {
        "colab": {
          "base_uri": "https://localhost:8080/"
        },
        "id": "BRg3mZYpuOTI",
        "outputId": "33794e63-0566-4ea8-b951-982ea571cb65"
      },
      "execution_count": null,
      "outputs": [
        {
          "output_type": "stream",
          "name": "stdout",
          "text": [
            "Students ID:  140000327200656\n",
            "Students REG:  140000327200656\n"
          ]
        }
      ]
    },
    {
      "cell_type": "code",
      "source": [
        "student_reg[1] = 221\n",
        "print(\"Students ID: \",students_id)\n",
        "print(\"Students REG: \",student_reg)"
      ],
      "metadata": {
        "colab": {
          "base_uri": "https://localhost:8080/"
        },
        "id": "vr37bvSOudRR",
        "outputId": "55f95793-7596-4acb-e384-e118acaa116d"
      },
      "execution_count": null,
      "outputs": [
        {
          "output_type": "stream",
          "name": "stdout",
          "text": [
            "Students ID:  [111 221 133 144 155 166 177 188]\n",
            "Students REG:  [111 221 133 144 155 166 177 188]\n"
          ]
        }
      ]
    },
    {
      "cell_type": "markdown",
      "source": [
        "### Thus, assignemnts don't get copied"
      ],
      "metadata": {
        "id": "LTLByT9pu3xV"
      }
    },
    {
      "cell_type": "code",
      "source": [
        "students_id_copy = students_id.copy()\n",
        "students_id_copy"
      ],
      "metadata": {
        "colab": {
          "base_uri": "https://localhost:8080/"
        },
        "id": "um80Qm-tuf0R",
        "outputId": "773ba8a5-3a55-4479-d3c1-fb5f888c1c46"
      },
      "execution_count": null,
      "outputs": [
        {
          "output_type": "execute_result",
          "data": {
            "text/plain": [
              "array([111, 221, 133, 144, 155, 166, 177, 188])"
            ]
          },
          "metadata": {},
          "execution_count": 55
        }
      ]
    },
    {
      "cell_type": "code",
      "source": [
        "print(students_id_copy == students_id)"
      ],
      "metadata": {
        "colab": {
          "base_uri": "https://localhost:8080/"
        },
        "id": "Wkx7zhKNvKDV",
        "outputId": "92acaaea-2c1d-416f-c807-8eec28004e6e"
      },
      "execution_count": null,
      "outputs": [
        {
          "output_type": "stream",
          "name": "stdout",
          "text": [
            "[ True  True  True  True  True  True  True  True]\n"
          ]
        }
      ]
    },
    {
      "cell_type": "code",
      "source": [
        "print(\"Students ID: \",id(students_id))\n",
        "print(\"Students ID COPY: \",id(students_id_copy))"
      ],
      "metadata": {
        "colab": {
          "base_uri": "https://localhost:8080/"
        },
        "id": "8NZnDhmtvRLn",
        "outputId": "35fb85a4-123d-449d-f267-b94d30d46d6c"
      },
      "execution_count": null,
      "outputs": [
        {
          "output_type": "stream",
          "name": "stdout",
          "text": [
            "Students ID:  140000327200656\n",
            "Students ID COPY:  140000326992688\n"
          ]
        }
      ]
    },
    {
      "cell_type": "code",
      "source": [
        "students_id[0]=100\n",
        "print('Original: ', students_id)\n",
        "print('Copy: ', students_id_copy)"
      ],
      "metadata": {
        "colab": {
          "base_uri": "https://localhost:8080/"
        },
        "id": "kUxv3P0tvUZh",
        "outputId": "5b0c3602-9bd1-41cb-8966-f143c5d7933d"
      },
      "execution_count": null,
      "outputs": [
        {
          "output_type": "stream",
          "name": "stdout",
          "text": [
            "Original:  [100 221 133 144 155 166 177 188]\n",
            "Copy:  [111 221 133 144 155 166 177 188]\n"
          ]
        }
      ]
    },
    {
      "cell_type": "markdown",
      "source": [
        "### Thus, the copy owns the data"
      ],
      "metadata": {
        "id": "TlbmM6crvk-R"
      }
    },
    {
      "cell_type": "code",
      "source": [
        "#view\n",
        "\n",
        "students_id_view = students_id.view()"
      ],
      "metadata": {
        "id": "tKViHaoAvjed"
      },
      "execution_count": null,
      "outputs": []
    },
    {
      "cell_type": "code",
      "source": [
        "students_id_view[0]=2000\n",
        "print('Original', students_id)\n",
        "print('View', students_id_view)"
      ],
      "metadata": {
        "colab": {
          "base_uri": "https://localhost:8080/"
        },
        "id": "gMRbiSCuvtrX",
        "outputId": "318db0c2-4a3c-4266-f653-206d72680f42"
      },
      "execution_count": null,
      "outputs": [
        {
          "output_type": "stream",
          "name": "stdout",
          "text": [
            "Original [2000  221  133  144  155  166  177  188]\n",
            "View [2000  221  133  144  155  166  177  188]\n"
          ]
        }
      ]
    },
    {
      "cell_type": "code",
      "source": [
        "print(students_id_copy.base)\n",
        "print(students_id_view.base)"
      ],
      "metadata": {
        "colab": {
          "base_uri": "https://localhost:8080/"
        },
        "id": "BuIbH5Kxv1NX",
        "outputId": "8085a265-9903-4d0a-f65f-3980728f325f"
      },
      "execution_count": null,
      "outputs": [
        {
          "output_type": "stream",
          "name": "stdout",
          "text": [
            "None\n",
            "[2000  221  133  144  155  166  177  188]\n"
          ]
        }
      ]
    },
    {
      "cell_type": "markdown",
      "source": [
        "### Thus view does not own the data"
      ],
      "metadata": {
        "id": "8Pw5IISxwK-H"
      }
    }
  ]
}