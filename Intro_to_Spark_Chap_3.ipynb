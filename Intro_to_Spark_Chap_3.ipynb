{
  "nbformat": 4,
  "nbformat_minor": 0,
  "metadata": {
    "colab": {
      "provenance": [],
      "authorship_tag": "ABX9TyMUmn7Gn9Gjo4xA9AayqYP8",
      "include_colab_link": true
    },
    "kernelspec": {
      "name": "python3",
      "display_name": "Python 3"
    },
    "language_info": {
      "name": "python"
    }
  },
  "cells": [
    {
      "cell_type": "markdown",
      "metadata": {
        "id": "view-in-github",
        "colab_type": "text"
      },
      "source": [
        "<a href=\"https://colab.research.google.com/github/nandini-mazumdar/learning-spark-again/blob/main/Intro_to_Spark_Chap_3.ipynb\" target=\"_parent\"><img src=\"https://colab.research.google.com/assets/colab-badge.svg\" alt=\"Open In Colab\"/></a>"
      ]
    },
    {
      "cell_type": "code",
      "source": [
        "!apt-get install openjdk-8-jdk-headless -qq > /dev/null\n",
        "!wget -q http://archive.apache.org/dist/spark/spark-3.1.1/spark-3.1.1-bin-hadoop3.2.tgz\n",
        "!tar xf spark-3.1.1-bin-hadoop3.2.tgz\n",
        "!pip install -q findspark"
      ],
      "metadata": {
        "id": "CybOHUnNDHP6"
      },
      "execution_count": null,
      "outputs": []
    },
    {
      "cell_type": "code",
      "source": [
        "import os\n",
        "os.environ[\"JAVA_HOME\"] = \"/usr/lib/jvm/java-8-openjdk-amd64\"\n",
        "os.environ[\"SPARK_HOME\"] = \"/content/spark-3.1.1-bin-hadoop3.2\""
      ],
      "metadata": {
        "id": "F7LxPp3QDISJ"
      },
      "execution_count": null,
      "outputs": []
    },
    {
      "cell_type": "code",
      "execution_count": null,
      "metadata": {
        "colab": {
          "base_uri": "https://localhost:8080/",
          "height": 219
        },
        "id": "Dbpx3XKdBSrg",
        "outputId": "c13203c0-5fd5-405a-d043-f243664ab0ba"
      },
      "outputs": [
        {
          "output_type": "execute_result",
          "data": {
            "text/plain": [
              "<pyspark.sql.session.SparkSession at 0x7f7df83b3190>"
            ],
            "text/html": [
              "\n",
              "            <div>\n",
              "                <p><b>SparkSession - in-memory</b></p>\n",
              "                \n",
              "        <div>\n",
              "            <p><b>SparkContext</b></p>\n",
              "\n",
              "            <p><a href=\"http://fe03ee3351fc:4040\">Spark UI</a></p>\n",
              "\n",
              "            <dl>\n",
              "              <dt>Version</dt>\n",
              "                <dd><code>v3.1.1</code></dd>\n",
              "              <dt>Master</dt>\n",
              "                <dd><code>local[*]</code></dd>\n",
              "              <dt>AppName</dt>\n",
              "                <dd><code>pyspark-shell</code></dd>\n",
              "            </dl>\n",
              "        </div>\n",
              "        \n",
              "            </div>\n",
              "        "
            ]
          },
          "metadata": {},
          "execution_count": 3
        }
      ],
      "source": [
        "import findspark\n",
        "findspark.init()\n",
        "\n",
        "from pyspark.sql import SparkSession\n",
        "spark = SparkSession.builder.master(\"local[*]\").getOrCreate()\n",
        "spark.conf.set(\"spark.sql.repl.eagerEval.enabled\", True) # Property used to format output tables better\n",
        "spark"
      ]
    },
    {
      "cell_type": "markdown",
      "source": [
        "#Loading Data"
      ],
      "metadata": {
        "id": "YnnbB2u1Ibg5"
      }
    },
    {
      "cell_type": "markdown",
      "source": [
        "##CSV Files"
      ],
      "metadata": {
        "id": "2jrcNF6aIeE-"
      }
    },
    {
      "cell_type": "code",
      "source": [
        "from google.colab import files\n",
        "uploaded = files.upload()"
      ],
      "metadata": {
        "colab": {
          "base_uri": "https://localhost:8080/",
          "height": 142
        },
        "id": "K6xF5s-fC-OP",
        "outputId": "5789c005-5888-434e-8ad9-91f8f9dda332"
      },
      "execution_count": null,
      "outputs": [
        {
          "output_type": "display_data",
          "data": {
            "text/plain": [
              "<IPython.core.display.HTML object>"
            ],
            "text/html": [
              "\n",
              "     <input type=\"file\" id=\"files-54acff3a-00fa-46a2-ac01-57e1cca39543\" name=\"files[]\" multiple disabled\n",
              "        style=\"border:none\" />\n",
              "     <output id=\"result-54acff3a-00fa-46a2-ac01-57e1cca39543\">\n",
              "      Upload widget is only available when the cell has been executed in the\n",
              "      current browser session. Please rerun this cell to enable.\n",
              "      </output>\n",
              "      <script>// Copyright 2017 Google LLC\n",
              "//\n",
              "// Licensed under the Apache License, Version 2.0 (the \"License\");\n",
              "// you may not use this file except in compliance with the License.\n",
              "// You may obtain a copy of the License at\n",
              "//\n",
              "//      http://www.apache.org/licenses/LICENSE-2.0\n",
              "//\n",
              "// Unless required by applicable law or agreed to in writing, software\n",
              "// distributed under the License is distributed on an \"AS IS\" BASIS,\n",
              "// WITHOUT WARRANTIES OR CONDITIONS OF ANY KIND, either express or implied.\n",
              "// See the License for the specific language governing permissions and\n",
              "// limitations under the License.\n",
              "\n",
              "/**\n",
              " * @fileoverview Helpers for google.colab Python module.\n",
              " */\n",
              "(function(scope) {\n",
              "function span(text, styleAttributes = {}) {\n",
              "  const element = document.createElement('span');\n",
              "  element.textContent = text;\n",
              "  for (const key of Object.keys(styleAttributes)) {\n",
              "    element.style[key] = styleAttributes[key];\n",
              "  }\n",
              "  return element;\n",
              "}\n",
              "\n",
              "// Max number of bytes which will be uploaded at a time.\n",
              "const MAX_PAYLOAD_SIZE = 100 * 1024;\n",
              "\n",
              "function _uploadFiles(inputId, outputId) {\n",
              "  const steps = uploadFilesStep(inputId, outputId);\n",
              "  const outputElement = document.getElementById(outputId);\n",
              "  // Cache steps on the outputElement to make it available for the next call\n",
              "  // to uploadFilesContinue from Python.\n",
              "  outputElement.steps = steps;\n",
              "\n",
              "  return _uploadFilesContinue(outputId);\n",
              "}\n",
              "\n",
              "// This is roughly an async generator (not supported in the browser yet),\n",
              "// where there are multiple asynchronous steps and the Python side is going\n",
              "// to poll for completion of each step.\n",
              "// This uses a Promise to block the python side on completion of each step,\n",
              "// then passes the result of the previous step as the input to the next step.\n",
              "function _uploadFilesContinue(outputId) {\n",
              "  const outputElement = document.getElementById(outputId);\n",
              "  const steps = outputElement.steps;\n",
              "\n",
              "  const next = steps.next(outputElement.lastPromiseValue);\n",
              "  return Promise.resolve(next.value.promise).then((value) => {\n",
              "    // Cache the last promise value to make it available to the next\n",
              "    // step of the generator.\n",
              "    outputElement.lastPromiseValue = value;\n",
              "    return next.value.response;\n",
              "  });\n",
              "}\n",
              "\n",
              "/**\n",
              " * Generator function which is called between each async step of the upload\n",
              " * process.\n",
              " * @param {string} inputId Element ID of the input file picker element.\n",
              " * @param {string} outputId Element ID of the output display.\n",
              " * @return {!Iterable<!Object>} Iterable of next steps.\n",
              " */\n",
              "function* uploadFilesStep(inputId, outputId) {\n",
              "  const inputElement = document.getElementById(inputId);\n",
              "  inputElement.disabled = false;\n",
              "\n",
              "  const outputElement = document.getElementById(outputId);\n",
              "  outputElement.innerHTML = '';\n",
              "\n",
              "  const pickedPromise = new Promise((resolve) => {\n",
              "    inputElement.addEventListener('change', (e) => {\n",
              "      resolve(e.target.files);\n",
              "    });\n",
              "  });\n",
              "\n",
              "  const cancel = document.createElement('button');\n",
              "  inputElement.parentElement.appendChild(cancel);\n",
              "  cancel.textContent = 'Cancel upload';\n",
              "  const cancelPromise = new Promise((resolve) => {\n",
              "    cancel.onclick = () => {\n",
              "      resolve(null);\n",
              "    };\n",
              "  });\n",
              "\n",
              "  // Wait for the user to pick the files.\n",
              "  const files = yield {\n",
              "    promise: Promise.race([pickedPromise, cancelPromise]),\n",
              "    response: {\n",
              "      action: 'starting',\n",
              "    }\n",
              "  };\n",
              "\n",
              "  cancel.remove();\n",
              "\n",
              "  // Disable the input element since further picks are not allowed.\n",
              "  inputElement.disabled = true;\n",
              "\n",
              "  if (!files) {\n",
              "    return {\n",
              "      response: {\n",
              "        action: 'complete',\n",
              "      }\n",
              "    };\n",
              "  }\n",
              "\n",
              "  for (const file of files) {\n",
              "    const li = document.createElement('li');\n",
              "    li.append(span(file.name, {fontWeight: 'bold'}));\n",
              "    li.append(span(\n",
              "        `(${file.type || 'n/a'}) - ${file.size} bytes, ` +\n",
              "        `last modified: ${\n",
              "            file.lastModifiedDate ? file.lastModifiedDate.toLocaleDateString() :\n",
              "                                    'n/a'} - `));\n",
              "    const percent = span('0% done');\n",
              "    li.appendChild(percent);\n",
              "\n",
              "    outputElement.appendChild(li);\n",
              "\n",
              "    const fileDataPromise = new Promise((resolve) => {\n",
              "      const reader = new FileReader();\n",
              "      reader.onload = (e) => {\n",
              "        resolve(e.target.result);\n",
              "      };\n",
              "      reader.readAsArrayBuffer(file);\n",
              "    });\n",
              "    // Wait for the data to be ready.\n",
              "    let fileData = yield {\n",
              "      promise: fileDataPromise,\n",
              "      response: {\n",
              "        action: 'continue',\n",
              "      }\n",
              "    };\n",
              "\n",
              "    // Use a chunked sending to avoid message size limits. See b/62115660.\n",
              "    let position = 0;\n",
              "    do {\n",
              "      const length = Math.min(fileData.byteLength - position, MAX_PAYLOAD_SIZE);\n",
              "      const chunk = new Uint8Array(fileData, position, length);\n",
              "      position += length;\n",
              "\n",
              "      const base64 = btoa(String.fromCharCode.apply(null, chunk));\n",
              "      yield {\n",
              "        response: {\n",
              "          action: 'append',\n",
              "          file: file.name,\n",
              "          data: base64,\n",
              "        },\n",
              "      };\n",
              "\n",
              "      let percentDone = fileData.byteLength === 0 ?\n",
              "          100 :\n",
              "          Math.round((position / fileData.byteLength) * 100);\n",
              "      percent.textContent = `${percentDone}% done`;\n",
              "\n",
              "    } while (position < fileData.byteLength);\n",
              "  }\n",
              "\n",
              "  // All done.\n",
              "  yield {\n",
              "    response: {\n",
              "      action: 'complete',\n",
              "    }\n",
              "  };\n",
              "}\n",
              "\n",
              "scope.google = scope.google || {};\n",
              "scope.google.colab = scope.google.colab || {};\n",
              "scope.google.colab._files = {\n",
              "  _uploadFiles,\n",
              "  _uploadFilesContinue,\n",
              "};\n",
              "})(self);\n",
              "</script> "
            ]
          },
          "metadata": {}
        },
        {
          "output_type": "stream",
          "name": "stdout",
          "text": [
            "Saving location_temp.csv to location_temp.csv\n",
            "Saving server_name.csv to server_name.csv\n",
            "Saving utilization.csv to utilization.csv\n"
          ]
        }
      ]
    },
    {
      "cell_type": "code",
      "source": [
        "df = spark.read.csv('location_temp.csv',inferSchema=True, header=True)\n",
        "df.show(5, False)"
      ],
      "metadata": {
        "colab": {
          "base_uri": "https://localhost:8080/"
        },
        "id": "Tuwu7WBCGrRZ",
        "outputId": "3a2e22db-c12f-4a3e-9c9b-9b61296d0824"
      },
      "execution_count": null,
      "outputs": [
        {
          "output_type": "stream",
          "name": "stdout",
          "text": [
            "+-------------------+-----------+------------+\n",
            "|event_date         |location_id|temp_celcius|\n",
            "+-------------------+-----------+------------+\n",
            "|03/04/2019 19:48:06|loc0       |29          |\n",
            "|03/04/2019 19:53:06|loc0       |27          |\n",
            "|03/04/2019 19:58:06|loc0       |28          |\n",
            "|03/04/2019 20:03:06|loc0       |30          |\n",
            "|03/04/2019 20:08:06|loc0       |27          |\n",
            "+-------------------+-----------+------------+\n",
            "only showing top 5 rows\n",
            "\n"
          ]
        }
      ]
    },
    {
      "cell_type": "code",
      "source": [
        "df.take(10)"
      ],
      "metadata": {
        "colab": {
          "base_uri": "https://localhost:8080/"
        },
        "id": "tWLOPsVxG9DE",
        "outputId": "7167ce83-fd18-44cd-dcc2-e097fe7ee7c2"
      },
      "execution_count": null,
      "outputs": [
        {
          "output_type": "execute_result",
          "data": {
            "text/plain": [
              "[Row(event_date='03/04/2019 19:48:06', location_id='loc0', temp_celcius=29),\n",
              " Row(event_date='03/04/2019 19:53:06', location_id='loc0', temp_celcius=27),\n",
              " Row(event_date='03/04/2019 19:58:06', location_id='loc0', temp_celcius=28),\n",
              " Row(event_date='03/04/2019 20:03:06', location_id='loc0', temp_celcius=30),\n",
              " Row(event_date='03/04/2019 20:08:06', location_id='loc0', temp_celcius=27),\n",
              " Row(event_date='03/04/2019 20:13:06', location_id='loc0', temp_celcius=27),\n",
              " Row(event_date='03/04/2019 20:18:06', location_id='loc0', temp_celcius=27),\n",
              " Row(event_date='03/04/2019 20:23:06', location_id='loc0', temp_celcius=29),\n",
              " Row(event_date='03/04/2019 20:28:06', location_id='loc0', temp_celcius=32),\n",
              " Row(event_date='03/04/2019 20:33:06', location_id='loc0', temp_celcius=35)]"
            ]
          },
          "metadata": {},
          "execution_count": 14
        }
      ]
    },
    {
      "cell_type": "code",
      "source": [
        "df.count()"
      ],
      "metadata": {
        "colab": {
          "base_uri": "https://localhost:8080/"
        },
        "id": "eh1xyA5hG_xb",
        "outputId": "d2ee1b40-daa4-4c9b-b72d-72bc16fd23c8"
      },
      "execution_count": null,
      "outputs": [
        {
          "output_type": "execute_result",
          "data": {
            "text/plain": [
              "500000"
            ]
          },
          "metadata": {},
          "execution_count": 15
        }
      ]
    },
    {
      "cell_type": "code",
      "source": [
        "df2 = spark.read.csv('utilization.csv',inferSchema=True, header=False)\n",
        "df2.show(5, False)"
      ],
      "metadata": {
        "colab": {
          "base_uri": "https://localhost:8080/"
        },
        "id": "t_eHCVvwHLj1",
        "outputId": "575f52c9-0bf7-4765-9b6f-aac812a8d18f"
      },
      "execution_count": null,
      "outputs": [
        {
          "output_type": "stream",
          "name": "stdout",
          "text": [
            "+-------------------+---+----+----+---+\n",
            "|_c0                |_c1|_c2 |_c3 |_c4|\n",
            "+-------------------+---+----+----+---+\n",
            "|03/05/2019 08:06:14|100|0.57|0.51|47 |\n",
            "|03/05/2019 08:11:14|100|0.47|0.62|43 |\n",
            "|03/05/2019 08:16:14|100|0.56|0.57|62 |\n",
            "|03/05/2019 08:21:14|100|0.57|0.56|50 |\n",
            "|03/05/2019 08:26:14|100|0.35|0.46|43 |\n",
            "+-------------------+---+----+----+---+\n",
            "only showing top 5 rows\n",
            "\n"
          ]
        }
      ]
    },
    {
      "cell_type": "code",
      "source": [
        "df2.count()"
      ],
      "metadata": {
        "colab": {
          "base_uri": "https://localhost:8080/"
        },
        "id": "AnbyIYDYHfas",
        "outputId": "dce3144b-17bb-416a-f586-b5163362a798"
      },
      "execution_count": null,
      "outputs": [
        {
          "output_type": "execute_result",
          "data": {
            "text/plain": [
              "500000"
            ]
          },
          "metadata": {},
          "execution_count": 20
        }
      ]
    },
    {
      "cell_type": "code",
      "source": [
        "df2.take(10)"
      ],
      "metadata": {
        "colab": {
          "base_uri": "https://localhost:8080/"
        },
        "id": "gCgrAXQ9Hgac",
        "outputId": "69d31461-7bcb-4642-d698-83aa14e6c3c8"
      },
      "execution_count": null,
      "outputs": [
        {
          "output_type": "execute_result",
          "data": {
            "text/plain": [
              "[Row(_c0='03/05/2019 08:06:14', _c1=100, _c2=0.57, _c3=0.51, _c4=47),\n",
              " Row(_c0='03/05/2019 08:11:14', _c1=100, _c2=0.47, _c3=0.62, _c4=43),\n",
              " Row(_c0='03/05/2019 08:16:14', _c1=100, _c2=0.56, _c3=0.57, _c4=62),\n",
              " Row(_c0='03/05/2019 08:21:14', _c1=100, _c2=0.57, _c3=0.56, _c4=50),\n",
              " Row(_c0='03/05/2019 08:26:14', _c1=100, _c2=0.35, _c3=0.46, _c4=43),\n",
              " Row(_c0='03/05/2019 08:31:14', _c1=100, _c2=0.41, _c3=0.58, _c4=48),\n",
              " Row(_c0='03/05/2019 08:36:14', _c1=100, _c2=0.57, _c3=0.35, _c4=58),\n",
              " Row(_c0='03/05/2019 08:41:14', _c1=100, _c2=0.41, _c3=0.4, _c4=58),\n",
              " Row(_c0='03/05/2019 08:46:14', _c1=100, _c2=0.53, _c3=0.35, _c4=62),\n",
              " Row(_c0='03/05/2019 08:51:14', _c1=100, _c2=0.51, _c3=0.6, _c4=45)]"
            ]
          },
          "metadata": {},
          "execution_count": 22
        }
      ]
    },
    {
      "cell_type": "code",
      "source": [
        "df2 = df2.withColumnRenamed(\"_c0\",\"Event_datetime\") \\\n",
        "      .withColumnRenamed(\"_c1\",\"server_id\") \\\n",
        "      .withColumnRenamed(\"_c2\",\"cpu_utilization\") \\\n",
        "      .withColumnRenamed(\"_c3\",\"free_memory\") \\\n",
        "      .withColumnRenamed(\"_c4\",\"session_count\")"
      ],
      "metadata": {
        "id": "B5QXwWD9HnfL"
      },
      "execution_count": null,
      "outputs": []
    },
    {
      "cell_type": "code",
      "source": [
        "df2.show(10)"
      ],
      "metadata": {
        "colab": {
          "base_uri": "https://localhost:8080/"
        },
        "id": "-ZoSe6B-IAmD",
        "outputId": "07234aa5-885e-4080-dc41-ac1e73cc6279"
      },
      "execution_count": null,
      "outputs": [
        {
          "output_type": "stream",
          "name": "stdout",
          "text": [
            "+-------------------+---------+---------------+-----------+-------------+\n",
            "|     Event_datetime|server_id|cpu_utilization|free_memory|session_count|\n",
            "+-------------------+---------+---------------+-----------+-------------+\n",
            "|03/05/2019 08:06:14|      100|           0.57|       0.51|           47|\n",
            "|03/05/2019 08:11:14|      100|           0.47|       0.62|           43|\n",
            "|03/05/2019 08:16:14|      100|           0.56|       0.57|           62|\n",
            "|03/05/2019 08:21:14|      100|           0.57|       0.56|           50|\n",
            "|03/05/2019 08:26:14|      100|           0.35|       0.46|           43|\n",
            "|03/05/2019 08:31:14|      100|           0.41|       0.58|           48|\n",
            "|03/05/2019 08:36:14|      100|           0.57|       0.35|           58|\n",
            "|03/05/2019 08:41:14|      100|           0.41|        0.4|           58|\n",
            "|03/05/2019 08:46:14|      100|           0.53|       0.35|           62|\n",
            "|03/05/2019 08:51:14|      100|           0.51|        0.6|           45|\n",
            "+-------------------+---------+---------------+-----------+-------------+\n",
            "only showing top 10 rows\n",
            "\n"
          ]
        }
      ]
    },
    {
      "cell_type": "markdown",
      "source": [
        "##JSON/Text Files"
      ],
      "metadata": {
        "id": "5WGXZj3XIgxt"
      }
    },
    {
      "cell_type": "code",
      "source": [
        "from google.colab import files\n",
        "files.upload()"
      ],
      "metadata": {
        "colab": {
          "base_uri": "https://localhost:8080/",
          "height": 73
        },
        "id": "ZNeJHgClILvf",
        "outputId": "b5f1eca8-e046-42bf-9e62-0da5281a0f7c"
      },
      "execution_count": null,
      "outputs": [
        {
          "output_type": "display_data",
          "data": {
            "text/plain": [
              "<IPython.core.display.HTML object>"
            ],
            "text/html": [
              "\n",
              "     <input type=\"file\" id=\"files-72fba1ea-a2ef-4fac-a86c-b868e07dd852\" name=\"files[]\" multiple disabled\n",
              "        style=\"border:none\" />\n",
              "     <output id=\"result-72fba1ea-a2ef-4fac-a86c-b868e07dd852\">\n",
              "      Upload widget is only available when the cell has been executed in the\n",
              "      current browser session. Please rerun this cell to enable.\n",
              "      </output>\n",
              "      <script>// Copyright 2017 Google LLC\n",
              "//\n",
              "// Licensed under the Apache License, Version 2.0 (the \"License\");\n",
              "// you may not use this file except in compliance with the License.\n",
              "// You may obtain a copy of the License at\n",
              "//\n",
              "//      http://www.apache.org/licenses/LICENSE-2.0\n",
              "//\n",
              "// Unless required by applicable law or agreed to in writing, software\n",
              "// distributed under the License is distributed on an \"AS IS\" BASIS,\n",
              "// WITHOUT WARRANTIES OR CONDITIONS OF ANY KIND, either express or implied.\n",
              "// See the License for the specific language governing permissions and\n",
              "// limitations under the License.\n",
              "\n",
              "/**\n",
              " * @fileoverview Helpers for google.colab Python module.\n",
              " */\n",
              "(function(scope) {\n",
              "function span(text, styleAttributes = {}) {\n",
              "  const element = document.createElement('span');\n",
              "  element.textContent = text;\n",
              "  for (const key of Object.keys(styleAttributes)) {\n",
              "    element.style[key] = styleAttributes[key];\n",
              "  }\n",
              "  return element;\n",
              "}\n",
              "\n",
              "// Max number of bytes which will be uploaded at a time.\n",
              "const MAX_PAYLOAD_SIZE = 100 * 1024;\n",
              "\n",
              "function _uploadFiles(inputId, outputId) {\n",
              "  const steps = uploadFilesStep(inputId, outputId);\n",
              "  const outputElement = document.getElementById(outputId);\n",
              "  // Cache steps on the outputElement to make it available for the next call\n",
              "  // to uploadFilesContinue from Python.\n",
              "  outputElement.steps = steps;\n",
              "\n",
              "  return _uploadFilesContinue(outputId);\n",
              "}\n",
              "\n",
              "// This is roughly an async generator (not supported in the browser yet),\n",
              "// where there are multiple asynchronous steps and the Python side is going\n",
              "// to poll for completion of each step.\n",
              "// This uses a Promise to block the python side on completion of each step,\n",
              "// then passes the result of the previous step as the input to the next step.\n",
              "function _uploadFilesContinue(outputId) {\n",
              "  const outputElement = document.getElementById(outputId);\n",
              "  const steps = outputElement.steps;\n",
              "\n",
              "  const next = steps.next(outputElement.lastPromiseValue);\n",
              "  return Promise.resolve(next.value.promise).then((value) => {\n",
              "    // Cache the last promise value to make it available to the next\n",
              "    // step of the generator.\n",
              "    outputElement.lastPromiseValue = value;\n",
              "    return next.value.response;\n",
              "  });\n",
              "}\n",
              "\n",
              "/**\n",
              " * Generator function which is called between each async step of the upload\n",
              " * process.\n",
              " * @param {string} inputId Element ID of the input file picker element.\n",
              " * @param {string} outputId Element ID of the output display.\n",
              " * @return {!Iterable<!Object>} Iterable of next steps.\n",
              " */\n",
              "function* uploadFilesStep(inputId, outputId) {\n",
              "  const inputElement = document.getElementById(inputId);\n",
              "  inputElement.disabled = false;\n",
              "\n",
              "  const outputElement = document.getElementById(outputId);\n",
              "  outputElement.innerHTML = '';\n",
              "\n",
              "  const pickedPromise = new Promise((resolve) => {\n",
              "    inputElement.addEventListener('change', (e) => {\n",
              "      resolve(e.target.files);\n",
              "    });\n",
              "  });\n",
              "\n",
              "  const cancel = document.createElement('button');\n",
              "  inputElement.parentElement.appendChild(cancel);\n",
              "  cancel.textContent = 'Cancel upload';\n",
              "  const cancelPromise = new Promise((resolve) => {\n",
              "    cancel.onclick = () => {\n",
              "      resolve(null);\n",
              "    };\n",
              "  });\n",
              "\n",
              "  // Wait for the user to pick the files.\n",
              "  const files = yield {\n",
              "    promise: Promise.race([pickedPromise, cancelPromise]),\n",
              "    response: {\n",
              "      action: 'starting',\n",
              "    }\n",
              "  };\n",
              "\n",
              "  cancel.remove();\n",
              "\n",
              "  // Disable the input element since further picks are not allowed.\n",
              "  inputElement.disabled = true;\n",
              "\n",
              "  if (!files) {\n",
              "    return {\n",
              "      response: {\n",
              "        action: 'complete',\n",
              "      }\n",
              "    };\n",
              "  }\n",
              "\n",
              "  for (const file of files) {\n",
              "    const li = document.createElement('li');\n",
              "    li.append(span(file.name, {fontWeight: 'bold'}));\n",
              "    li.append(span(\n",
              "        `(${file.type || 'n/a'}) - ${file.size} bytes, ` +\n",
              "        `last modified: ${\n",
              "            file.lastModifiedDate ? file.lastModifiedDate.toLocaleDateString() :\n",
              "                                    'n/a'} - `));\n",
              "    const percent = span('0% done');\n",
              "    li.appendChild(percent);\n",
              "\n",
              "    outputElement.appendChild(li);\n",
              "\n",
              "    const fileDataPromise = new Promise((resolve) => {\n",
              "      const reader = new FileReader();\n",
              "      reader.onload = (e) => {\n",
              "        resolve(e.target.result);\n",
              "      };\n",
              "      reader.readAsArrayBuffer(file);\n",
              "    });\n",
              "    // Wait for the data to be ready.\n",
              "    let fileData = yield {\n",
              "      promise: fileDataPromise,\n",
              "      response: {\n",
              "        action: 'continue',\n",
              "      }\n",
              "    };\n",
              "\n",
              "    // Use a chunked sending to avoid message size limits. See b/62115660.\n",
              "    let position = 0;\n",
              "    do {\n",
              "      const length = Math.min(fileData.byteLength - position, MAX_PAYLOAD_SIZE);\n",
              "      const chunk = new Uint8Array(fileData, position, length);\n",
              "      position += length;\n",
              "\n",
              "      const base64 = btoa(String.fromCharCode.apply(null, chunk));\n",
              "      yield {\n",
              "        response: {\n",
              "          action: 'append',\n",
              "          file: file.name,\n",
              "          data: base64,\n",
              "        },\n",
              "      };\n",
              "\n",
              "      let percentDone = fileData.byteLength === 0 ?\n",
              "          100 :\n",
              "          Math.round((position / fileData.byteLength) * 100);\n",
              "      percent.textContent = `${percentDone}% done`;\n",
              "\n",
              "    } while (position < fileData.byteLength);\n",
              "  }\n",
              "\n",
              "  // All done.\n",
              "  yield {\n",
              "    response: {\n",
              "      action: 'complete',\n",
              "    }\n",
              "  };\n",
              "}\n",
              "\n",
              "scope.google = scope.google || {};\n",
              "scope.google.colab = scope.google.colab || {};\n",
              "scope.google.colab._files = {\n",
              "  _uploadFiles,\n",
              "  _uploadFilesContinue,\n",
              "};\n",
              "})(self);\n",
              "</script> "
            ]
          },
          "metadata": {}
        },
        {
          "output_type": "stream",
          "name": "stdout",
          "text": [
            "Saving utilization.json to utilization.json\n"
          ]
        }
      ]
    },
    {
      "cell_type": "code",
      "source": [
        "json_df = spark.read.format('json').load('/utilization.json')"
      ],
      "metadata": {
        "id": "gvCaHPjgIUxy"
      },
      "execution_count": null,
      "outputs": []
    },
    {
      "cell_type": "code",
      "source": [
        "json_df.show(10)"
      ],
      "metadata": {
        "colab": {
          "base_uri": "https://localhost:8080/"
        },
        "id": "Qgz1ldJHsfzh",
        "outputId": "dd8070be-f8b7-4172-c987-930e91b59491"
      },
      "execution_count": null,
      "outputs": [
        {
          "output_type": "stream",
          "name": "stdout",
          "text": [
            "+---------------+-------------------+-----------+---------+-------------+\n",
            "|cpu_utilization|     event_datetime|free_memory|server_id|session_count|\n",
            "+---------------+-------------------+-----------+---------+-------------+\n",
            "|           0.57|03/05/2019 08:06:14|       0.51|      100|           47|\n",
            "|           0.47|03/05/2019 08:11:14|       0.62|      100|           43|\n",
            "|           0.56|03/05/2019 08:16:14|       0.57|      100|           62|\n",
            "|           0.57|03/05/2019 08:21:14|       0.56|      100|           50|\n",
            "|           0.35|03/05/2019 08:26:14|       0.46|      100|           43|\n",
            "|           0.41|03/05/2019 08:31:14|       0.58|      100|           48|\n",
            "|           0.57|03/05/2019 08:36:14|       0.35|      100|           58|\n",
            "|           0.41|03/05/2019 08:41:14|        0.4|      100|           58|\n",
            "|           0.53|03/05/2019 08:46:14|       0.35|      100|           62|\n",
            "|           0.51|03/05/2019 08:51:14|        0.6|      100|           45|\n",
            "+---------------+-------------------+-----------+---------+-------------+\n",
            "only showing top 10 rows\n",
            "\n"
          ]
        }
      ]
    },
    {
      "cell_type": "code",
      "source": [
        "json_df.count()"
      ],
      "metadata": {
        "colab": {
          "base_uri": "https://localhost:8080/"
        },
        "id": "e0YHdFCxs9Xv",
        "outputId": "d72b64f0-5e4d-4b42-c280-80d479baaec4"
      },
      "execution_count": null,
      "outputs": [
        {
          "output_type": "execute_result",
          "data": {
            "text/plain": [
              "500000"
            ]
          },
          "metadata": {},
          "execution_count": 25
        }
      ]
    },
    {
      "cell_type": "code",
      "source": [
        "json_df.columns"
      ],
      "metadata": {
        "colab": {
          "base_uri": "https://localhost:8080/"
        },
        "id": "a6S53gZnuIX4",
        "outputId": "05c76fc6-4963-4452-b85d-d007419dfafd"
      },
      "execution_count": null,
      "outputs": [
        {
          "output_type": "execute_result",
          "data": {
            "text/plain": [
              "['cpu_utilization',\n",
              " 'event_datetime',\n",
              " 'free_memory',\n",
              " 'server_id',\n",
              " 'session_count']"
            ]
          },
          "metadata": {},
          "execution_count": 26
        }
      ]
    },
    {
      "cell_type": "markdown",
      "source": [
        "#Dataframe Operations"
      ],
      "metadata": {
        "id": "1etFvCu1t-2y"
      }
    },
    {
      "cell_type": "markdown",
      "source": [
        "##Sampling"
      ],
      "metadata": {
        "id": "S3dYXYhkuV2y"
      }
    },
    {
      "cell_type": "code",
      "source": [
        "df_sample = json_df.sample(withReplacement=False, fraction=0.1, seed=611)\n",
        "df_sample.show()"
      ],
      "metadata": {
        "colab": {
          "base_uri": "https://localhost:8080/"
        },
        "id": "PefnlpfJuBUO",
        "outputId": "7d0688c2-54a4-47a4-d64c-5867edb1de34"
      },
      "execution_count": null,
      "outputs": [
        {
          "output_type": "stream",
          "name": "stdout",
          "text": [
            "+---------------+-------------------+-----------+---------+-------------+\n",
            "|cpu_utilization|     event_datetime|free_memory|server_id|session_count|\n",
            "+---------------+-------------------+-----------+---------+-------------+\n",
            "|           0.66|03/05/2019 09:06:14|       0.72|      100|           57|\n",
            "|           0.56|03/05/2019 10:26:14|       0.69|      100|           44|\n",
            "|           0.32|03/05/2019 11:01:14|       0.56|      100|           53|\n",
            "|            0.5|03/05/2019 12:16:14|        0.5|      100|           51|\n",
            "|           0.55|03/05/2019 13:16:14|       0.69|      100|           66|\n",
            "|           0.39|03/05/2019 15:01:14|       0.52|      100|           48|\n",
            "|           0.56|03/05/2019 16:41:14|       0.59|      100|           65|\n",
            "|           0.66|03/05/2019 16:51:14|       0.35|      100|           64|\n",
            "|            0.4|03/05/2019 17:21:14|       0.41|      100|           43|\n",
            "|            0.4|03/05/2019 17:51:14|       0.51|      100|           53|\n",
            "|           0.28|03/05/2019 18:31:14|       0.72|      100|           57|\n",
            "|           0.31|03/05/2019 18:36:14|       0.34|      100|           70|\n",
            "|           0.52|03/05/2019 18:56:14|       0.66|      100|           47|\n",
            "|           0.49|03/05/2019 20:51:14|        0.5|      100|           38|\n",
            "|           0.54|03/05/2019 21:06:14|       0.35|      100|           62|\n",
            "|           0.31|03/05/2019 21:11:14|        0.6|      100|           62|\n",
            "|           0.51|03/05/2019 21:56:14|       0.56|      100|           42|\n",
            "|           0.48|03/05/2019 22:41:14|       0.68|      100|           50|\n",
            "|            0.5|03/05/2019 23:01:14|       0.36|      100|           52|\n",
            "|           0.35|03/05/2019 23:21:14|       0.64|      100|           38|\n",
            "+---------------+-------------------+-----------+---------+-------------+\n",
            "only showing top 20 rows\n",
            "\n"
          ]
        }
      ]
    },
    {
      "cell_type": "code",
      "source": [
        "df_sample.count()"
      ],
      "metadata": {
        "colab": {
          "base_uri": "https://localhost:8080/"
        },
        "id": "x-M_UaOBx5VY",
        "outputId": "0cb06f94-9deb-493b-d2f4-5a5a66f05880"
      },
      "execution_count": null,
      "outputs": [
        {
          "output_type": "execute_result",
          "data": {
            "text/plain": [
              "50171"
            ]
          },
          "metadata": {},
          "execution_count": 49
        }
      ]
    },
    {
      "cell_type": "code",
      "source": [
        "df_sample.groupBy('server_id').agg({'cpu_utilization':'mean'}).orderBy('server_id').show(10)"
      ],
      "metadata": {
        "colab": {
          "base_uri": "https://localhost:8080/"
        },
        "id": "j-7QrKhLx8Zi",
        "outputId": "08b92737-384c-4a11-ae5b-e43b76cd7d37"
      },
      "execution_count": null,
      "outputs": [
        {
          "output_type": "stream",
          "name": "stdout",
          "text": [
            "+---------+--------------------+\n",
            "|server_id|avg(cpu_utilization)|\n",
            "+---------+--------------------+\n",
            "|      100|  0.4574302788844616|\n",
            "|      101|   0.800517412935325|\n",
            "|      102|  0.7549898785425116|\n",
            "|      103|  0.7627385496183201|\n",
            "|      104|  0.7088264794383129|\n",
            "|      105| 0.49335317460317507|\n",
            "|      106| 0.42642192347466434|\n",
            "|      107|  0.6552186588921286|\n",
            "|      108|  0.7464645426515926|\n",
            "|      109|  0.5614764397905764|\n",
            "+---------+--------------------+\n",
            "only showing top 10 rows\n",
            "\n"
          ]
        }
      ]
    },
    {
      "cell_type": "code",
      "source": [
        "json_df.groupBy('server_id').agg({'cpu_utilization':'mean'}).orderBy('server_id').show(10)"
      ],
      "metadata": {
        "colab": {
          "base_uri": "https://localhost:8080/"
        },
        "id": "6jM99_Q8x8fr",
        "outputId": "fc84ac4d-a150-4230-f076-f605e56945f9"
      },
      "execution_count": null,
      "outputs": [
        {
          "output_type": "stream",
          "name": "stdout",
          "text": [
            "+---------+--------------------+\n",
            "|server_id|avg(cpu_utilization)|\n",
            "+---------+--------------------+\n",
            "|      100|   0.467506000000003|\n",
            "|      101|  0.7985559999999872|\n",
            "|      102|  0.7583949999999904|\n",
            "|      103|  0.7614389999999969|\n",
            "|      104|  0.7108530000000015|\n",
            "|      105| 0.49256400000000206|\n",
            "|      106|  0.4220220000000024|\n",
            "|      107|  0.6505060000000048|\n",
            "|      108|  0.7476360000000036|\n",
            "|      109|  0.5630629999999914|\n",
            "+---------+--------------------+\n",
            "only showing top 10 rows\n",
            "\n"
          ]
        }
      ]
    },
    {
      "cell_type": "markdown",
      "source": [
        "##Sorting"
      ],
      "metadata": {
        "id": "kEo5akBduvIf"
      }
    },
    {
      "cell_type": "code",
      "source": [
        "df_sort = df_sample.sort('event_datetime')\n",
        "df_sort.show()"
      ],
      "metadata": {
        "colab": {
          "base_uri": "https://localhost:8080/"
        },
        "id": "M1BesePAuwAX",
        "outputId": "3981bebd-a004-4da0-dcc4-f3cd1922e723"
      },
      "execution_count": null,
      "outputs": [
        {
          "output_type": "stream",
          "name": "stdout",
          "text": [
            "+---------------+-------------------+-----------+---------+-------------+\n",
            "|cpu_utilization|     event_datetime|free_memory|server_id|session_count|\n",
            "+---------------+-------------------+-----------+---------+-------------+\n",
            "|           0.61|03/05/2019 08:06:17|       0.12|      102|           71|\n",
            "|           0.64|03/05/2019 08:06:19|       0.32|      103|           96|\n",
            "|           0.51|03/05/2019 08:06:46|       0.49|      119|           53|\n",
            "|            0.5|03/05/2019 08:07:09|       0.49|      132|           65|\n",
            "|           0.85|03/05/2019 08:07:41|       0.23|      148|           91|\n",
            "|           0.58|03/05/2019 08:11:31|       0.61|      110|           76|\n",
            "|           0.58|03/05/2019 08:11:48|       0.38|      120|           64|\n",
            "|           0.33|03/05/2019 08:11:54|       0.75|      124|           41|\n",
            "|           0.47|03/05/2019 08:12:00|       0.32|      127|           65|\n",
            "|           0.46|03/05/2019 08:12:31|       0.56|      143|           52|\n",
            "|           0.91|03/05/2019 08:16:17|       0.33|      102|           75|\n",
            "|           0.46|03/05/2019 08:16:43|       0.53|      117|           58|\n",
            "|           0.46|03/05/2019 08:22:03|       0.28|      129|           58|\n",
            "|            0.6|03/05/2019 08:22:12|       0.14|      133|           86|\n",
            "|           0.74|03/05/2019 08:22:25|       0.31|      140|           79|\n",
            "|           0.69|03/05/2019 08:26:33|       0.24|      111|           77|\n",
            "|           0.34|03/05/2019 08:31:41|       0.56|      116|           60|\n",
            "|           0.27|03/05/2019 08:31:46|       0.66|      119|           56|\n",
            "|            0.8|03/05/2019 08:32:25|       0.49|      140|           62|\n",
            "|           0.59|03/05/2019 08:32:39|       0.39|      147|           65|\n",
            "+---------------+-------------------+-----------+---------+-------------+\n",
            "only showing top 20 rows\n",
            "\n"
          ]
        }
      ]
    },
    {
      "cell_type": "markdown",
      "source": [
        "##Filtering"
      ],
      "metadata": {
        "id": "X_iQEF3ku5iW"
      }
    },
    {
      "cell_type": "code",
      "source": [
        "df_time = spark.read.csv('/location_temp.csv', header=True, inferSchema=True)\n",
        "df_time.show(5)"
      ],
      "metadata": {
        "colab": {
          "base_uri": "https://localhost:8080/"
        },
        "id": "zSoJDy3ku6Uf",
        "outputId": "a485aa07-5c60-4fd7-b3b5-4d317db4ed83"
      },
      "execution_count": null,
      "outputs": [
        {
          "output_type": "stream",
          "name": "stdout",
          "text": [
            "+-------------------+-----------+------------+\n",
            "|         event_date|location_id|temp_celcius|\n",
            "+-------------------+-----------+------------+\n",
            "|03/04/2019 19:48:06|       loc0|          29|\n",
            "|03/04/2019 19:53:06|       loc0|          27|\n",
            "|03/04/2019 19:58:06|       loc0|          28|\n",
            "|03/04/2019 20:03:06|       loc0|          30|\n",
            "|03/04/2019 20:08:06|       loc0|          27|\n",
            "+-------------------+-----------+------------+\n",
            "only showing top 5 rows\n",
            "\n"
          ]
        }
      ]
    },
    {
      "cell_type": "code",
      "source": [
        "df_time.filter(df_time['location_id']==\"loc0\").show(10)"
      ],
      "metadata": {
        "colab": {
          "base_uri": "https://localhost:8080/"
        },
        "id": "TW0-hjMmvGQP",
        "outputId": "483ebc13-f5db-4a37-882d-e5a649cf0a40"
      },
      "execution_count": null,
      "outputs": [
        {
          "output_type": "stream",
          "name": "stdout",
          "text": [
            "+-------------------+-----------+------------+\n",
            "|         event_date|location_id|temp_celcius|\n",
            "+-------------------+-----------+------------+\n",
            "|03/04/2019 19:48:06|       loc0|          29|\n",
            "|03/04/2019 19:53:06|       loc0|          27|\n",
            "|03/04/2019 19:58:06|       loc0|          28|\n",
            "|03/04/2019 20:03:06|       loc0|          30|\n",
            "|03/04/2019 20:08:06|       loc0|          27|\n",
            "|03/04/2019 20:13:06|       loc0|          27|\n",
            "|03/04/2019 20:18:06|       loc0|          27|\n",
            "|03/04/2019 20:23:06|       loc0|          29|\n",
            "|03/04/2019 20:28:06|       loc0|          32|\n",
            "|03/04/2019 20:33:06|       loc0|          35|\n",
            "+-------------------+-----------+------------+\n",
            "only showing top 10 rows\n",
            "\n"
          ]
        }
      ]
    },
    {
      "cell_type": "code",
      "source": [
        "df_time.filter(df_time['location_id']==\"loc0\").count()"
      ],
      "metadata": {
        "colab": {
          "base_uri": "https://localhost:8080/"
        },
        "id": "4wEeJS7wvTCw",
        "outputId": "186e9655-2c9a-457f-f361-8d1cdcc4c446"
      },
      "execution_count": null,
      "outputs": [
        {
          "output_type": "execute_result",
          "data": {
            "text/plain": [
              "1000"
            ]
          },
          "metadata": {},
          "execution_count": 31
        }
      ]
    },
    {
      "cell_type": "code",
      "source": [
        "df_time.select('location_id').distinct().sort('location_id').show()"
      ],
      "metadata": {
        "colab": {
          "base_uri": "https://localhost:8080/"
        },
        "id": "gEC3trL5vWnP",
        "outputId": "72d66703-3828-447e-b750-d88ef399e92b"
      },
      "execution_count": null,
      "outputs": [
        {
          "output_type": "stream",
          "name": "stdout",
          "text": [
            "+-----------+\n",
            "|location_id|\n",
            "+-----------+\n",
            "|       loc0|\n",
            "|       loc1|\n",
            "|      loc10|\n",
            "|     loc100|\n",
            "|     loc101|\n",
            "|     loc102|\n",
            "|     loc103|\n",
            "|     loc104|\n",
            "|     loc105|\n",
            "|     loc106|\n",
            "|     loc107|\n",
            "|     loc108|\n",
            "|     loc109|\n",
            "|      loc11|\n",
            "|     loc110|\n",
            "|     loc111|\n",
            "|     loc112|\n",
            "|     loc113|\n",
            "|     loc114|\n",
            "|     loc115|\n",
            "+-----------+\n",
            "only showing top 20 rows\n",
            "\n"
          ]
        }
      ]
    },
    {
      "cell_type": "markdown",
      "source": [
        "##Aggregation"
      ],
      "metadata": {
        "id": "qHRzGpT4v7Kt"
      }
    },
    {
      "cell_type": "code",
      "source": [
        "df_time.columns"
      ],
      "metadata": {
        "colab": {
          "base_uri": "https://localhost:8080/"
        },
        "id": "cRHNv2mQv8wu",
        "outputId": "83ca64da-6159-4360-e104-05d68e05050b"
      },
      "execution_count": null,
      "outputs": [
        {
          "output_type": "execute_result",
          "data": {
            "text/plain": [
              "['event_date', 'location_id', 'temp_celcius']"
            ]
          },
          "metadata": {},
          "execution_count": 37
        }
      ]
    },
    {
      "cell_type": "code",
      "source": [
        "df_time.groupBy('location_id').count().show()"
      ],
      "metadata": {
        "colab": {
          "base_uri": "https://localhost:8080/"
        },
        "id": "n9G3ORGtwBAw",
        "outputId": "80902887-8eb0-4d5d-c1f8-6d5de6d3e551"
      },
      "execution_count": null,
      "outputs": [
        {
          "output_type": "stream",
          "name": "stdout",
          "text": [
            "+-----------+-----+\n",
            "|location_id|count|\n",
            "+-----------+-----+\n",
            "|     loc196| 1000|\n",
            "|     loc226| 1000|\n",
            "|     loc463| 1000|\n",
            "|     loc150| 1000|\n",
            "|     loc292| 1000|\n",
            "|     loc311| 1000|\n",
            "|      loc22| 1000|\n",
            "|     loc351| 1000|\n",
            "|     loc370| 1000|\n",
            "|     loc419| 1000|\n",
            "|      loc31| 1000|\n",
            "|     loc305| 1000|\n",
            "|      loc82| 1000|\n",
            "|      loc90| 1000|\n",
            "|     loc118| 1000|\n",
            "|     loc195| 1000|\n",
            "|     loc208| 1000|\n",
            "|      loc39| 1000|\n",
            "|      loc75| 1000|\n",
            "|     loc228| 1000|\n",
            "+-----------+-----+\n",
            "only showing top 20 rows\n",
            "\n"
          ]
        }
      ]
    },
    {
      "cell_type": "code",
      "source": [
        "df_time.groupBy('location_id').agg({'temp_celcius':'mean'}).show()"
      ],
      "metadata": {
        "colab": {
          "base_uri": "https://localhost:8080/"
        },
        "id": "p_eG1Upgwodx",
        "outputId": "14f06405-b3bf-45dc-91b3-f345ea703c8a"
      },
      "execution_count": null,
      "outputs": [
        {
          "output_type": "stream",
          "name": "stdout",
          "text": [
            "+-----------+-----------------+\n",
            "|location_id|avg(temp_celcius)|\n",
            "+-----------+-----------------+\n",
            "|     loc196|           29.225|\n",
            "|     loc226|           25.306|\n",
            "|     loc463|           23.317|\n",
            "|     loc150|           32.188|\n",
            "|     loc292|           29.159|\n",
            "|     loc311|           24.308|\n",
            "|      loc22|           28.251|\n",
            "|     loc351|           28.194|\n",
            "|     loc370|            29.14|\n",
            "|     loc419|           29.141|\n",
            "|      loc31|           25.196|\n",
            "|     loc305|           27.314|\n",
            "|      loc82|           27.355|\n",
            "|      loc90|           23.216|\n",
            "|     loc118|           24.219|\n",
            "|     loc195|            27.25|\n",
            "|     loc208|           26.206|\n",
            "|      loc39|           25.199|\n",
            "|      loc75|           23.209|\n",
            "|     loc228|           27.295|\n",
            "+-----------+-----------------+\n",
            "only showing top 20 rows\n",
            "\n"
          ]
        }
      ]
    },
    {
      "cell_type": "markdown",
      "source": [
        "#Write Dataframe to file"
      ],
      "metadata": {
        "id": "LeN26c8y0AzW"
      }
    },
    {
      "cell_type": "code",
      "source": [
        "df_sample.write.csv('df_sample.csv')"
      ],
      "metadata": {
        "id": "xwZXhphAx8ns"
      },
      "execution_count": null,
      "outputs": []
    },
    {
      "cell_type": "code",
      "source": [
        "! ls df_sample.csv"
      ],
      "metadata": {
        "colab": {
          "base_uri": "https://localhost:8080/"
        },
        "id": "QJhGtctcx8pB",
        "outputId": "e9ae5318-657f-4871-e3a0-f6e427ab955a"
      },
      "execution_count": null,
      "outputs": [
        {
          "output_type": "stream",
          "name": "stdout",
          "text": [
            "part-00000-b27803b5-2d09-4b21-ab61-749dbb0d4f95-c000.csv  _SUCCESS\n",
            "part-00001-b27803b5-2d09-4b21-ab61-749dbb0d4f95-c000.csv\n"
          ]
        }
      ]
    },
    {
      "cell_type": "code",
      "source": [
        "! head df_sample.csv/part-00000-b27803b5-2d09-4b21-ab61-749dbb0d4f95-c000.csv"
      ],
      "metadata": {
        "colab": {
          "base_uri": "https://localhost:8080/"
        },
        "id": "uYw0f9lrzzUo",
        "outputId": "240fae84-7c8f-465d-a9f2-5c5d306b6fd3"
      },
      "execution_count": null,
      "outputs": [
        {
          "output_type": "stream",
          "name": "stdout",
          "text": [
            "0.66,03/05/2019 09:06:14,0.72,100,57\n",
            "0.56,03/05/2019 10:26:14,0.69,100,44\n",
            "0.32,03/05/2019 11:01:14,0.56,100,53\n",
            "0.5,03/05/2019 12:16:14,0.5,100,51\n",
            "0.55,03/05/2019 13:16:14,0.69,100,66\n",
            "0.39,03/05/2019 15:01:14,0.52,100,48\n",
            "0.56,03/05/2019 16:41:14,0.59,100,65\n",
            "0.66,03/05/2019 16:51:14,0.35,100,64\n",
            "0.4,03/05/2019 17:21:14,0.41,100,43\n",
            "0.4,03/05/2019 17:51:14,0.51,100,53\n"
          ]
        }
      ]
    }
  ]
}