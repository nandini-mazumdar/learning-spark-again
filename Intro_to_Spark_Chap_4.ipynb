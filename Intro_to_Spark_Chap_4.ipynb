{
  "nbformat": 4,
  "nbformat_minor": 0,
  "metadata": {
    "colab": {
      "provenance": [],
      "mount_file_id": "1V2YE_viB3FfWvhK_Rns0uGWU2AwOUAhl",
      "authorship_tag": "ABX9TyP5bywoLJZf1haO7F0vvPGl",
      "include_colab_link": true
    },
    "kernelspec": {
      "name": "python3",
      "display_name": "Python 3"
    },
    "language_info": {
      "name": "python"
    }
  },
  "cells": [
    {
      "cell_type": "markdown",
      "metadata": {
        "id": "view-in-github",
        "colab_type": "text"
      },
      "source": [
        "<a href=\"https://colab.research.google.com/github/nandini-mazumdar/learning-spark-again/blob/main/Intro_to_Spark_Chap_4.ipynb\" target=\"_parent\"><img src=\"https://colab.research.google.com/assets/colab-badge.svg\" alt=\"Open In Colab\"/></a>"
      ]
    },
    {
      "cell_type": "code",
      "source": [
        "!apt-get install openjdk-8-jdk-headless -qq > /dev/null\n",
        "!wget -q http://archive.apache.org/dist/spark/spark-3.1.1/spark-3.1.1-bin-hadoop3.2.tgz\n",
        "!tar xf spark-3.1.1-bin-hadoop3.2.tgz\n",
        "!pip install -q findspark"
      ],
      "metadata": {
        "id": "CybOHUnNDHP6"
      },
      "execution_count": null,
      "outputs": []
    },
    {
      "cell_type": "code",
      "source": [
        "import os\n",
        "os.environ[\"JAVA_HOME\"] = \"/usr/lib/jvm/java-8-openjdk-amd64\"\n",
        "os.environ[\"SPARK_HOME\"] = \"/content/spark-3.1.1-bin-hadoop3.2\""
      ],
      "metadata": {
        "id": "F7LxPp3QDISJ"
      },
      "execution_count": null,
      "outputs": []
    },
    {
      "cell_type": "code",
      "execution_count": null,
      "metadata": {
        "colab": {
          "base_uri": "https://localhost:8080/",
          "height": 219
        },
        "id": "Dbpx3XKdBSrg",
        "outputId": "6b142d0a-d9cb-4846-e40e-46724ad40fd3"
      },
      "outputs": [
        {
          "output_type": "execute_result",
          "data": {
            "text/plain": [
              "<pyspark.sql.session.SparkSession at 0x7f0ae80e9160>"
            ],
            "text/html": [
              "\n",
              "            <div>\n",
              "                <p><b>SparkSession - in-memory</b></p>\n",
              "                \n",
              "        <div>\n",
              "            <p><b>SparkContext</b></p>\n",
              "\n",
              "            <p><a href=\"http://03ca52f26278:4040\">Spark UI</a></p>\n",
              "\n",
              "            <dl>\n",
              "              <dt>Version</dt>\n",
              "                <dd><code>v3.1.1</code></dd>\n",
              "              <dt>Master</dt>\n",
              "                <dd><code>local[*]</code></dd>\n",
              "              <dt>AppName</dt>\n",
              "                <dd><code>pyspark-shell</code></dd>\n",
              "            </dl>\n",
              "        </div>\n",
              "        \n",
              "            </div>\n",
              "        "
            ]
          },
          "metadata": {},
          "execution_count": 32
        }
      ],
      "source": [
        "import findspark\n",
        "findspark.init()\n",
        "\n",
        "from pyspark.sql import SparkSession\n",
        "spark = SparkSession.builder.master(\"local[*]\").getOrCreate()\n",
        "spark.conf.set(\"spark.sql.repl.eagerEval.enabled\", True) # Property used to format output tables better\n",
        "spark"
      ]
    },
    {
      "cell_type": "markdown",
      "source": [
        "#Spark SQL"
      ],
      "metadata": {
        "id": "ijNKlpLC2_ju"
      }
    },
    {
      "cell_type": "markdown",
      "source": [
        "##Reading Data"
      ],
      "metadata": {
        "id": "XuCc7xQc3C94"
      }
    },
    {
      "cell_type": "code",
      "source": [
        "df = spark.read.json('/content/drive/MyDrive/Colab Notebooks/LinkedIn_Learining_Intro_to_Spark_Data/utilization.json')\n",
        "df.show(10)"
      ],
      "metadata": {
        "colab": {
          "base_uri": "https://localhost:8080/"
        },
        "id": "D2SEdvCc05XE",
        "outputId": "6e29e1a2-5eb6-4857-d866-6ab498d0deb7"
      },
      "execution_count": null,
      "outputs": [
        {
          "output_type": "stream",
          "name": "stdout",
          "text": [
            "+---------------+-------------------+-----------+---------+-------------+\n",
            "|cpu_utilization|     event_datetime|free_memory|server_id|session_count|\n",
            "+---------------+-------------------+-----------+---------+-------------+\n",
            "|           0.57|03/05/2019 08:06:14|       0.51|      100|           47|\n",
            "|           0.47|03/05/2019 08:11:14|       0.62|      100|           43|\n",
            "|           0.56|03/05/2019 08:16:14|       0.57|      100|           62|\n",
            "|           0.57|03/05/2019 08:21:14|       0.56|      100|           50|\n",
            "|           0.35|03/05/2019 08:26:14|       0.46|      100|           43|\n",
            "|           0.41|03/05/2019 08:31:14|       0.58|      100|           48|\n",
            "|           0.57|03/05/2019 08:36:14|       0.35|      100|           58|\n",
            "|           0.41|03/05/2019 08:41:14|        0.4|      100|           58|\n",
            "|           0.53|03/05/2019 08:46:14|       0.35|      100|           62|\n",
            "|           0.51|03/05/2019 08:51:14|        0.6|      100|           45|\n",
            "+---------------+-------------------+-----------+---------+-------------+\n",
            "only showing top 10 rows\n",
            "\n"
          ]
        }
      ]
    },
    {
      "cell_type": "code",
      "source": [
        "df.count()"
      ],
      "metadata": {
        "colab": {
          "base_uri": "https://localhost:8080/"
        },
        "id": "E_aiBvbR1wQU",
        "outputId": "96050afd-7c46-41f4-c3c0-b80963bd7661"
      },
      "execution_count": null,
      "outputs": [
        {
          "output_type": "execute_result",
          "data": {
            "text/plain": [
              "500000"
            ]
          },
          "metadata": {},
          "execution_count": 6
        }
      ]
    },
    {
      "cell_type": "code",
      "source": [
        "df.createOrReplaceTempView(\"utilization\")"
      ],
      "metadata": {
        "id": "ia4DLg7U185T"
      },
      "execution_count": null,
      "outputs": []
    },
    {
      "cell_type": "code",
      "source": [
        "df_sql = spark.sql(\"Select * From utilization Limit 20\")"
      ],
      "metadata": {
        "id": "FLJzDDmd2Gj8"
      },
      "execution_count": null,
      "outputs": []
    },
    {
      "cell_type": "code",
      "source": [
        "df_sql.show()"
      ],
      "metadata": {
        "colab": {
          "base_uri": "https://localhost:8080/"
        },
        "id": "pMmwxuTN2NFz",
        "outputId": "540ecebf-aafb-4047-c78a-10ad3fae86be"
      },
      "execution_count": null,
      "outputs": [
        {
          "output_type": "stream",
          "name": "stdout",
          "text": [
            "+---------------+-------------------+-----------+---------+-------------+\n",
            "|cpu_utilization|     event_datetime|free_memory|server_id|session_count|\n",
            "+---------------+-------------------+-----------+---------+-------------+\n",
            "|           0.57|03/05/2019 08:06:14|       0.51|      100|           47|\n",
            "|           0.47|03/05/2019 08:11:14|       0.62|      100|           43|\n",
            "|           0.56|03/05/2019 08:16:14|       0.57|      100|           62|\n",
            "|           0.57|03/05/2019 08:21:14|       0.56|      100|           50|\n",
            "|           0.35|03/05/2019 08:26:14|       0.46|      100|           43|\n",
            "|           0.41|03/05/2019 08:31:14|       0.58|      100|           48|\n",
            "|           0.57|03/05/2019 08:36:14|       0.35|      100|           58|\n",
            "|           0.41|03/05/2019 08:41:14|        0.4|      100|           58|\n",
            "|           0.53|03/05/2019 08:46:14|       0.35|      100|           62|\n",
            "|           0.51|03/05/2019 08:51:14|        0.6|      100|           45|\n",
            "|           0.32|03/05/2019 08:56:14|       0.37|      100|           47|\n",
            "|           0.62|03/05/2019 09:01:14|       0.59|      100|           60|\n",
            "|           0.66|03/05/2019 09:06:14|       0.72|      100|           57|\n",
            "|           0.54|03/05/2019 09:11:14|       0.54|      100|           44|\n",
            "|           0.29|03/05/2019 09:16:14|        0.4|      100|           47|\n",
            "|           0.43|03/05/2019 09:21:14|       0.68|      100|           66|\n",
            "|           0.49|03/05/2019 09:26:14|       0.66|      100|           65|\n",
            "|           0.64|03/05/2019 09:31:14|       0.55|      100|           66|\n",
            "|           0.42|03/05/2019 09:36:14|        0.6|      100|           42|\n",
            "|           0.55|03/05/2019 09:41:14|       0.59|      100|           63|\n",
            "+---------------+-------------------+-----------+---------+-------------+\n",
            "\n"
          ]
        }
      ]
    },
    {
      "cell_type": "code",
      "source": [
        "spark.sql(\"Select server_id, session_count From utilization Limit 10\").show()"
      ],
      "metadata": {
        "colab": {
          "base_uri": "https://localhost:8080/"
        },
        "id": "sKvV9HH22RHz",
        "outputId": "f3da07ec-54e0-44df-c6fc-16c696279318"
      },
      "execution_count": null,
      "outputs": [
        {
          "output_type": "stream",
          "name": "stdout",
          "text": [
            "+---------+-------------+\n",
            "|server_id|session_count|\n",
            "+---------+-------------+\n",
            "|      100|           47|\n",
            "|      100|           43|\n",
            "|      100|           62|\n",
            "|      100|           50|\n",
            "|      100|           43|\n",
            "|      100|           48|\n",
            "|      100|           58|\n",
            "|      100|           58|\n",
            "|      100|           62|\n",
            "|      100|           45|\n",
            "+---------+-------------+\n",
            "\n"
          ]
        }
      ]
    },
    {
      "cell_type": "code",
      "source": [
        "df_sql_2 = spark.sql(\"Select server_id as s_id, session_count as s_count From Utilization\")"
      ],
      "metadata": {
        "id": "uy7uuyrS2eNL"
      },
      "execution_count": null,
      "outputs": []
    },
    {
      "cell_type": "code",
      "source": [
        "df_sql_2.count()"
      ],
      "metadata": {
        "colab": {
          "base_uri": "https://localhost:8080/"
        },
        "id": "D-CuejW02rfb",
        "outputId": "b4def944-f53a-4f41-9ef9-4432e05cfbff"
      },
      "execution_count": null,
      "outputs": [
        {
          "output_type": "execute_result",
          "data": {
            "text/plain": [
              "500000"
            ]
          },
          "metadata": {},
          "execution_count": 20
        }
      ]
    },
    {
      "cell_type": "code",
      "source": [
        "df_sql_2.show(10)"
      ],
      "metadata": {
        "colab": {
          "base_uri": "https://localhost:8080/"
        },
        "id": "e40VR7z_2v9a",
        "outputId": "d12e993d-ea16-44e2-e0f3-b73884523d6e"
      },
      "execution_count": null,
      "outputs": [
        {
          "output_type": "stream",
          "name": "stdout",
          "text": [
            "+----+-------+\n",
            "|s_id|s_count|\n",
            "+----+-------+\n",
            "| 100|     47|\n",
            "| 100|     43|\n",
            "| 100|     62|\n",
            "| 100|     50|\n",
            "| 100|     43|\n",
            "| 100|     48|\n",
            "| 100|     58|\n",
            "| 100|     58|\n",
            "| 100|     62|\n",
            "| 100|     45|\n",
            "+----+-------+\n",
            "only showing top 10 rows\n",
            "\n"
          ]
        }
      ]
    },
    {
      "cell_type": "markdown",
      "source": [
        "##Filtering"
      ],
      "metadata": {
        "id": "-9HxKZYA3GlL"
      }
    },
    {
      "cell_type": "code",
      "source": [
        "df_sql_3 = spark.sql(\"Select * From utilization Where server_id = 120\")\n",
        "df_sql_3.show(10)"
      ],
      "metadata": {
        "colab": {
          "base_uri": "https://localhost:8080/"
        },
        "id": "3Ouj06CI29ck",
        "outputId": "7a10da54-cbeb-4b74-879d-079c71344eb1"
      },
      "execution_count": null,
      "outputs": [
        {
          "output_type": "stream",
          "name": "stdout",
          "text": [
            "+---------------+-------------------+-----------+---------+-------------+\n",
            "|cpu_utilization|     event_datetime|free_memory|server_id|session_count|\n",
            "+---------------+-------------------+-----------+---------+-------------+\n",
            "|           0.66|03/05/2019 08:06:48|       0.31|      120|           54|\n",
            "|           0.58|03/05/2019 08:11:48|       0.38|      120|           64|\n",
            "|           0.55|03/05/2019 08:16:48|       0.61|      120|           54|\n",
            "|            0.7|03/05/2019 08:21:48|       0.35|      120|           80|\n",
            "|            0.6|03/05/2019 08:26:48|       0.39|      120|           71|\n",
            "|           0.53|03/05/2019 08:31:48|       0.35|      120|           49|\n",
            "|           0.73|03/05/2019 08:36:48|       0.42|      120|           73|\n",
            "|           0.41|03/05/2019 08:41:48|        0.6|      120|           72|\n",
            "|           0.62|03/05/2019 08:46:48|       0.57|      120|           57|\n",
            "|           0.67|03/05/2019 08:51:48|       0.44|      120|           78|\n",
            "+---------------+-------------------+-----------+---------+-------------+\n",
            "only showing top 10 rows\n",
            "\n"
          ]
        }
      ]
    },
    {
      "cell_type": "code",
      "source": [
        "df_sql_3.count()"
      ],
      "metadata": {
        "colab": {
          "base_uri": "https://localhost:8080/"
        },
        "id": "7JCE5mbE3cCD",
        "outputId": "b51c00df-dead-47dc-c9c1-340d7b79ef06"
      },
      "execution_count": null,
      "outputs": [
        {
          "output_type": "execute_result",
          "data": {
            "text/plain": [
              "10000"
            ]
          },
          "metadata": {},
          "execution_count": 24
        }
      ]
    },
    {
      "cell_type": "code",
      "source": [
        "df_sql_4 = spark.sql(\"Select server_id, session_count From utilization Where session_count >= 70\")\n",
        "df_sql_4.show(10)\n",
        "df_sql_4.count()"
      ],
      "metadata": {
        "colab": {
          "base_uri": "https://localhost:8080/"
        },
        "id": "ZmihqaxP3ivT",
        "outputId": "37bdfb5c-6fba-45d0-8ad9-6f0a08efa856"
      },
      "execution_count": null,
      "outputs": [
        {
          "output_type": "stream",
          "name": "stdout",
          "text": [
            "+---------+-------------+\n",
            "|server_id|session_count|\n",
            "+---------+-------------+\n",
            "|      100|           70|\n",
            "|      100|           71|\n",
            "|      100|           70|\n",
            "|      100|           71|\n",
            "|      100|           71|\n",
            "|      100|           70|\n",
            "|      100|           70|\n",
            "|      100|           71|\n",
            "|      100|           72|\n",
            "|      100|           72|\n",
            "+---------+-------------+\n",
            "only showing top 10 rows\n",
            "\n"
          ]
        },
        {
          "output_type": "execute_result",
          "data": {
            "text/plain": [
              "252968"
            ]
          },
          "metadata": {},
          "execution_count": 26
        }
      ]
    },
    {
      "cell_type": "code",
      "source": [
        "df_sql_5 = spark.sql(\"Select server_id, session_count From utilization \\\n",
        "                      Where session_count >= 70 \\\n",
        "                      And server_id = 120 \\\n",
        "                      Order by session_count Desc\")\n",
        "df_sql_5.show(10)\n",
        "df_sql_5.count()"
      ],
      "metadata": {
        "colab": {
          "base_uri": "https://localhost:8080/"
        },
        "id": "JF_pp3ct3wUD",
        "outputId": "7391ef52-7b9f-4f35-d524-279b3f9c0262"
      },
      "execution_count": null,
      "outputs": [
        {
          "output_type": "stream",
          "name": "stdout",
          "text": [
            "+---------+-------------+\n",
            "|server_id|session_count|\n",
            "+---------+-------------+\n",
            "|      120|           80|\n",
            "|      120|           80|\n",
            "|      120|           80|\n",
            "|      120|           80|\n",
            "|      120|           80|\n",
            "|      120|           80|\n",
            "|      120|           80|\n",
            "|      120|           80|\n",
            "|      120|           80|\n",
            "|      120|           80|\n",
            "+---------+-------------+\n",
            "only showing top 10 rows\n",
            "\n"
          ]
        },
        {
          "output_type": "execute_result",
          "data": {
            "text/plain": [
              "3012"
            ]
          },
          "metadata": {},
          "execution_count": 29
        }
      ]
    },
    {
      "cell_type": "markdown",
      "source": [
        "##Aggregation"
      ],
      "metadata": {
        "id": "4C6af0coBppp"
      }
    },
    {
      "cell_type": "code",
      "source": [
        "df_count = spark.sql(\"Select Count(*) From utilization\")\n",
        "df_count.show()"
      ],
      "metadata": {
        "colab": {
          "base_uri": "https://localhost:8080/"
        },
        "id": "KDVd7G2mBqiM",
        "outputId": "00daa052-fd3a-46ab-8fc9-962e848c1faa"
      },
      "execution_count": null,
      "outputs": [
        {
          "output_type": "stream",
          "name": "stdout",
          "text": [
            "+--------+\n",
            "|count(1)|\n",
            "+--------+\n",
            "|  500000|\n",
            "+--------+\n",
            "\n"
          ]
        }
      ]
    },
    {
      "cell_type": "code",
      "source": [
        "df_sql = spark.sql(\"Select server_id, Count(*) as sc \\\n",
        "                    From utilization \\\n",
        "                    Where session_count > 70 \\\n",
        "                    group by server_id \\\n",
        "                    Order by sc Desc\")\n",
        "df_sql.show()"
      ],
      "metadata": {
        "colab": {
          "base_uri": "https://localhost:8080/"
        },
        "id": "ZfW1uYTfBzH0",
        "outputId": "c43a2ba1-d38d-4a29-ab61-e9f3756d0994"
      },
      "execution_count": null,
      "outputs": [
        {
          "output_type": "stream",
          "name": "stdout",
          "text": [
            "+---------+----+\n",
            "|server_id|  sc|\n",
            "+---------+----+\n",
            "|      101|9808|\n",
            "|      113|9418|\n",
            "|      145|9304|\n",
            "|      103|8744|\n",
            "|      102|8586|\n",
            "|      133|8583|\n",
            "|      108|8375|\n",
            "|      149|8288|\n",
            "|      137|8248|\n",
            "|      148|8027|\n",
            "|      123|7918|\n",
            "|      118|7913|\n",
            "|      112|7425|\n",
            "|      139|7383|\n",
            "|      104|7366|\n",
            "|      121|7084|\n",
            "|      142|7084|\n",
            "|      146|7072|\n",
            "|      126|6365|\n",
            "|      144|6220|\n",
            "+---------+----+\n",
            "only showing top 20 rows\n",
            "\n"
          ]
        }
      ]
    },
    {
      "cell_type": "code",
      "source": [
        "df_sql_2 = spark.sql(\"Select server_id, count(*) as total_sc, \\\n",
        "                    min(session_count) as min_sc, \\\n",
        "                    round(avg(session_count),2) as avg_sc, \\\n",
        "                    max(session_count) as max_sc \\\n",
        "                    From utilization \\\n",
        "                    Where session_count > 70 \\\n",
        "                    group by server_id \\\n",
        "                    Order by count(*) Desc\")\n",
        "df_sql_2.show()"
      ],
      "metadata": {
        "colab": {
          "base_uri": "https://localhost:8080/"
        },
        "id": "pKoXfiERCEGT",
        "outputId": "7daa5742-0664-4fb8-f256-65876b31b568"
      },
      "execution_count": null,
      "outputs": [
        {
          "output_type": "stream",
          "name": "stdout",
          "text": [
            "+---------+--------+------+------+------+\n",
            "|server_id|total_sc|min_sc|avg_sc|max_sc|\n",
            "+---------+--------+------+------+------+\n",
            "|      101|    9808|    71| 87.67|   105|\n",
            "|      113|    9418|    71| 86.96|   103|\n",
            "|      145|    9304|    71| 86.98|   103|\n",
            "|      103|    8744|    71| 85.76|   101|\n",
            "|      102|    8586|    71| 85.71|   101|\n",
            "|      133|    8583|    71| 85.47|   100|\n",
            "|      108|    8375|    71| 85.12|   100|\n",
            "|      149|    8288|    71| 84.96|    99|\n",
            "|      137|    8248|    71| 85.01|    99|\n",
            "|      148|    8027|    71|  84.7|    99|\n",
            "|      123|    7918|    71| 84.53|    98|\n",
            "|      118|    7913|    71| 84.66|    98|\n",
            "|      112|    7425|    71| 83.55|    97|\n",
            "|      139|    7383|    71| 83.33|    96|\n",
            "|      104|    7366|    71| 83.35|    96|\n",
            "|      121|    7084|    71| 82.89|    95|\n",
            "|      142|    7084|    71|  82.9|    95|\n",
            "|      146|    7072|    71| 82.95|    95|\n",
            "|      126|    6365|    71| 81.56|    93|\n",
            "|      144|    6220|    71| 81.38|    92|\n",
            "+---------+--------+------+------+------+\n",
            "only showing top 20 rows\n",
            "\n"
          ]
        }
      ]
    },
    {
      "cell_type": "markdown",
      "source": [
        "##Joining Tables"
      ],
      "metadata": {
        "id": "vBCJ-J1RC9n_"
      }
    },
    {
      "cell_type": "code",
      "source": [
        "df_util = spark.sql(\"Select Count(*) From utilization\")\n",
        "df_util.show()"
      ],
      "metadata": {
        "colab": {
          "base_uri": "https://localhost:8080/"
        },
        "id": "bgUS6s72CvlN",
        "outputId": "46124b8d-67e5-4ee6-b70d-3cfa1b36b42d"
      },
      "execution_count": null,
      "outputs": [
        {
          "output_type": "stream",
          "name": "stdout",
          "text": [
            "+--------+\n",
            "|count(1)|\n",
            "+--------+\n",
            "|  500000|\n",
            "+--------+\n",
            "\n"
          ]
        }
      ]
    },
    {
      "cell_type": "code",
      "source": [
        "df_server = spark.read.csv('/content/drive/MyDrive/Colab Notebooks/LinkedIn_Learining_Intro_to_Spark_Data/server_name.csv', header=True, inferSchema=True)\n",
        "df_server.count()"
      ],
      "metadata": {
        "colab": {
          "base_uri": "https://localhost:8080/"
        },
        "id": "aq_6dLxEDIvT",
        "outputId": "3da14011-4b76-4759-f0f6-e6e2dffc1ce1"
      },
      "execution_count": null,
      "outputs": [
        {
          "output_type": "execute_result",
          "data": {
            "text/plain": [
              "50"
            ]
          },
          "metadata": {},
          "execution_count": 47
        }
      ]
    },
    {
      "cell_type": "code",
      "source": [
        "df_server.createOrReplaceTempView('server')"
      ],
      "metadata": {
        "id": "t_wziaHJDbmT"
      },
      "execution_count": null,
      "outputs": []
    },
    {
      "cell_type": "code",
      "source": [
        "df_serv = spark.sql('Select count(*) From server')\n",
        "df_serv.show()"
      ],
      "metadata": {
        "colab": {
          "base_uri": "https://localhost:8080/"
        },
        "id": "vGMT-xgiDotq",
        "outputId": "04c822dd-0b45-4232-9ab7-2862f4e5d87c"
      },
      "execution_count": null,
      "outputs": [
        {
          "output_type": "stream",
          "name": "stdout",
          "text": [
            "+--------+\n",
            "|count(1)|\n",
            "+--------+\n",
            "|      50|\n",
            "+--------+\n",
            "\n"
          ]
        }
      ]
    },
    {
      "cell_type": "code",
      "source": [
        "spark.sql('Select distinct(server_id) From utilization Order by server_id').show()"
      ],
      "metadata": {
        "colab": {
          "base_uri": "https://localhost:8080/"
        },
        "id": "GX9H0gJ6D0yr",
        "outputId": "430325bc-0f5d-4bf7-f110-de5ff57f2aba"
      },
      "execution_count": null,
      "outputs": [
        {
          "output_type": "stream",
          "name": "stdout",
          "text": [
            "+---------+\n",
            "|server_id|\n",
            "+---------+\n",
            "|      100|\n",
            "|      101|\n",
            "|      102|\n",
            "|      103|\n",
            "|      104|\n",
            "|      105|\n",
            "|      106|\n",
            "|      107|\n",
            "|      108|\n",
            "|      109|\n",
            "|      110|\n",
            "|      111|\n",
            "|      112|\n",
            "|      113|\n",
            "|      114|\n",
            "|      115|\n",
            "|      116|\n",
            "|      117|\n",
            "|      118|\n",
            "|      119|\n",
            "+---------+\n",
            "only showing top 20 rows\n",
            "\n"
          ]
        }
      ]
    },
    {
      "cell_type": "code",
      "source": [
        "spark.sql('Select min(server_id), max(server_id) From utilization').show()"
      ],
      "metadata": {
        "colab": {
          "base_uri": "https://localhost:8080/"
        },
        "id": "Yj9o0tBdEDmU",
        "outputId": "9de9713e-52a3-40ef-fc7d-b77ba6dc67a3"
      },
      "execution_count": null,
      "outputs": [
        {
          "output_type": "stream",
          "name": "stdout",
          "text": [
            "+--------------+--------------+\n",
            "|min(server_id)|max(server_id)|\n",
            "+--------------+--------------+\n",
            "|           100|           149|\n",
            "+--------------+--------------+\n",
            "\n"
          ]
        }
      ]
    },
    {
      "cell_type": "code",
      "source": [
        "df_join = spark.sql('Select u.server_id, s.server_name, u.session_count\\\n",
        "                      From utilization u\\\n",
        "                      Inner Join server s\\\n",
        "                      On s.server_id = u.server_id')\n",
        "df_join.show()"
      ],
      "metadata": {
        "colab": {
          "base_uri": "https://localhost:8080/"
        },
        "id": "wt4BN4ayEMw8",
        "outputId": "d1a790e6-ccdc-46dc-b3bc-e471dc34d8aa"
      },
      "execution_count": null,
      "outputs": [
        {
          "output_type": "stream",
          "name": "stdout",
          "text": [
            "+---------+-----------+-------------+\n",
            "|server_id|server_name|session_count|\n",
            "+---------+-----------+-------------+\n",
            "|      100| 100 Server|           47|\n",
            "|      100| 100 Server|           43|\n",
            "|      100| 100 Server|           62|\n",
            "|      100| 100 Server|           50|\n",
            "|      100| 100 Server|           43|\n",
            "|      100| 100 Server|           48|\n",
            "|      100| 100 Server|           58|\n",
            "|      100| 100 Server|           58|\n",
            "|      100| 100 Server|           62|\n",
            "|      100| 100 Server|           45|\n",
            "|      100| 100 Server|           47|\n",
            "|      100| 100 Server|           60|\n",
            "|      100| 100 Server|           57|\n",
            "|      100| 100 Server|           44|\n",
            "|      100| 100 Server|           47|\n",
            "|      100| 100 Server|           66|\n",
            "|      100| 100 Server|           65|\n",
            "|      100| 100 Server|           66|\n",
            "|      100| 100 Server|           42|\n",
            "|      100| 100 Server|           63|\n",
            "+---------+-----------+-------------+\n",
            "only showing top 20 rows\n",
            "\n"
          ]
        }
      ]
    },
    {
      "cell_type": "markdown",
      "source": [
        "##De-duplicate data"
      ],
      "metadata": {
        "id": "H9iDAwjpEyW6"
      }
    },
    {
      "cell_type": "code",
      "source": [
        "from pyspark.sql import Row"
      ],
      "metadata": {
        "id": "ywTreTjLEnpj"
      },
      "execution_count": null,
      "outputs": []
    },
    {
      "cell_type": "code",
      "source": [
        "sc = spark.sparkContext"
      ],
      "metadata": {
        "id": "NMCiWdKpF1fZ"
      },
      "execution_count": null,
      "outputs": []
    },
    {
      "cell_type": "code",
      "source": [
        "df_dup = sc.parallelize([Row(server_name='101 server',cpu_utilization=85,session_count=80),\\\n",
        "                         Row(server_name='101 server',cpu_utilization=80,session_count=90),\\\n",
        "                         Row(server_name='102 server',cpu_utilization=85,session_count=80),\\\n",
        "                         Row(server_name='102 server',cpu_utilization=85,session_count=80)]).toDF()\n",
        "df_dup.show()"
      ],
      "metadata": {
        "colab": {
          "base_uri": "https://localhost:8080/"
        },
        "id": "uzq6U1h7E6qT",
        "outputId": "c9f465ab-3c1d-4466-ce78-9ea6b88c24c8"
      },
      "execution_count": null,
      "outputs": [
        {
          "output_type": "stream",
          "name": "stdout",
          "text": [
            "+-----------+---------------+-------------+\n",
            "|server_name|cpu_utilization|session_count|\n",
            "+-----------+---------------+-------------+\n",
            "| 101 server|             85|           80|\n",
            "| 101 server|             80|           90|\n",
            "| 102 server|             85|           80|\n",
            "| 102 server|             85|           80|\n",
            "+-----------+---------------+-------------+\n",
            "\n"
          ]
        }
      ]
    },
    {
      "cell_type": "code",
      "source": [
        "df_dup.dropDuplicates().show()"
      ],
      "metadata": {
        "colab": {
          "base_uri": "https://localhost:8080/"
        },
        "id": "Telw6nVgFrgk",
        "outputId": "c2d180c7-8602-4933-bd61-f66045c55b38"
      },
      "execution_count": null,
      "outputs": [
        {
          "output_type": "stream",
          "name": "stdout",
          "text": [
            "+-----------+---------------+-------------+\n",
            "|server_name|cpu_utilization|session_count|\n",
            "+-----------+---------------+-------------+\n",
            "| 101 server|             85|           80|\n",
            "| 102 server|             85|           80|\n",
            "| 101 server|             80|           90|\n",
            "+-----------+---------------+-------------+\n",
            "\n"
          ]
        }
      ]
    },
    {
      "cell_type": "code",
      "source": [
        "df_dup.dropDuplicates(['server_name','session_count']).show()"
      ],
      "metadata": {
        "colab": {
          "base_uri": "https://localhost:8080/"
        },
        "id": "yj8z2fcWGBeK",
        "outputId": "b251e7e8-0d55-4104-86fd-fa6ce4682bbd"
      },
      "execution_count": null,
      "outputs": [
        {
          "output_type": "stream",
          "name": "stdout",
          "text": [
            "+-----------+---------------+-------------+\n",
            "|server_name|cpu_utilization|session_count|\n",
            "+-----------+---------------+-------------+\n",
            "| 101 server|             80|           90|\n",
            "| 102 server|             85|           80|\n",
            "| 101 server|             85|           80|\n",
            "+-----------+---------------+-------------+\n",
            "\n"
          ]
        }
      ]
    },
    {
      "cell_type": "markdown",
      "source": [
        "##Missing NA values"
      ],
      "metadata": {
        "id": "wnTUt1vFGRxy"
      }
    },
    {
      "cell_type": "code",
      "source": [
        "from pyspark.sql.functions import lit\n",
        "from pyspark.sql.types import StringType"
      ],
      "metadata": {
        "id": "bZ4XdasLGiQq"
      },
      "execution_count": null,
      "outputs": []
    },
    {
      "cell_type": "code",
      "source": [
        "df_miss = sc.parallelize([Row(server_name='101 server',cpu_utilization=85,session_count=80),\\\n",
        "                          Row(server_name='101 server',cpu_utilization=80,session_count=90),\\\n",
        "                          Row(server_name='102 server',cpu_utilization=85,session_count=40),\\\n",
        "                          Row(server_name='103 server',cpu_utilization=70,session_count=80),\\\n",
        "                          Row(server_name='104 server',cpu_utilization=60,session_count=80)]).toDF()\n",
        "df_miss.show()"
      ],
      "metadata": {
        "colab": {
          "base_uri": "https://localhost:8080/"
        },
        "id": "SgADPNrPGKbq",
        "outputId": "ee5a983b-e70e-4563-8f9a-0e69e7b64604"
      },
      "execution_count": null,
      "outputs": [
        {
          "output_type": "stream",
          "name": "stdout",
          "text": [
            "+-----------+---------------+-------------+\n",
            "|server_name|cpu_utilization|session_count|\n",
            "+-----------+---------------+-------------+\n",
            "| 101 server|             85|           80|\n",
            "| 101 server|             80|           90|\n",
            "| 102 server|             85|           40|\n",
            "| 103 server|             70|           80|\n",
            "| 104 server|             60|           80|\n",
            "+-----------+---------------+-------------+\n",
            "\n"
          ]
        }
      ]
    },
    {
      "cell_type": "code",
      "source": [
        "df_na = df_miss.withColumn('na_col', lit(None).cast(StringType()))\n",
        "df_na.show()"
      ],
      "metadata": {
        "colab": {
          "base_uri": "https://localhost:8080/"
        },
        "id": "UotMCGR_G23a",
        "outputId": "23356d1e-85c2-4ec5-b28b-c453e9335336"
      },
      "execution_count": null,
      "outputs": [
        {
          "output_type": "stream",
          "name": "stdout",
          "text": [
            "+-----------+---------------+-------------+------+\n",
            "|server_name|cpu_utilization|session_count|na_col|\n",
            "+-----------+---------------+-------------+------+\n",
            "| 101 server|             85|           80|  null|\n",
            "| 101 server|             80|           90|  null|\n",
            "| 102 server|             85|           40|  null|\n",
            "| 103 server|             70|           80|  null|\n",
            "| 104 server|             60|           80|  null|\n",
            "+-----------+---------------+-------------+------+\n",
            "\n"
          ]
        }
      ]
    },
    {
      "cell_type": "markdown",
      "source": [
        "###1. Dataframe API"
      ],
      "metadata": {
        "id": "tndK024IIOr_"
      }
    },
    {
      "cell_type": "code",
      "source": [
        "# replace Nulls\n",
        "\n",
        "df_na.fillna('A').show()"
      ],
      "metadata": {
        "colab": {
          "base_uri": "https://localhost:8080/"
        },
        "id": "e_BY-fbNHIl5",
        "outputId": "2131d007-de48-40cc-ae18-7cda178392ef"
      },
      "execution_count": null,
      "outputs": [
        {
          "output_type": "stream",
          "name": "stdout",
          "text": [
            "+-----------+---------------+-------------+------+\n",
            "|server_name|cpu_utilization|session_count|na_col|\n",
            "+-----------+---------------+-------------+------+\n",
            "| 101 server|             85|           80|     A|\n",
            "| 101 server|             80|           90|     A|\n",
            "| 102 server|             85|           40|     A|\n",
            "| 103 server|             70|           80|     A|\n",
            "| 104 server|             60|           80|     A|\n",
            "+-----------+---------------+-------------+------+\n",
            "\n"
          ]
        }
      ]
    },
    {
      "cell_type": "code",
      "source": [
        "df_2 = df_na.fillna('A').union(df_na)"
      ],
      "metadata": {
        "id": "NCaHYbyoHep6"
      },
      "execution_count": null,
      "outputs": []
    },
    {
      "cell_type": "code",
      "source": [
        "df_2.show()"
      ],
      "metadata": {
        "colab": {
          "base_uri": "https://localhost:8080/"
        },
        "id": "C7QDW3JtHonW",
        "outputId": "7af60568-a391-47a0-8c4a-543a5a6f351a"
      },
      "execution_count": null,
      "outputs": [
        {
          "output_type": "stream",
          "name": "stdout",
          "text": [
            "+-----------+---------------+-------------+------+\n",
            "|server_name|cpu_utilization|session_count|na_col|\n",
            "+-----------+---------------+-------------+------+\n",
            "| 101 server|             85|           80|     A|\n",
            "| 101 server|             80|           90|     A|\n",
            "| 102 server|             85|           40|     A|\n",
            "| 103 server|             70|           80|     A|\n",
            "| 104 server|             60|           80|     A|\n",
            "| 101 server|             85|           80|  null|\n",
            "| 101 server|             80|           90|  null|\n",
            "| 102 server|             85|           40|  null|\n",
            "| 103 server|             70|           80|  null|\n",
            "| 104 server|             60|           80|  null|\n",
            "+-----------+---------------+-------------+------+\n",
            "\n"
          ]
        }
      ]
    },
    {
      "cell_type": "code",
      "source": [
        "df_2.na.drop().show()"
      ],
      "metadata": {
        "colab": {
          "base_uri": "https://localhost:8080/"
        },
        "id": "mL22HqXyHpYR",
        "outputId": "8536b904-9e0b-426e-e515-d8e7d6a10c1b"
      },
      "execution_count": null,
      "outputs": [
        {
          "output_type": "stream",
          "name": "stdout",
          "text": [
            "+-----------+---------------+-------------+------+\n",
            "|server_name|cpu_utilization|session_count|na_col|\n",
            "+-----------+---------------+-------------+------+\n",
            "| 101 server|             85|           80|     A|\n",
            "| 101 server|             80|           90|     A|\n",
            "| 102 server|             85|           40|     A|\n",
            "| 103 server|             70|           80|     A|\n",
            "| 104 server|             60|           80|     A|\n",
            "+-----------+---------------+-------------+------+\n",
            "\n"
          ]
        }
      ]
    },
    {
      "cell_type": "markdown",
      "source": [
        "###2. Spark SQL"
      ],
      "metadata": {
        "id": "vCDMXpcPIS8y"
      }
    },
    {
      "cell_type": "code",
      "source": [
        "df_2.createOrReplaceTempView('na_table')"
      ],
      "metadata": {
        "id": "LQL7TOOlH2id"
      },
      "execution_count": null,
      "outputs": []
    },
    {
      "cell_type": "code",
      "source": [
        "spark.sql(\"Select * From na_table\").show()"
      ],
      "metadata": {
        "colab": {
          "base_uri": "https://localhost:8080/"
        },
        "id": "wDSIoCK1H6kQ",
        "outputId": "7874768f-1e56-436b-8e39-c9bb0fca28c8"
      },
      "execution_count": null,
      "outputs": [
        {
          "output_type": "stream",
          "name": "stdout",
          "text": [
            "+-----------+---------------+-------------+------+\n",
            "|server_name|cpu_utilization|session_count|na_col|\n",
            "+-----------+---------------+-------------+------+\n",
            "| 101 server|             85|           80|     A|\n",
            "| 101 server|             80|           90|     A|\n",
            "| 102 server|             85|           40|     A|\n",
            "| 103 server|             70|           80|     A|\n",
            "| 104 server|             60|           80|     A|\n",
            "| 101 server|             85|           80|  null|\n",
            "| 101 server|             80|           90|  null|\n",
            "| 102 server|             85|           40|  null|\n",
            "| 103 server|             70|           80|  null|\n",
            "| 104 server|             60|           80|  null|\n",
            "+-----------+---------------+-------------+------+\n",
            "\n"
          ]
        }
      ]
    },
    {
      "cell_type": "code",
      "source": [
        "spark.sql(\"Select * From na_table\\\n",
        "            Where na_col IS NULL\").show()"
      ],
      "metadata": {
        "colab": {
          "base_uri": "https://localhost:8080/"
        },
        "id": "GVV6BUyuICGh",
        "outputId": "d53998a1-1f62-4ef6-d8f0-28e71dbed78b"
      },
      "execution_count": null,
      "outputs": [
        {
          "output_type": "stream",
          "name": "stdout",
          "text": [
            "+-----------+---------------+-------------+------+\n",
            "|server_name|cpu_utilization|session_count|na_col|\n",
            "+-----------+---------------+-------------+------+\n",
            "| 101 server|             85|           80|  null|\n",
            "| 101 server|             80|           90|  null|\n",
            "| 102 server|             85|           40|  null|\n",
            "| 103 server|             70|           80|  null|\n",
            "| 104 server|             60|           80|  null|\n",
            "+-----------+---------------+-------------+------+\n",
            "\n"
          ]
        }
      ]
    },
    {
      "cell_type": "code",
      "source": [
        "spark.sql(\"Select * From na_table\\\n",
        "            Where na_col IS NOT NULL\").show()"
      ],
      "metadata": {
        "colab": {
          "base_uri": "https://localhost:8080/"
        },
        "id": "Y6lzJI0JII76",
        "outputId": "e69c849b-31b8-4297-99a6-06751a3331b0"
      },
      "execution_count": null,
      "outputs": [
        {
          "output_type": "stream",
          "name": "stdout",
          "text": [
            "+-----------+---------------+-------------+------+\n",
            "|server_name|cpu_utilization|session_count|na_col|\n",
            "+-----------+---------------+-------------+------+\n",
            "| 101 server|             85|           80|     A|\n",
            "| 101 server|             80|           90|     A|\n",
            "| 102 server|             85|           40|     A|\n",
            "| 103 server|             70|           80|     A|\n",
            "| 104 server|             60|           80|     A|\n",
            "+-----------+---------------+-------------+------+\n",
            "\n"
          ]
        }
      ]
    }
  ]
}